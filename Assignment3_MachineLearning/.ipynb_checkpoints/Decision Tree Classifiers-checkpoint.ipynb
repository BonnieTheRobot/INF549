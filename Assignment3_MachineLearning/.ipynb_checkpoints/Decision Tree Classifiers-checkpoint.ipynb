{
 "cells": [
  {
   "cell_type": "markdown",
   "metadata": {},
   "source": [
    "# A Notebook to Use Decision Tree Classifiers"
   ]
  },
  {
   "cell_type": "markdown",
   "metadata": {},
   "source": [
    "This notebook shows how to train a decision tree to classify unseen instances.\n",
    "\n",
    "For those of you interested in understanding the code, it uses predefined functions from the [sklearn](http://scikit-learn.org) library of machine learning primitives and from the [graphviz](http://www.graphviz.org) library to generate visualizations. A few more details about the code:  \n",
    "* The variable \"dataset\" stores the name of text file that you input and is passed as an argument of the function \"loadDataSet()\".  \n",
    "* The variable \"attributes\" stores the names of all features. The variable \"instances\" stores the values of all features in the training set. The variable \"labels\" stores the labels of all instances.  \n",
    "* The variable \"clf\" stores a decision tree model, and it can be trained with \"instances\" and \"labels\". Once the model is trained, it can be used to predict unseen instances.  We use a type of decision tree algorithm called CART (Classification and Regression Trees). \n",
    "* The variable \"n_foldCV\" stores the number of times of n-fold cross validation that you input.\n",
    "* The function \"cross_val_scores\" assesses the accuracy scores of a decision tree model.  Its inputs are \"clf\", \"instances\", \"labels\", \"n_foldCV\".\n",
    "* The variable \"scores\" stores the accuracy of n-fold cross validation of the model.\n"
   ]
  },
  {
   "cell_type": "code",
   "execution_count": 31,
   "metadata": {
    "collapsed": true
   },
   "outputs": [],
   "source": [
    "import numpy as np\n",
    "from sklearn import tree\n",
    "from sklearn.model_selection import cross_val_score\n",
    "import graphviz\n",
    "\n",
    "def loadDataSet(dataset):\n",
    "    with open(dataset) as f:\n",
    "        data=f.readlines()\n",
    "        attributes=data[0].rstrip().split(',')[:-1]\n",
    "        instances=[entry.rstrip().split(',')[:-1] for entry in data[1:]]\n",
    "        dataArray=[]\n",
    "        for i in range(len(instances[0])):\n",
    "            try:\n",
    "                dataArray.append([float(instance[i]) for instance in instances])\n",
    "            except:\n",
    "                encodedData,codeBook=encode([instance[i] for instance in instances])\n",
    "                dataArray.append(encodedData)\n",
    "                print(attributes[i],': ',list(codeBook.items()))\n",
    "        instances=np.array(dataArray).T\n",
    "        labels=[entry.rstrip().split(',')[-1] for entry in data[1:]]\n",
    "        return attributes,instances,labels\n",
    "\n",
    "def encode(data):\n",
    "    codeBook={}\n",
    "    uniqueVals=list(set(data))\n",
    "    for Val in uniqueVals:\n",
    "        codeBook[Val]=uniqueVals.index(Val)\n",
    "    encodedData=list(map(uniqueVals.index,data))\n",
    "    return encodedData,codeBook\n",
    "\n",
    "def set_index(data):\n",
    "    uniqueVals=list(set(data))\n",
    "    sortedList=sorted([data.index(Val) for Val in uniqueVals])\n",
    "    for i in sortedList:\n",
    "        uniqueVals.append(data[i])\n",
    "    return uniqueVals[int(len(uniqueVals)/2):]"
   ]
  },
  {
   "cell_type": "markdown",
   "metadata": {},
   "source": [
    "## Training: Building a Decision Tree Classifier ##\n",
    "\n",
    "The cell below asks for a dataset. It trains a decision tree classifier. \n",
    "\n",
    "We provide three classification datasets that could be applied to the decision tree algorithms. \n",
    "* [\"iris.data\"](https://archive.ics.uci.edu/ml/datasets/iris) has four attributes with continuous values describing three different iris species.\n",
    "* [\"lenses.txt\"](https://archive.ics.uci.edu/ml/datasets/lenses) contains four attributes with discrete values and three classes.\n",
    "* [\"SMSSpamCollection.txt\"](https://archive.ics.uci.edu/ml/datasets/sms+spam+collection) includes 5572 SMS messages collected from four different research sources and they were labeled as spam or ham. \"testset_SMS\" is the testset and contains two randomly chosen SMS messages from the SMSSpamCollection dataset and they were deleted from the original dataset to prevent dataset contamination. Before you fit the dataset to any ML algorithm, please use the text featurization notebook to vectorize text. Besides, please open the testset and copy and paste the text in it to Jupyter notebook when you want to run prediction function.  "
   ]
  },
  {
   "cell_type": "code",
   "execution_count": 32,
   "metadata": {},
   "outputs": [
    {
     "name": "stdout",
     "output_type": "stream",
     "text": [
      "Please Enter Your Dataset:./Dataset/lenses.txt\n",
      "age of the patient :  [('young', 0), ('presbyopic', 1), ('pre', 2)]\n",
      "spectacle prescription :  [('hyper', 0), ('myope', 1)]\n",
      "astigmatic :  [('no', 0), ('yes', 1)]\n",
      "tear production rate :  [('reduced', 0), ('normal', 1)]\n"
     ]
    }
   ],
   "source": [
    "dataset=input('Please Enter Your Dataset:')\n",
    "attributes,instances,labels=loadDataSet(dataset)\n",
    "clf = tree.DecisionTreeClassifier()\n",
    "clf = clf.fit(instances,labels)"
   ]
  },
  {
   "cell_type": "markdown",
   "metadata": {},
   "source": [
    "## Visualizing a Decision Tree##"
   ]
  },
  {
   "cell_type": "markdown",
   "metadata": {},
   "source": [
    "The following cell will generate a visualization of the decision tree."
   ]
  },
  {
   "cell_type": "code",
   "execution_count": 33,
   "metadata": {},
   "outputs": [
    {
     "data": {
      "image/svg+xml": [
       "<?xml version=\"1.0\" encoding=\"UTF-8\" standalone=\"no\"?>\n",
       "<!DOCTYPE svg PUBLIC \"-//W3C//DTD SVG 1.1//EN\"\n",
       " \"http://www.w3.org/Graphics/SVG/1.1/DTD/svg11.dtd\">\n",
       "<!-- Generated by graphviz version 2.36.0 (20140111.2315)\n",
       " -->\n",
       "<!-- Title: Tree Pages: 1 -->\n",
       "<svg width=\"577pt\" height=\"642pt\"\n",
       " viewBox=\"0.00 0.00 577.00 642.00\" xmlns=\"http://www.w3.org/2000/svg\" xmlns:xlink=\"http://www.w3.org/1999/xlink\">\n",
       "<g id=\"graph0\" class=\"graph\" transform=\"scale(1 1) rotate(0) translate(4 638)\">\n",
       "<title>Tree</title>\n",
       "<polygon fill=\"white\" stroke=\"none\" points=\"-4,4 -4,-638 573,-638 573,4 -4,4\"/>\n",
       "<!-- 0 -->\n",
       "<g id=\"node1\" class=\"node\"><title>0</title>\n",
       "<polygon fill=\"#39e581\" fill-opacity=\"0.525490\" stroke=\"black\" points=\"296.349,-634 139.651,-634 139.651,-556 296.349,-556 296.349,-634\"/>\n",
       "<text text-anchor=\"start\" x=\"147.101\" y=\"-618.8\" font-family=\"Times,serif\" font-size=\"14.00\">tear production rate ≤ 0.5</text>\n",
       "<text text-anchor=\"start\" x=\"183.913\" y=\"-604.8\" font-family=\"Times,serif\" font-size=\"14.00\">gini = 0.538</text>\n",
       "<text text-anchor=\"start\" x=\"181\" y=\"-590.8\" font-family=\"Times,serif\" font-size=\"14.00\">samples = 24</text>\n",
       "<text text-anchor=\"start\" x=\"169.731\" y=\"-576.8\" font-family=\"Times,serif\" font-size=\"14.00\">value = [4, 15, 5]</text>\n",
       "<text text-anchor=\"start\" x=\"186.445\" y=\"-562.8\" font-family=\"Times,serif\" font-size=\"14.00\">class = soft</text>\n",
       "</g>\n",
       "<!-- 1 -->\n",
       "<g id=\"node2\" class=\"node\"><title>1</title>\n",
       "<polygon fill=\"#39e581\" stroke=\"black\" points=\"210.904,-513 99.0957,-513 99.0957,-449 210.904,-449 210.904,-513\"/>\n",
       "<text text-anchor=\"start\" x=\"127.913\" y=\"-497.8\" font-family=\"Times,serif\" font-size=\"14.00\">gini = 0.0</text>\n",
       "<text text-anchor=\"start\" x=\"118\" y=\"-483.8\" font-family=\"Times,serif\" font-size=\"14.00\">samples = 12</text>\n",
       "<text text-anchor=\"start\" x=\"106.731\" y=\"-469.8\" font-family=\"Times,serif\" font-size=\"14.00\">value = [0, 12, 0]</text>\n",
       "<text text-anchor=\"start\" x=\"123.445\" y=\"-455.8\" font-family=\"Times,serif\" font-size=\"14.00\">class = soft</text>\n",
       "</g>\n",
       "<!-- 0&#45;&gt;1 -->\n",
       "<g id=\"edge1\" class=\"edge\"><title>0&#45;&gt;1</title>\n",
       "<path fill=\"none\" stroke=\"black\" d=\"M196.495,-555.769C190.369,-544.877 183.679,-532.985 177.495,-521.992\"/>\n",
       "<polygon fill=\"black\" stroke=\"black\" points=\"180.396,-520.01 172.443,-513.01 174.295,-523.442 180.396,-520.01\"/>\n",
       "<text text-anchor=\"middle\" x=\"165.702\" y=\"-532.884\" font-family=\"Times,serif\" font-size=\"14.00\">True</text>\n",
       "</g>\n",
       "<!-- 2 -->\n",
       "<g id=\"node3\" class=\"node\"><title>2</title>\n",
       "<polygon fill=\"#8139e5\" fill-opacity=\"0.125490\" stroke=\"black\" points=\"334.293,-520 229.707,-520 229.707,-442 334.293,-442 334.293,-520\"/>\n",
       "<text text-anchor=\"start\" x=\"237.139\" y=\"-504.8\" font-family=\"Times,serif\" font-size=\"14.00\">astigmatic ≤ 0.5</text>\n",
       "<text text-anchor=\"start\" x=\"247.913\" y=\"-490.8\" font-family=\"Times,serif\" font-size=\"14.00\">gini = 0.653</text>\n",
       "<text text-anchor=\"start\" x=\"245\" y=\"-476.8\" font-family=\"Times,serif\" font-size=\"14.00\">samples = 12</text>\n",
       "<text text-anchor=\"start\" x=\"237.231\" y=\"-462.8\" font-family=\"Times,serif\" font-size=\"14.00\">value = [4, 3, 5]</text>\n",
       "<text text-anchor=\"start\" x=\"248.507\" y=\"-448.8\" font-family=\"Times,serif\" font-size=\"14.00\">class = hard</text>\n",
       "</g>\n",
       "<!-- 0&#45;&gt;2 -->\n",
       "<g id=\"edge2\" class=\"edge\"><title>0&#45;&gt;2</title>\n",
       "<path fill=\"none\" stroke=\"black\" d=\"M239.846,-555.769C244.789,-547.119 250.093,-537.838 255.213,-528.877\"/>\n",
       "<polygon fill=\"black\" stroke=\"black\" points=\"258.33,-530.477 260.252,-520.058 252.252,-527.004 258.33,-530.477\"/>\n",
       "<text text-anchor=\"middle\" x=\"266.83\" y=\"-539.978\" font-family=\"Times,serif\" font-size=\"14.00\">False</text>\n",
       "</g>\n",
       "<!-- 3 -->\n",
       "<g id=\"node4\" class=\"node\"><title>3</title>\n",
       "<polygon fill=\"#8139e5\" fill-opacity=\"0.800000\" stroke=\"black\" points=\"272.388,-406 103.612,-406 103.612,-328 272.388,-328 272.388,-406\"/>\n",
       "<text text-anchor=\"start\" x=\"111.075\" y=\"-390.8\" font-family=\"Times,serif\" font-size=\"14.00\">spectacle prescription ≤ 0.5</text>\n",
       "<text text-anchor=\"start\" x=\"153.913\" y=\"-376.8\" font-family=\"Times,serif\" font-size=\"14.00\">gini = 0.278</text>\n",
       "<text text-anchor=\"start\" x=\"154.5\" y=\"-362.8\" font-family=\"Times,serif\" font-size=\"14.00\">samples = 6</text>\n",
       "<text text-anchor=\"start\" x=\"143.231\" y=\"-348.8\" font-family=\"Times,serif\" font-size=\"14.00\">value = [0, 1, 5]</text>\n",
       "<text text-anchor=\"start\" x=\"154.507\" y=\"-334.8\" font-family=\"Times,serif\" font-size=\"14.00\">class = hard</text>\n",
       "</g>\n",
       "<!-- 2&#45;&gt;3 -->\n",
       "<g id=\"edge3\" class=\"edge\"><title>2&#45;&gt;3</title>\n",
       "<path fill=\"none\" stroke=\"black\" d=\"M249.913,-441.769C242.351,-432.759 234.214,-423.064 226.405,-413.759\"/>\n",
       "<polygon fill=\"black\" stroke=\"black\" points=\"229.052,-411.468 219.942,-406.058 223.69,-415.968 229.052,-411.468\"/>\n",
       "</g>\n",
       "<!-- 10 -->\n",
       "<g id=\"node11\" class=\"node\"><title>10</title>\n",
       "<polygon fill=\"#e58139\" fill-opacity=\"0.498039\" stroke=\"black\" points=\"460.388,-406 291.612,-406 291.612,-328 460.388,-328 460.388,-406\"/>\n",
       "<text text-anchor=\"start\" x=\"299.075\" y=\"-390.8\" font-family=\"Times,serif\" font-size=\"14.00\">spectacle prescription ≤ 0.5</text>\n",
       "<text text-anchor=\"start\" x=\"341.913\" y=\"-376.8\" font-family=\"Times,serif\" font-size=\"14.00\">gini = 0.444</text>\n",
       "<text text-anchor=\"start\" x=\"342.5\" y=\"-362.8\" font-family=\"Times,serif\" font-size=\"14.00\">samples = 6</text>\n",
       "<text text-anchor=\"start\" x=\"331.231\" y=\"-348.8\" font-family=\"Times,serif\" font-size=\"14.00\">value = [4, 2, 0]</text>\n",
       "<text text-anchor=\"start\" x=\"329.088\" y=\"-334.8\" font-family=\"Times,serif\" font-size=\"14.00\">class = no lenses</text>\n",
       "</g>\n",
       "<!-- 2&#45;&gt;10 -->\n",
       "<g id=\"edge10\" class=\"edge\"><title>2&#45;&gt;10</title>\n",
       "<path fill=\"none\" stroke=\"black\" d=\"M314.087,-441.769C321.649,-432.759 329.786,-423.064 337.595,-413.759\"/>\n",
       "<polygon fill=\"black\" stroke=\"black\" points=\"340.31,-415.968 344.058,-406.058 334.948,-411.468 340.31,-415.968\"/>\n",
       "</g>\n",
       "<!-- 4 -->\n",
       "<g id=\"node5\" class=\"node\"><title>4</title>\n",
       "<polygon fill=\"#8139e5\" stroke=\"black\" points=\"104.156,-285 -0.155521,-285 -0.155521,-221 104.156,-221 104.156,-285\"/>\n",
       "<text text-anchor=\"start\" x=\"24.9126\" y=\"-269.8\" font-family=\"Times,serif\" font-size=\"14.00\">gini = 0.0</text>\n",
       "<text text-anchor=\"start\" x=\"18.5005\" y=\"-255.8\" font-family=\"Times,serif\" font-size=\"14.00\">samples = 3</text>\n",
       "<text text-anchor=\"start\" x=\"7.23145\" y=\"-241.8\" font-family=\"Times,serif\" font-size=\"14.00\">value = [0, 0, 3]</text>\n",
       "<text text-anchor=\"start\" x=\"18.5073\" y=\"-227.8\" font-family=\"Times,serif\" font-size=\"14.00\">class = hard</text>\n",
       "</g>\n",
       "<!-- 3&#45;&gt;4 -->\n",
       "<g id=\"edge4\" class=\"edge\"><title>3&#45;&gt;4</title>\n",
       "<path fill=\"none\" stroke=\"black\" d=\"M141.577,-327.769C127.293,-316.006 111.592,-303.076 97.3795,-291.371\"/>\n",
       "<polygon fill=\"black\" stroke=\"black\" points=\"99.5994,-288.665 89.655,-285.01 95.1494,-294.069 99.5994,-288.665\"/>\n",
       "</g>\n",
       "<!-- 5 -->\n",
       "<g id=\"node6\" class=\"node\"><title>5</title>\n",
       "<polygon fill=\"#8139e5\" fill-opacity=\"0.498039\" stroke=\"black\" points=\"267.23,-292 122.77,-292 122.77,-214 267.23,-214 267.23,-292\"/>\n",
       "<text text-anchor=\"start\" x=\"130.513\" y=\"-276.8\" font-family=\"Times,serif\" font-size=\"14.00\">age of the patient ≤ 0.5</text>\n",
       "<text text-anchor=\"start\" x=\"160.913\" y=\"-262.8\" font-family=\"Times,serif\" font-size=\"14.00\">gini = 0.444</text>\n",
       "<text text-anchor=\"start\" x=\"161.5\" y=\"-248.8\" font-family=\"Times,serif\" font-size=\"14.00\">samples = 3</text>\n",
       "<text text-anchor=\"start\" x=\"150.231\" y=\"-234.8\" font-family=\"Times,serif\" font-size=\"14.00\">value = [0, 1, 2]</text>\n",
       "<text text-anchor=\"start\" x=\"161.507\" y=\"-220.8\" font-family=\"Times,serif\" font-size=\"14.00\">class = hard</text>\n",
       "</g>\n",
       "<!-- 3&#45;&gt;5 -->\n",
       "<g id=\"edge5\" class=\"edge\"><title>3&#45;&gt;5</title>\n",
       "<path fill=\"none\" stroke=\"black\" d=\"M190.389,-327.769C190.902,-319.57 191.45,-310.803 191.983,-302.28\"/>\n",
       "<polygon fill=\"black\" stroke=\"black\" points=\"195.491,-302.257 192.621,-292.058 188.504,-301.821 195.491,-302.257\"/>\n",
       "</g>\n",
       "<!-- 6 -->\n",
       "<g id=\"node7\" class=\"node\"><title>6</title>\n",
       "<polygon fill=\"#8139e5\" stroke=\"black\" points=\"119.156,-171 14.8445,-171 14.8445,-107 119.156,-107 119.156,-171\"/>\n",
       "<text text-anchor=\"start\" x=\"39.9126\" y=\"-155.8\" font-family=\"Times,serif\" font-size=\"14.00\">gini = 0.0</text>\n",
       "<text text-anchor=\"start\" x=\"33.5005\" y=\"-141.8\" font-family=\"Times,serif\" font-size=\"14.00\">samples = 1</text>\n",
       "<text text-anchor=\"start\" x=\"22.2314\" y=\"-127.8\" font-family=\"Times,serif\" font-size=\"14.00\">value = [0, 0, 1]</text>\n",
       "<text text-anchor=\"start\" x=\"33.5073\" y=\"-113.8\" font-family=\"Times,serif\" font-size=\"14.00\">class = hard</text>\n",
       "</g>\n",
       "<!-- 5&#45;&gt;6 -->\n",
       "<g id=\"edge6\" class=\"edge\"><title>5&#45;&gt;6</title>\n",
       "<path fill=\"none\" stroke=\"black\" d=\"M151.308,-213.769C137.989,-202.115 123.36,-189.315 110.082,-177.697\"/>\n",
       "<polygon fill=\"black\" stroke=\"black\" points=\"112.271,-174.961 102.44,-171.01 107.661,-180.229 112.271,-174.961\"/>\n",
       "</g>\n",
       "<!-- 7 -->\n",
       "<g id=\"node8\" class=\"node\"><title>7</title>\n",
       "<polygon fill=\"none\" stroke=\"black\" points=\"282.23,-178 137.77,-178 137.77,-100 282.23,-100 282.23,-178\"/>\n",
       "<text text-anchor=\"start\" x=\"145.513\" y=\"-162.8\" font-family=\"Times,serif\" font-size=\"14.00\">age of the patient ≤ 1.5</text>\n",
       "<text text-anchor=\"start\" x=\"182.913\" y=\"-148.8\" font-family=\"Times,serif\" font-size=\"14.00\">gini = 0.5</text>\n",
       "<text text-anchor=\"start\" x=\"176.5\" y=\"-134.8\" font-family=\"Times,serif\" font-size=\"14.00\">samples = 2</text>\n",
       "<text text-anchor=\"start\" x=\"165.231\" y=\"-120.8\" font-family=\"Times,serif\" font-size=\"14.00\">value = [0, 1, 1]</text>\n",
       "<text text-anchor=\"start\" x=\"178.445\" y=\"-106.8\" font-family=\"Times,serif\" font-size=\"14.00\">class = soft</text>\n",
       "</g>\n",
       "<!-- 5&#45;&gt;7 -->\n",
       "<g id=\"edge7\" class=\"edge\"><title>5&#45;&gt;7</title>\n",
       "<path fill=\"none\" stroke=\"black\" d=\"M200.12,-213.769C201.23,-205.48 202.418,-196.61 203.572,-187.999\"/>\n",
       "<polygon fill=\"black\" stroke=\"black\" points=\"207.044,-188.435 204.903,-178.058 200.106,-187.505 207.044,-188.435\"/>\n",
       "</g>\n",
       "<!-- 8 -->\n",
       "<g id=\"node9\" class=\"node\"><title>8</title>\n",
       "<polygon fill=\"#39e581\" stroke=\"black\" points=\"200.156,-64 95.8445,-64 95.8445,-0 200.156,-0 200.156,-64\"/>\n",
       "<text text-anchor=\"start\" x=\"120.913\" y=\"-48.8\" font-family=\"Times,serif\" font-size=\"14.00\">gini = 0.0</text>\n",
       "<text text-anchor=\"start\" x=\"114.5\" y=\"-34.8\" font-family=\"Times,serif\" font-size=\"14.00\">samples = 1</text>\n",
       "<text text-anchor=\"start\" x=\"103.231\" y=\"-20.8\" font-family=\"Times,serif\" font-size=\"14.00\">value = [0, 1, 0]</text>\n",
       "<text text-anchor=\"start\" x=\"116.445\" y=\"-6.8\" font-family=\"Times,serif\" font-size=\"14.00\">class = soft</text>\n",
       "</g>\n",
       "<!-- 7&#45;&gt;8 -->\n",
       "<g id=\"edge8\" class=\"edge\"><title>7&#45;&gt;8</title>\n",
       "<path fill=\"none\" stroke=\"black\" d=\"M187.441,-99.7956C182.248,-91 176.712,-81.625 171.48,-72.765\"/>\n",
       "<polygon fill=\"black\" stroke=\"black\" points=\"174.472,-70.9485 166.374,-64.1172 168.445,-74.5077 174.472,-70.9485\"/>\n",
       "</g>\n",
       "<!-- 9 -->\n",
       "<g id=\"node10\" class=\"node\"><title>9</title>\n",
       "<polygon fill=\"#8139e5\" stroke=\"black\" points=\"324.156,-64 219.844,-64 219.844,-0 324.156,-0 324.156,-64\"/>\n",
       "<text text-anchor=\"start\" x=\"244.913\" y=\"-48.8\" font-family=\"Times,serif\" font-size=\"14.00\">gini = 0.0</text>\n",
       "<text text-anchor=\"start\" x=\"238.5\" y=\"-34.8\" font-family=\"Times,serif\" font-size=\"14.00\">samples = 1</text>\n",
       "<text text-anchor=\"start\" x=\"227.231\" y=\"-20.8\" font-family=\"Times,serif\" font-size=\"14.00\">value = [0, 0, 1]</text>\n",
       "<text text-anchor=\"start\" x=\"238.507\" y=\"-6.8\" font-family=\"Times,serif\" font-size=\"14.00\">class = hard</text>\n",
       "</g>\n",
       "<!-- 7&#45;&gt;9 -->\n",
       "<g id=\"edge9\" class=\"edge\"><title>7&#45;&gt;9</title>\n",
       "<path fill=\"none\" stroke=\"black\" d=\"M232.559,-99.7956C237.752,-91 243.288,-81.625 248.52,-72.765\"/>\n",
       "<polygon fill=\"black\" stroke=\"black\" points=\"251.555,-74.5077 253.626,-64.1172 245.528,-70.9485 251.555,-74.5077\"/>\n",
       "</g>\n",
       "<!-- 11 -->\n",
       "<g id=\"node12\" class=\"node\"><title>11</title>\n",
       "<polygon fill=\"#39e581\" fill-opacity=\"0.498039\" stroke=\"black\" points=\"442.23,-292 297.77,-292 297.77,-214 442.23,-214 442.23,-292\"/>\n",
       "<text text-anchor=\"start\" x=\"305.513\" y=\"-276.8\" font-family=\"Times,serif\" font-size=\"14.00\">age of the patient ≤ 0.5</text>\n",
       "<text text-anchor=\"start\" x=\"335.913\" y=\"-262.8\" font-family=\"Times,serif\" font-size=\"14.00\">gini = 0.444</text>\n",
       "<text text-anchor=\"start\" x=\"336.5\" y=\"-248.8\" font-family=\"Times,serif\" font-size=\"14.00\">samples = 3</text>\n",
       "<text text-anchor=\"start\" x=\"325.231\" y=\"-234.8\" font-family=\"Times,serif\" font-size=\"14.00\">value = [1, 2, 0]</text>\n",
       "<text text-anchor=\"start\" x=\"338.445\" y=\"-220.8\" font-family=\"Times,serif\" font-size=\"14.00\">class = soft</text>\n",
       "</g>\n",
       "<!-- 10&#45;&gt;11 -->\n",
       "<g id=\"edge11\" class=\"edge\"><title>10&#45;&gt;11</title>\n",
       "<path fill=\"none\" stroke=\"black\" d=\"M373.952,-327.769C373.513,-319.57 373.043,-310.803 372.586,-302.28\"/>\n",
       "<polygon fill=\"black\" stroke=\"black\" points=\"376.069,-301.857 372.039,-292.058 369.079,-302.231 376.069,-301.857\"/>\n",
       "</g>\n",
       "<!-- 14 -->\n",
       "<g id=\"node15\" class=\"node\"><title>14</title>\n",
       "<polygon fill=\"#e58139\" stroke=\"black\" points=\"569.368,-285 460.632,-285 460.632,-221 569.368,-221 569.368,-285\"/>\n",
       "<text text-anchor=\"start\" x=\"487.913\" y=\"-269.8\" font-family=\"Times,serif\" font-size=\"14.00\">gini = 0.0</text>\n",
       "<text text-anchor=\"start\" x=\"481.5\" y=\"-255.8\" font-family=\"Times,serif\" font-size=\"14.00\">samples = 3</text>\n",
       "<text text-anchor=\"start\" x=\"470.231\" y=\"-241.8\" font-family=\"Times,serif\" font-size=\"14.00\">value = [3, 0, 0]</text>\n",
       "<text text-anchor=\"start\" x=\"468.088\" y=\"-227.8\" font-family=\"Times,serif\" font-size=\"14.00\">class = no lenses</text>\n",
       "</g>\n",
       "<!-- 10&#45;&gt;14 -->\n",
       "<g id=\"edge14\" class=\"edge\"><title>10&#45;&gt;14</title>\n",
       "<path fill=\"none\" stroke=\"black\" d=\"M423.447,-327.769C438.046,-316.006 454.093,-303.076 468.619,-291.371\"/>\n",
       "<polygon fill=\"black\" stroke=\"black\" points=\"470.924,-294.01 476.514,-285.01 466.532,-288.559 470.924,-294.01\"/>\n",
       "</g>\n",
       "<!-- 12 -->\n",
       "<g id=\"node13\" class=\"node\"><title>12</title>\n",
       "<polygon fill=\"#e58139\" stroke=\"black\" points=\"416.368,-171 307.632,-171 307.632,-107 416.368,-107 416.368,-171\"/>\n",
       "<text text-anchor=\"start\" x=\"334.913\" y=\"-155.8\" font-family=\"Times,serif\" font-size=\"14.00\">gini = 0.0</text>\n",
       "<text text-anchor=\"start\" x=\"328.5\" y=\"-141.8\" font-family=\"Times,serif\" font-size=\"14.00\">samples = 1</text>\n",
       "<text text-anchor=\"start\" x=\"317.231\" y=\"-127.8\" font-family=\"Times,serif\" font-size=\"14.00\">value = [1, 0, 0]</text>\n",
       "<text text-anchor=\"start\" x=\"315.088\" y=\"-113.8\" font-family=\"Times,serif\" font-size=\"14.00\">class = no lenses</text>\n",
       "</g>\n",
       "<!-- 11&#45;&gt;12 -->\n",
       "<g id=\"edge12\" class=\"edge\"><title>11&#45;&gt;12</title>\n",
       "<path fill=\"none\" stroke=\"black\" d=\"M367.269,-213.769C366.522,-203.313 365.71,-191.935 364.951,-181.315\"/>\n",
       "<polygon fill=\"black\" stroke=\"black\" points=\"368.419,-180.735 364.215,-171.01 361.436,-181.234 368.419,-180.735\"/>\n",
       "</g>\n",
       "<!-- 13 -->\n",
       "<g id=\"node14\" class=\"node\"><title>13</title>\n",
       "<polygon fill=\"#39e581\" stroke=\"black\" points=\"540.156,-171 435.844,-171 435.844,-107 540.156,-107 540.156,-171\"/>\n",
       "<text text-anchor=\"start\" x=\"460.913\" y=\"-155.8\" font-family=\"Times,serif\" font-size=\"14.00\">gini = 0.0</text>\n",
       "<text text-anchor=\"start\" x=\"454.5\" y=\"-141.8\" font-family=\"Times,serif\" font-size=\"14.00\">samples = 2</text>\n",
       "<text text-anchor=\"start\" x=\"443.231\" y=\"-127.8\" font-family=\"Times,serif\" font-size=\"14.00\">value = [0, 2, 0]</text>\n",
       "<text text-anchor=\"start\" x=\"456.445\" y=\"-113.8\" font-family=\"Times,serif\" font-size=\"14.00\">class = soft</text>\n",
       "</g>\n",
       "<!-- 11&#45;&gt;13 -->\n",
       "<g id=\"edge13\" class=\"edge\"><title>11&#45;&gt;13</title>\n",
       "<path fill=\"none\" stroke=\"black\" d=\"M410.279,-213.769C422.443,-202.224 435.791,-189.555 447.94,-178.023\"/>\n",
       "<polygon fill=\"black\" stroke=\"black\" points=\"450.485,-180.433 455.329,-171.01 445.666,-175.356 450.485,-180.433\"/>\n",
       "</g>\n",
       "</g>\n",
       "</svg>\n"
      ],
      "text/plain": [
       "<graphviz.files.Source at 0x1a0f151588>"
      ]
     },
     "execution_count": 33,
     "metadata": {},
     "output_type": "execute_result"
    }
   ],
   "source": [
    "classnames=set_index(labels)\n",
    "dot_data = tree.export_graphviz(clf, out_file=None,max_depth=5, feature_names=attributes,\\\n",
    "                                class_names=classnames,label='all',filled=True,special_characters=True) \n",
    "graph = graphviz.Source(dot_data) \n",
    "graph"
   ]
  },
  {
   "cell_type": "markdown",
   "metadata": {},
   "source": [
    "## Prediction: Classifying New Instances Using a Decision Tree Classifier##\n",
    "\n",
    "The cell below classifies new instances with the decision tree you created.\n",
    "\n",
    "When you are prompted to input test set, please input one entry each time and separate each value with a comma. Also, please make sure the input are numbers instead of strings. When your input is strings, please encode them manually according to the codebook printed above."
   ]
  },
  {
   "cell_type": "code",
   "execution_count": 35,
   "metadata": {},
   "outputs": [
    {
     "name": "stdout",
     "output_type": "stream",
     "text": [
      "Please Enter Your Test Set:0,0,1,1\n"
     ]
    }
   ],
   "source": [
    "testset=input('Please Enter Your Test Set:')\n",
    "testset=np.array(testset.split(',')).reshape(1, -1)\n",
    "predictions=clf.predict(testset)"
   ]
  },
  {
   "cell_type": "code",
   "execution_count": 36,
   "metadata": {},
   "outputs": [
    {
     "name": "stdout",
     "output_type": "stream",
     "text": [
      "['hard']\n"
     ]
    }
   ],
   "source": [
    "print(predictions)"
   ]
  },
  {
   "cell_type": "markdown",
   "metadata": {},
   "source": [
    "## Evaluating the Accuracy of a Decision Tree Classifier##"
   ]
  },
  {
   "cell_type": "markdown",
   "metadata": {},
   "source": [
    "The following cell will run cross-validation to evaluate your decision tree classifier.  It will ask you for your test data, and the number of folds that you want to use."
   ]
  },
  {
   "cell_type": "code",
   "execution_count": 39,
   "metadata": {},
   "outputs": [
    {
     "name": "stdout",
     "output_type": "stream",
     "text": [
      "Please Enter Your Test Data:./Dataset/iris.data\n",
      "Please Enter the Number of Folds:10\n"
     ]
    }
   ],
   "source": [
    "dataset=input('Please Enter Your Test Data:')\n",
    "n_foldCV=int(input(\"Please Enter the Number of Folds:\"))\n",
    "attributes,instances,labels=loadDataSet(dataset)\n",
    "clf = tree.DecisionTreeClassifier()\n",
    "clf = clf.fit(instances,labels)\n",
    "scores = cross_val_score(clf, instances, labels, cv=n_foldCV)"
   ]
  },
  {
   "cell_type": "markdown",
   "metadata": {},
   "source": [
    "The following cell will output the accuracy score in each run and the accuracy estimate of the model under 95% confidence interval."
   ]
  },
  {
   "cell_type": "code",
   "execution_count": 40,
   "metadata": {},
   "outputs": [
    {
     "name": "stdout",
     "output_type": "stream",
     "text": [
      "[ 1.          0.93333333  1.          0.93333333  0.93333333  0.86666667\n",
      "  0.93333333  0.93333333  1.          1.        ]\n",
      "Accuracy: 0.95 (+/- 0.09)\n"
     ]
    }
   ],
   "source": [
    "print(scores)\n",
    "print(\"Accuracy: %0.2f (+/- %0.2f)\" % (scores.mean(), scores.std() * 2))"
   ]
  },
  {
   "cell_type": "markdown",
   "metadata": {
    "collapsed": true
   },
   "source": [
    "Now you can print this notebook as a PDF file and turn it in."
   ]
  }
 ],
 "metadata": {
  "anaconda-cloud": {},
  "kernelspec": {
   "display_name": "Python 3",
   "language": "python",
   "name": "python3"
  },
  "language_info": {
   "codemirror_mode": {
    "name": "ipython",
    "version": 3
   },
   "file_extension": ".py",
   "mimetype": "text/x-python",
   "name": "python",
   "nbconvert_exporter": "python",
   "pygments_lexer": "ipython3",
   "version": "3.6.3"
  }
 },
 "nbformat": 4,
 "nbformat_minor": 2
}
