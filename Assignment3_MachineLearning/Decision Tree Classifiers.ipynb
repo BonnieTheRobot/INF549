{
 "cells": [
  {
   "cell_type": "markdown",
   "metadata": {},
   "source": [
    "# A Notebook to Use Decision Tree Classifiers"
   ]
  },
  {
   "cell_type": "markdown",
   "metadata": {},
   "source": [
    "This notebook shows how to train a decision tree to classify unseen instances.\n",
    "\n",
<<<<<<< HEAD
    "For those of you interested in understanding the code, it uses predefined functions from the [sklearn](http://scikit-learn.org) library of machine learning primitives and from the [graphviz](http://www.graphviz.org) library to generate visualizations. A few more details about the code:  \n",
=======
    "YIBO: I was not able to run this notebook.  It gave me an error with graphviz, am I supposed to load it?\n",
    "\n",
    "For those of you interested in understanding the code, it uses predefined functions from the sklearn library of machine learning primitives and from the graphviz library to generate visualizations.  YIBO: please add hyperlinks to these.  A few more details about the code:  \n",
>>>>>>> 993001c53cfe4beb4dea3fe99542bf7053c9513f
    "* The variable \"dataset\" stores the name of text file that you input and is passed as an argument of the function \"loadDataSet()\".  \n",
    "* The variable \"attributes\" stores the names of all features. The variable \"instances\" stores the values of all features in the training set. The variable \"labels\" stores the labels of all instances.  \n",
    "* The variable \"clf\" stores a decision tree model, and it can be trained with \"instances\" and \"labels\". Once the model is trained, it can be used to predict unseen instances.  We use a type of decision tree algorithm called CART (Classification and Regression Trees). \n",
    "* The variable \"n_foldCV\" stores the number of times of n-fold cross validation that you input.\n",
    "* The function \"cross_val_scores\" assesses the accuracy scores of a decision tree model.  Its inputs are \"clf\", \"instances\", \"labels\", \"n_foldCV\".\n",
    "* The variable \"scores\" stores the accuracy of n-fold cross validation of the model.\n"
   ]
  },
  {
   "cell_type": "code",
<<<<<<< HEAD
   "execution_count": 31,
   "metadata": {
    "collapsed": true
   },
   "outputs": [],
=======
   "execution_count": 1,
   "metadata": {},
   "outputs": [
    {
     "ename": "ImportError",
     "evalue": "No module named graphviz",
     "output_type": "error",
     "traceback": [
      "\u001b[0;31m---------------------------------------------------------------------------\u001b[0m",
      "\u001b[0;31mImportError\u001b[0m                               Traceback (most recent call last)",
      "\u001b[0;32m<ipython-input-1-04b67de5c096>\u001b[0m in \u001b[0;36m<module>\u001b[0;34m()\u001b[0m\n\u001b[1;32m      2\u001b[0m \u001b[0;32mfrom\u001b[0m \u001b[0msklearn\u001b[0m \u001b[0;32mimport\u001b[0m \u001b[0mtree\u001b[0m\u001b[0;34m\u001b[0m\u001b[0m\n\u001b[1;32m      3\u001b[0m \u001b[0;32mfrom\u001b[0m \u001b[0msklearn\u001b[0m\u001b[0;34m.\u001b[0m\u001b[0mmodel_selection\u001b[0m \u001b[0;32mimport\u001b[0m \u001b[0mcross_val_score\u001b[0m\u001b[0;34m\u001b[0m\u001b[0m\n\u001b[0;32m----> 4\u001b[0;31m \u001b[0;32mimport\u001b[0m \u001b[0mgraphviz\u001b[0m\u001b[0;34m\u001b[0m\u001b[0m\n\u001b[0m\u001b[1;32m      5\u001b[0m \u001b[0;34m\u001b[0m\u001b[0m\n\u001b[1;32m      6\u001b[0m \u001b[0;32mdef\u001b[0m \u001b[0mloadDataSet\u001b[0m\u001b[0;34m(\u001b[0m\u001b[0mdataset\u001b[0m\u001b[0;34m)\u001b[0m\u001b[0;34m:\u001b[0m\u001b[0;34m\u001b[0m\u001b[0m\n",
      "\u001b[0;31mImportError\u001b[0m: No module named graphviz"
     ]
    }
   ],
>>>>>>> 993001c53cfe4beb4dea3fe99542bf7053c9513f
   "source": [
    "import numpy as np\n",
    "from sklearn import tree\n",
    "from sklearn.model_selection import cross_val_score\n",
    "import graphviz\n",
    "\n",
    "def loadDataSet(dataset):\n",
    "    with open(dataset) as f:\n",
    "        data=f.readlines()\n",
    "        attributes=data[0].rstrip().split(',')[:-1]\n",
    "        instances=[entry.rstrip().split(',')[:-1] for entry in data[1:]]\n",
    "        dataArray=[]\n",
    "        for i in range(len(instances[0])):\n",
    "            try:\n",
    "                dataArray.append([float(instance[i]) for instance in instances])\n",
    "            except:\n",
    "                encodedData,codeBook=encode([instance[i] for instance in instances])\n",
    "                dataArray.append(encodedData)\n",
<<<<<<< HEAD
    "                print(attributes[i],': ',list(codeBook.items()))\n",
=======
    "                print attributes[i],': ',codeBook.items()\n",
>>>>>>> 993001c53cfe4beb4dea3fe99542bf7053c9513f
    "        instances=np.array(dataArray).T\n",
    "        labels=[entry.rstrip().split(',')[-1] for entry in data[1:]]\n",
    "        return attributes,instances,labels\n",
    "\n",
    "def encode(data):\n",
    "    codeBook={}\n",
    "    uniqueVals=list(set(data))\n",
    "    for Val in uniqueVals:\n",
    "        codeBook[Val]=uniqueVals.index(Val)\n",
<<<<<<< HEAD
    "    encodedData=list(map(uniqueVals.index,data))\n",
=======
    "    encodedData=map(uniqueVals.index,data)\n",
>>>>>>> 993001c53cfe4beb4dea3fe99542bf7053c9513f
    "    return encodedData,codeBook\n",
    "\n",
    "def set_index(data):\n",
    "    uniqueVals=list(set(data))\n",
    "    sortedList=sorted([data.index(Val) for Val in uniqueVals])\n",
    "    for i in sortedList:\n",
    "        uniqueVals.append(data[i])\n",
<<<<<<< HEAD
    "    return uniqueVals[int(len(uniqueVals)/2):]"
=======
    "    return uniqueVals[len(uniqueVals)/2:]"
>>>>>>> 993001c53cfe4beb4dea3fe99542bf7053c9513f
   ]
  },
  {
   "cell_type": "markdown",
   "metadata": {},
   "source": [
    "## Training: Building a Decision Tree Classifier ##\n",
    "\n",
<<<<<<< HEAD
    "The cell below asks for a dataset. It trains a decision tree classifier. \n",
    "\n",
    "We provide three classification datasets that could be applied to the decision tree algorithms. \n",
    "* [\"iris.data\"](https://archive.ics.uci.edu/ml/datasets/iris) has four attributes with continuous values describing three different iris species.\n",
    "* [\"lenses.txt\"](https://archive.ics.uci.edu/ml/datasets/lenses) contains four attributes with discrete values and three classes.\n",
    "* [\"SMSSpamCollection.txt\"](https://archive.ics.uci.edu/ml/datasets/sms+spam+collection) includes 5572 SMS messages collected from four different research sources and they were labeled as spam or ham. \"testset_SMS\" is the testset and contains two randomly chosen SMS messages from the SMSSpamCollection dataset and they were deleted from the original dataset to prevent dataset contamination. Before you fit the dataset to any ML algorithm, please use the text featurization notebook to vectorize text. Besides, please open the testset and copy and paste the text in it to Jupyter notebook when you want to run prediction function.  "
=======
    "The cell below asks for a dataset and a number of folds.  It trains a decision tree classifier and uses n-fold validation to generate an accuracy score for the classifier.\n",
    "\n",
    "YIBO: Like we did with other notebooks, pls add a comment about the datasets that are available.\n",
    "\n",
    "YIBO: I edited this function so that there is no cross-validation, just plain training with the dataset.  Can you please check that it runs correctly?"
>>>>>>> 993001c53cfe4beb4dea3fe99542bf7053c9513f
   ]
  },
  {
   "cell_type": "code",
<<<<<<< HEAD
   "execution_count": 32,
=======
   "execution_count": 2,
>>>>>>> 993001c53cfe4beb4dea3fe99542bf7053c9513f
   "metadata": {},
   "outputs": [
    {
     "name": "stdout",
     "output_type": "stream",
     "text": [
<<<<<<< HEAD
      "Please Enter Your Dataset:./Dataset/lenses.txt\n",
      "age of the patient :  [('young', 0), ('presbyopic', 1), ('pre', 2)]\n",
      "spectacle prescription :  [('hyper', 0), ('myope', 1)]\n",
      "astigmatic :  [('no', 0), ('yes', 1)]\n",
      "tear production rate :  [('reduced', 0), ('normal', 1)]\n"
=======
      "Please Enter Your Data Set:lenses.txt\n",
      "Please Enter the Number of Folds:5\n"
     ]
    },
    {
     "ename": "NameError",
     "evalue": "name 'loadDataSet' is not defined",
     "output_type": "error",
     "traceback": [
      "\u001b[0;31m---------------------------------------------------------------------------\u001b[0m",
      "\u001b[0;31mNameError\u001b[0m                                 Traceback (most recent call last)",
      "\u001b[0;32m<ipython-input-2-7109fac98905>\u001b[0m in \u001b[0;36m<module>\u001b[0;34m()\u001b[0m\n\u001b[1;32m      1\u001b[0m \u001b[0mdataset\u001b[0m\u001b[0;34m=\u001b[0m\u001b[0mraw_input\u001b[0m\u001b[0;34m(\u001b[0m\u001b[0;34m'Please Enter Your Data Set:'\u001b[0m\u001b[0;34m)\u001b[0m\u001b[0;34m\u001b[0m\u001b[0m\n\u001b[1;32m      2\u001b[0m \u001b[0mn_foldCV\u001b[0m\u001b[0;34m=\u001b[0m\u001b[0mint\u001b[0m\u001b[0;34m(\u001b[0m\u001b[0mraw_input\u001b[0m\u001b[0;34m(\u001b[0m\u001b[0;34m\"Please Enter the Number of Folds:\"\u001b[0m\u001b[0;34m)\u001b[0m\u001b[0;34m)\u001b[0m\u001b[0;34m\u001b[0m\u001b[0m\n\u001b[0;32m----> 3\u001b[0;31m \u001b[0mattributes\u001b[0m\u001b[0;34m,\u001b[0m\u001b[0minstances\u001b[0m\u001b[0;34m,\u001b[0m\u001b[0mlabels\u001b[0m\u001b[0;34m=\u001b[0m\u001b[0mloadDataSet\u001b[0m\u001b[0;34m(\u001b[0m\u001b[0mdataset\u001b[0m\u001b[0;34m)\u001b[0m\u001b[0;34m\u001b[0m\u001b[0m\n\u001b[0m\u001b[1;32m      4\u001b[0m \u001b[0mclf\u001b[0m \u001b[0;34m=\u001b[0m \u001b[0mtree\u001b[0m\u001b[0;34m.\u001b[0m\u001b[0mDecisionTreeClassifier\u001b[0m\u001b[0;34m(\u001b[0m\u001b[0;34m)\u001b[0m\u001b[0;34m\u001b[0m\u001b[0m\n\u001b[1;32m      5\u001b[0m \u001b[0mclf\u001b[0m \u001b[0;34m=\u001b[0m \u001b[0mclf\u001b[0m\u001b[0;34m.\u001b[0m\u001b[0mfit\u001b[0m\u001b[0;34m(\u001b[0m\u001b[0minstances\u001b[0m\u001b[0;34m,\u001b[0m\u001b[0mlabels\u001b[0m\u001b[0;34m)\u001b[0m\u001b[0;34m\u001b[0m\u001b[0m\n",
      "\u001b[0;31mNameError\u001b[0m: name 'loadDataSet' is not defined"
>>>>>>> 993001c53cfe4beb4dea3fe99542bf7053c9513f
     ]
    }
   ],
   "source": [
<<<<<<< HEAD
    "dataset=input('Please Enter Your Dataset:')\n",
=======
    "dataset=raw_input('Please Enter Your Dataset:')\n",
>>>>>>> 993001c53cfe4beb4dea3fe99542bf7053c9513f
    "attributes,instances,labels=loadDataSet(dataset)\n",
    "clf = tree.DecisionTreeClassifier()\n",
    "clf = clf.fit(instances,labels)"
   ]
  },
  {
   "cell_type": "markdown",
   "metadata": {},
   "source": [
    "## Visualizing a Decision Tree##"
   ]
  },
  {
   "cell_type": "markdown",
   "metadata": {},
   "source": [
    "The following cell will generate a visualization of the decision tree."
   ]
  },
  {
   "cell_type": "code",
<<<<<<< HEAD
   "execution_count": 33,
=======
   "execution_count": 14,
>>>>>>> 993001c53cfe4beb4dea3fe99542bf7053c9513f
   "metadata": {},
   "outputs": [
    {
     "data": {
      "image/svg+xml": [
       "<?xml version=\"1.0\" encoding=\"UTF-8\" standalone=\"no\"?>\n",
       "<!DOCTYPE svg PUBLIC \"-//W3C//DTD SVG 1.1//EN\"\n",
       " \"http://www.w3.org/Graphics/SVG/1.1/DTD/svg11.dtd\">\n",
       "<!-- Generated by graphviz version 2.36.0 (20140111.2315)\n",
       " -->\n",
       "<!-- Title: Tree Pages: 1 -->\n",
<<<<<<< HEAD
       "<svg width=\"577pt\" height=\"642pt\"\n",
       " viewBox=\"0.00 0.00 577.00 642.00\" xmlns=\"http://www.w3.org/2000/svg\" xmlns:xlink=\"http://www.w3.org/1999/xlink\">\n",
       "<g id=\"graph0\" class=\"graph\" transform=\"scale(1 1) rotate(0) translate(4 638)\">\n",
       "<title>Tree</title>\n",
       "<polygon fill=\"white\" stroke=\"none\" points=\"-4,4 -4,-638 573,-638 573,4 -4,4\"/>\n",
       "<!-- 0 -->\n",
       "<g id=\"node1\" class=\"node\"><title>0</title>\n",
       "<polygon fill=\"#39e581\" fill-opacity=\"0.525490\" stroke=\"black\" points=\"296.349,-634 139.651,-634 139.651,-556 296.349,-556 296.349,-634\"/>\n",
       "<text text-anchor=\"start\" x=\"147.101\" y=\"-618.8\" font-family=\"Times,serif\" font-size=\"14.00\">tear production rate ≤ 0.5</text>\n",
       "<text text-anchor=\"start\" x=\"183.913\" y=\"-604.8\" font-family=\"Times,serif\" font-size=\"14.00\">gini = 0.538</text>\n",
       "<text text-anchor=\"start\" x=\"181\" y=\"-590.8\" font-family=\"Times,serif\" font-size=\"14.00\">samples = 24</text>\n",
       "<text text-anchor=\"start\" x=\"169.731\" y=\"-576.8\" font-family=\"Times,serif\" font-size=\"14.00\">value = [4, 15, 5]</text>\n",
       "<text text-anchor=\"start\" x=\"186.445\" y=\"-562.8\" font-family=\"Times,serif\" font-size=\"14.00\">class = soft</text>\n",
       "</g>\n",
       "<!-- 1 -->\n",
       "<g id=\"node2\" class=\"node\"><title>1</title>\n",
       "<polygon fill=\"#39e581\" stroke=\"black\" points=\"210.904,-513 99.0957,-513 99.0957,-449 210.904,-449 210.904,-513\"/>\n",
       "<text text-anchor=\"start\" x=\"127.913\" y=\"-497.8\" font-family=\"Times,serif\" font-size=\"14.00\">gini = 0.0</text>\n",
       "<text text-anchor=\"start\" x=\"118\" y=\"-483.8\" font-family=\"Times,serif\" font-size=\"14.00\">samples = 12</text>\n",
       "<text text-anchor=\"start\" x=\"106.731\" y=\"-469.8\" font-family=\"Times,serif\" font-size=\"14.00\">value = [0, 12, 0]</text>\n",
       "<text text-anchor=\"start\" x=\"123.445\" y=\"-455.8\" font-family=\"Times,serif\" font-size=\"14.00\">class = soft</text>\n",
       "</g>\n",
       "<!-- 0&#45;&gt;1 -->\n",
       "<g id=\"edge1\" class=\"edge\"><title>0&#45;&gt;1</title>\n",
       "<path fill=\"none\" stroke=\"black\" d=\"M196.495,-555.769C190.369,-544.877 183.679,-532.985 177.495,-521.992\"/>\n",
       "<polygon fill=\"black\" stroke=\"black\" points=\"180.396,-520.01 172.443,-513.01 174.295,-523.442 180.396,-520.01\"/>\n",
       "<text text-anchor=\"middle\" x=\"165.702\" y=\"-532.884\" font-family=\"Times,serif\" font-size=\"14.00\">True</text>\n",
       "</g>\n",
       "<!-- 2 -->\n",
       "<g id=\"node3\" class=\"node\"><title>2</title>\n",
       "<polygon fill=\"#8139e5\" fill-opacity=\"0.125490\" stroke=\"black\" points=\"334.293,-520 229.707,-520 229.707,-442 334.293,-442 334.293,-520\"/>\n",
       "<text text-anchor=\"start\" x=\"237.139\" y=\"-504.8\" font-family=\"Times,serif\" font-size=\"14.00\">astigmatic ≤ 0.5</text>\n",
       "<text text-anchor=\"start\" x=\"247.913\" y=\"-490.8\" font-family=\"Times,serif\" font-size=\"14.00\">gini = 0.653</text>\n",
       "<text text-anchor=\"start\" x=\"245\" y=\"-476.8\" font-family=\"Times,serif\" font-size=\"14.00\">samples = 12</text>\n",
       "<text text-anchor=\"start\" x=\"237.231\" y=\"-462.8\" font-family=\"Times,serif\" font-size=\"14.00\">value = [4, 3, 5]</text>\n",
       "<text text-anchor=\"start\" x=\"248.507\" y=\"-448.8\" font-family=\"Times,serif\" font-size=\"14.00\">class = hard</text>\n",
       "</g>\n",
       "<!-- 0&#45;&gt;2 -->\n",
       "<g id=\"edge2\" class=\"edge\"><title>0&#45;&gt;2</title>\n",
       "<path fill=\"none\" stroke=\"black\" d=\"M239.846,-555.769C244.789,-547.119 250.093,-537.838 255.213,-528.877\"/>\n",
       "<polygon fill=\"black\" stroke=\"black\" points=\"258.33,-530.477 260.252,-520.058 252.252,-527.004 258.33,-530.477\"/>\n",
       "<text text-anchor=\"middle\" x=\"266.83\" y=\"-539.978\" font-family=\"Times,serif\" font-size=\"14.00\">False</text>\n",
       "</g>\n",
       "<!-- 3 -->\n",
       "<g id=\"node4\" class=\"node\"><title>3</title>\n",
       "<polygon fill=\"#8139e5\" fill-opacity=\"0.800000\" stroke=\"black\" points=\"272.388,-406 103.612,-406 103.612,-328 272.388,-328 272.388,-406\"/>\n",
       "<text text-anchor=\"start\" x=\"111.075\" y=\"-390.8\" font-family=\"Times,serif\" font-size=\"14.00\">spectacle prescription ≤ 0.5</text>\n",
       "<text text-anchor=\"start\" x=\"153.913\" y=\"-376.8\" font-family=\"Times,serif\" font-size=\"14.00\">gini = 0.278</text>\n",
       "<text text-anchor=\"start\" x=\"154.5\" y=\"-362.8\" font-family=\"Times,serif\" font-size=\"14.00\">samples = 6</text>\n",
       "<text text-anchor=\"start\" x=\"143.231\" y=\"-348.8\" font-family=\"Times,serif\" font-size=\"14.00\">value = [0, 1, 5]</text>\n",
       "<text text-anchor=\"start\" x=\"154.507\" y=\"-334.8\" font-family=\"Times,serif\" font-size=\"14.00\">class = hard</text>\n",
       "</g>\n",
       "<!-- 2&#45;&gt;3 -->\n",
       "<g id=\"edge3\" class=\"edge\"><title>2&#45;&gt;3</title>\n",
       "<path fill=\"none\" stroke=\"black\" d=\"M249.913,-441.769C242.351,-432.759 234.214,-423.064 226.405,-413.759\"/>\n",
       "<polygon fill=\"black\" stroke=\"black\" points=\"229.052,-411.468 219.942,-406.058 223.69,-415.968 229.052,-411.468\"/>\n",
       "</g>\n",
       "<!-- 10 -->\n",
       "<g id=\"node11\" class=\"node\"><title>10</title>\n",
       "<polygon fill=\"#e58139\" fill-opacity=\"0.498039\" stroke=\"black\" points=\"460.388,-406 291.612,-406 291.612,-328 460.388,-328 460.388,-406\"/>\n",
       "<text text-anchor=\"start\" x=\"299.075\" y=\"-390.8\" font-family=\"Times,serif\" font-size=\"14.00\">spectacle prescription ≤ 0.5</text>\n",
       "<text text-anchor=\"start\" x=\"341.913\" y=\"-376.8\" font-family=\"Times,serif\" font-size=\"14.00\">gini = 0.444</text>\n",
       "<text text-anchor=\"start\" x=\"342.5\" y=\"-362.8\" font-family=\"Times,serif\" font-size=\"14.00\">samples = 6</text>\n",
       "<text text-anchor=\"start\" x=\"331.231\" y=\"-348.8\" font-family=\"Times,serif\" font-size=\"14.00\">value = [4, 2, 0]</text>\n",
       "<text text-anchor=\"start\" x=\"329.088\" y=\"-334.8\" font-family=\"Times,serif\" font-size=\"14.00\">class = no lenses</text>\n",
       "</g>\n",
       "<!-- 2&#45;&gt;10 -->\n",
       "<g id=\"edge10\" class=\"edge\"><title>2&#45;&gt;10</title>\n",
       "<path fill=\"none\" stroke=\"black\" d=\"M314.087,-441.769C321.649,-432.759 329.786,-423.064 337.595,-413.759\"/>\n",
       "<polygon fill=\"black\" stroke=\"black\" points=\"340.31,-415.968 344.058,-406.058 334.948,-411.468 340.31,-415.968\"/>\n",
       "</g>\n",
       "<!-- 4 -->\n",
       "<g id=\"node5\" class=\"node\"><title>4</title>\n",
       "<polygon fill=\"#8139e5\" stroke=\"black\" points=\"104.156,-285 -0.155521,-285 -0.155521,-221 104.156,-221 104.156,-285\"/>\n",
       "<text text-anchor=\"start\" x=\"24.9126\" y=\"-269.8\" font-family=\"Times,serif\" font-size=\"14.00\">gini = 0.0</text>\n",
       "<text text-anchor=\"start\" x=\"18.5005\" y=\"-255.8\" font-family=\"Times,serif\" font-size=\"14.00\">samples = 3</text>\n",
       "<text text-anchor=\"start\" x=\"7.23145\" y=\"-241.8\" font-family=\"Times,serif\" font-size=\"14.00\">value = [0, 0, 3]</text>\n",
       "<text text-anchor=\"start\" x=\"18.5073\" y=\"-227.8\" font-family=\"Times,serif\" font-size=\"14.00\">class = hard</text>\n",
       "</g>\n",
       "<!-- 3&#45;&gt;4 -->\n",
       "<g id=\"edge4\" class=\"edge\"><title>3&#45;&gt;4</title>\n",
       "<path fill=\"none\" stroke=\"black\" d=\"M141.577,-327.769C127.293,-316.006 111.592,-303.076 97.3795,-291.371\"/>\n",
       "<polygon fill=\"black\" stroke=\"black\" points=\"99.5994,-288.665 89.655,-285.01 95.1494,-294.069 99.5994,-288.665\"/>\n",
       "</g>\n",
       "<!-- 5 -->\n",
       "<g id=\"node6\" class=\"node\"><title>5</title>\n",
       "<polygon fill=\"#8139e5\" fill-opacity=\"0.498039\" stroke=\"black\" points=\"267.23,-292 122.77,-292 122.77,-214 267.23,-214 267.23,-292\"/>\n",
       "<text text-anchor=\"start\" x=\"130.513\" y=\"-276.8\" font-family=\"Times,serif\" font-size=\"14.00\">age of the patient ≤ 0.5</text>\n",
       "<text text-anchor=\"start\" x=\"160.913\" y=\"-262.8\" font-family=\"Times,serif\" font-size=\"14.00\">gini = 0.444</text>\n",
       "<text text-anchor=\"start\" x=\"161.5\" y=\"-248.8\" font-family=\"Times,serif\" font-size=\"14.00\">samples = 3</text>\n",
       "<text text-anchor=\"start\" x=\"150.231\" y=\"-234.8\" font-family=\"Times,serif\" font-size=\"14.00\">value = [0, 1, 2]</text>\n",
       "<text text-anchor=\"start\" x=\"161.507\" y=\"-220.8\" font-family=\"Times,serif\" font-size=\"14.00\">class = hard</text>\n",
       "</g>\n",
       "<!-- 3&#45;&gt;5 -->\n",
       "<g id=\"edge5\" class=\"edge\"><title>3&#45;&gt;5</title>\n",
       "<path fill=\"none\" stroke=\"black\" d=\"M190.389,-327.769C190.902,-319.57 191.45,-310.803 191.983,-302.28\"/>\n",
       "<polygon fill=\"black\" stroke=\"black\" points=\"195.491,-302.257 192.621,-292.058 188.504,-301.821 195.491,-302.257\"/>\n",
       "</g>\n",
       "<!-- 6 -->\n",
       "<g id=\"node7\" class=\"node\"><title>6</title>\n",
       "<polygon fill=\"#8139e5\" stroke=\"black\" points=\"119.156,-171 14.8445,-171 14.8445,-107 119.156,-107 119.156,-171\"/>\n",
       "<text text-anchor=\"start\" x=\"39.9126\" y=\"-155.8\" font-family=\"Times,serif\" font-size=\"14.00\">gini = 0.0</text>\n",
       "<text text-anchor=\"start\" x=\"33.5005\" y=\"-141.8\" font-family=\"Times,serif\" font-size=\"14.00\">samples = 1</text>\n",
       "<text text-anchor=\"start\" x=\"22.2314\" y=\"-127.8\" font-family=\"Times,serif\" font-size=\"14.00\">value = [0, 0, 1]</text>\n",
       "<text text-anchor=\"start\" x=\"33.5073\" y=\"-113.8\" font-family=\"Times,serif\" font-size=\"14.00\">class = hard</text>\n",
       "</g>\n",
       "<!-- 5&#45;&gt;6 -->\n",
       "<g id=\"edge6\" class=\"edge\"><title>5&#45;&gt;6</title>\n",
       "<path fill=\"none\" stroke=\"black\" d=\"M151.308,-213.769C137.989,-202.115 123.36,-189.315 110.082,-177.697\"/>\n",
       "<polygon fill=\"black\" stroke=\"black\" points=\"112.271,-174.961 102.44,-171.01 107.661,-180.229 112.271,-174.961\"/>\n",
       "</g>\n",
       "<!-- 7 -->\n",
       "<g id=\"node8\" class=\"node\"><title>7</title>\n",
       "<polygon fill=\"none\" stroke=\"black\" points=\"282.23,-178 137.77,-178 137.77,-100 282.23,-100 282.23,-178\"/>\n",
       "<text text-anchor=\"start\" x=\"145.513\" y=\"-162.8\" font-family=\"Times,serif\" font-size=\"14.00\">age of the patient ≤ 1.5</text>\n",
       "<text text-anchor=\"start\" x=\"182.913\" y=\"-148.8\" font-family=\"Times,serif\" font-size=\"14.00\">gini = 0.5</text>\n",
       "<text text-anchor=\"start\" x=\"176.5\" y=\"-134.8\" font-family=\"Times,serif\" font-size=\"14.00\">samples = 2</text>\n",
       "<text text-anchor=\"start\" x=\"165.231\" y=\"-120.8\" font-family=\"Times,serif\" font-size=\"14.00\">value = [0, 1, 1]</text>\n",
       "<text text-anchor=\"start\" x=\"178.445\" y=\"-106.8\" font-family=\"Times,serif\" font-size=\"14.00\">class = soft</text>\n",
       "</g>\n",
       "<!-- 5&#45;&gt;7 -->\n",
       "<g id=\"edge7\" class=\"edge\"><title>5&#45;&gt;7</title>\n",
       "<path fill=\"none\" stroke=\"black\" d=\"M200.12,-213.769C201.23,-205.48 202.418,-196.61 203.572,-187.999\"/>\n",
       "<polygon fill=\"black\" stroke=\"black\" points=\"207.044,-188.435 204.903,-178.058 200.106,-187.505 207.044,-188.435\"/>\n",
       "</g>\n",
       "<!-- 8 -->\n",
       "<g id=\"node9\" class=\"node\"><title>8</title>\n",
       "<polygon fill=\"#39e581\" stroke=\"black\" points=\"200.156,-64 95.8445,-64 95.8445,-0 200.156,-0 200.156,-64\"/>\n",
       "<text text-anchor=\"start\" x=\"120.913\" y=\"-48.8\" font-family=\"Times,serif\" font-size=\"14.00\">gini = 0.0</text>\n",
       "<text text-anchor=\"start\" x=\"114.5\" y=\"-34.8\" font-family=\"Times,serif\" font-size=\"14.00\">samples = 1</text>\n",
       "<text text-anchor=\"start\" x=\"103.231\" y=\"-20.8\" font-family=\"Times,serif\" font-size=\"14.00\">value = [0, 1, 0]</text>\n",
       "<text text-anchor=\"start\" x=\"116.445\" y=\"-6.8\" font-family=\"Times,serif\" font-size=\"14.00\">class = soft</text>\n",
       "</g>\n",
       "<!-- 7&#45;&gt;8 -->\n",
       "<g id=\"edge8\" class=\"edge\"><title>7&#45;&gt;8</title>\n",
       "<path fill=\"none\" stroke=\"black\" d=\"M187.441,-99.7956C182.248,-91 176.712,-81.625 171.48,-72.765\"/>\n",
       "<polygon fill=\"black\" stroke=\"black\" points=\"174.472,-70.9485 166.374,-64.1172 168.445,-74.5077 174.472,-70.9485\"/>\n",
       "</g>\n",
       "<!-- 9 -->\n",
       "<g id=\"node10\" class=\"node\"><title>9</title>\n",
       "<polygon fill=\"#8139e5\" stroke=\"black\" points=\"324.156,-64 219.844,-64 219.844,-0 324.156,-0 324.156,-64\"/>\n",
       "<text text-anchor=\"start\" x=\"244.913\" y=\"-48.8\" font-family=\"Times,serif\" font-size=\"14.00\">gini = 0.0</text>\n",
       "<text text-anchor=\"start\" x=\"238.5\" y=\"-34.8\" font-family=\"Times,serif\" font-size=\"14.00\">samples = 1</text>\n",
       "<text text-anchor=\"start\" x=\"227.231\" y=\"-20.8\" font-family=\"Times,serif\" font-size=\"14.00\">value = [0, 0, 1]</text>\n",
       "<text text-anchor=\"start\" x=\"238.507\" y=\"-6.8\" font-family=\"Times,serif\" font-size=\"14.00\">class = hard</text>\n",
       "</g>\n",
       "<!-- 7&#45;&gt;9 -->\n",
       "<g id=\"edge9\" class=\"edge\"><title>7&#45;&gt;9</title>\n",
       "<path fill=\"none\" stroke=\"black\" d=\"M232.559,-99.7956C237.752,-91 243.288,-81.625 248.52,-72.765\"/>\n",
       "<polygon fill=\"black\" stroke=\"black\" points=\"251.555,-74.5077 253.626,-64.1172 245.528,-70.9485 251.555,-74.5077\"/>\n",
       "</g>\n",
       "<!-- 11 -->\n",
       "<g id=\"node12\" class=\"node\"><title>11</title>\n",
       "<polygon fill=\"#39e581\" fill-opacity=\"0.498039\" stroke=\"black\" points=\"442.23,-292 297.77,-292 297.77,-214 442.23,-214 442.23,-292\"/>\n",
       "<text text-anchor=\"start\" x=\"305.513\" y=\"-276.8\" font-family=\"Times,serif\" font-size=\"14.00\">age of the patient ≤ 0.5</text>\n",
       "<text text-anchor=\"start\" x=\"335.913\" y=\"-262.8\" font-family=\"Times,serif\" font-size=\"14.00\">gini = 0.444</text>\n",
       "<text text-anchor=\"start\" x=\"336.5\" y=\"-248.8\" font-family=\"Times,serif\" font-size=\"14.00\">samples = 3</text>\n",
       "<text text-anchor=\"start\" x=\"325.231\" y=\"-234.8\" font-family=\"Times,serif\" font-size=\"14.00\">value = [1, 2, 0]</text>\n",
       "<text text-anchor=\"start\" x=\"338.445\" y=\"-220.8\" font-family=\"Times,serif\" font-size=\"14.00\">class = soft</text>\n",
       "</g>\n",
       "<!-- 10&#45;&gt;11 -->\n",
       "<g id=\"edge11\" class=\"edge\"><title>10&#45;&gt;11</title>\n",
       "<path fill=\"none\" stroke=\"black\" d=\"M373.952,-327.769C373.513,-319.57 373.043,-310.803 372.586,-302.28\"/>\n",
       "<polygon fill=\"black\" stroke=\"black\" points=\"376.069,-301.857 372.039,-292.058 369.079,-302.231 376.069,-301.857\"/>\n",
       "</g>\n",
       "<!-- 14 -->\n",
       "<g id=\"node15\" class=\"node\"><title>14</title>\n",
       "<polygon fill=\"#e58139\" stroke=\"black\" points=\"569.368,-285 460.632,-285 460.632,-221 569.368,-221 569.368,-285\"/>\n",
       "<text text-anchor=\"start\" x=\"487.913\" y=\"-269.8\" font-family=\"Times,serif\" font-size=\"14.00\">gini = 0.0</text>\n",
       "<text text-anchor=\"start\" x=\"481.5\" y=\"-255.8\" font-family=\"Times,serif\" font-size=\"14.00\">samples = 3</text>\n",
       "<text text-anchor=\"start\" x=\"470.231\" y=\"-241.8\" font-family=\"Times,serif\" font-size=\"14.00\">value = [3, 0, 0]</text>\n",
       "<text text-anchor=\"start\" x=\"468.088\" y=\"-227.8\" font-family=\"Times,serif\" font-size=\"14.00\">class = no lenses</text>\n",
       "</g>\n",
       "<!-- 10&#45;&gt;14 -->\n",
       "<g id=\"edge14\" class=\"edge\"><title>10&#45;&gt;14</title>\n",
       "<path fill=\"none\" stroke=\"black\" d=\"M423.447,-327.769C438.046,-316.006 454.093,-303.076 468.619,-291.371\"/>\n",
       "<polygon fill=\"black\" stroke=\"black\" points=\"470.924,-294.01 476.514,-285.01 466.532,-288.559 470.924,-294.01\"/>\n",
       "</g>\n",
       "<!-- 12 -->\n",
       "<g id=\"node13\" class=\"node\"><title>12</title>\n",
       "<polygon fill=\"#e58139\" stroke=\"black\" points=\"416.368,-171 307.632,-171 307.632,-107 416.368,-107 416.368,-171\"/>\n",
       "<text text-anchor=\"start\" x=\"334.913\" y=\"-155.8\" font-family=\"Times,serif\" font-size=\"14.00\">gini = 0.0</text>\n",
       "<text text-anchor=\"start\" x=\"328.5\" y=\"-141.8\" font-family=\"Times,serif\" font-size=\"14.00\">samples = 1</text>\n",
       "<text text-anchor=\"start\" x=\"317.231\" y=\"-127.8\" font-family=\"Times,serif\" font-size=\"14.00\">value = [1, 0, 0]</text>\n",
       "<text text-anchor=\"start\" x=\"315.088\" y=\"-113.8\" font-family=\"Times,serif\" font-size=\"14.00\">class = no lenses</text>\n",
       "</g>\n",
       "<!-- 11&#45;&gt;12 -->\n",
       "<g id=\"edge12\" class=\"edge\"><title>11&#45;&gt;12</title>\n",
       "<path fill=\"none\" stroke=\"black\" d=\"M367.269,-213.769C366.522,-203.313 365.71,-191.935 364.951,-181.315\"/>\n",
       "<polygon fill=\"black\" stroke=\"black\" points=\"368.419,-180.735 364.215,-171.01 361.436,-181.234 368.419,-180.735\"/>\n",
       "</g>\n",
       "<!-- 13 -->\n",
       "<g id=\"node14\" class=\"node\"><title>13</title>\n",
       "<polygon fill=\"#39e581\" stroke=\"black\" points=\"540.156,-171 435.844,-171 435.844,-107 540.156,-107 540.156,-171\"/>\n",
       "<text text-anchor=\"start\" x=\"460.913\" y=\"-155.8\" font-family=\"Times,serif\" font-size=\"14.00\">gini = 0.0</text>\n",
       "<text text-anchor=\"start\" x=\"454.5\" y=\"-141.8\" font-family=\"Times,serif\" font-size=\"14.00\">samples = 2</text>\n",
       "<text text-anchor=\"start\" x=\"443.231\" y=\"-127.8\" font-family=\"Times,serif\" font-size=\"14.00\">value = [0, 2, 0]</text>\n",
       "<text text-anchor=\"start\" x=\"456.445\" y=\"-113.8\" font-family=\"Times,serif\" font-size=\"14.00\">class = soft</text>\n",
       "</g>\n",
       "<!-- 11&#45;&gt;13 -->\n",
       "<g id=\"edge13\" class=\"edge\"><title>11&#45;&gt;13</title>\n",
       "<path fill=\"none\" stroke=\"black\" d=\"M410.279,-213.769C422.443,-202.224 435.791,-189.555 447.94,-178.023\"/>\n",
       "<polygon fill=\"black\" stroke=\"black\" points=\"450.485,-180.433 455.329,-171.01 445.666,-175.356 450.485,-180.433\"/>\n",
=======
       "<svg width=\"931pt\" height=\"642pt\"\n",
       " viewBox=\"0.00 0.00 931.00 642.00\" xmlns=\"http://www.w3.org/2000/svg\" xmlns:xlink=\"http://www.w3.org/1999/xlink\">\n",
       "<g id=\"graph0\" class=\"graph\" transform=\"scale(1 1) rotate(0) translate(4 638)\">\n",
       "<title>Tree</title>\n",
       "<polygon fill=\"white\" stroke=\"none\" points=\"-4,4 -4,-638 927,-638 927,4 -4,4\"/>\n",
       "<!-- 0 -->\n",
       "<g id=\"node1\" class=\"node\"><title>0</title>\n",
       "<polygon fill=\"none\" stroke=\"black\" points=\"572.331,-634 427.669,-634 427.669,-556 572.331,-556 572.331,-634\"/>\n",
       "<text text-anchor=\"start\" x=\"435.113\" y=\"-618.8\" font-family=\"Times,serif\" font-size=\"14.00\">petal width in cm ≤ 0.8</text>\n",
       "<text text-anchor=\"start\" x=\"462.413\" y=\"-604.8\" font-family=\"Times,serif\" font-size=\"14.00\">gini = 0.6667</text>\n",
       "<text text-anchor=\"start\" x=\"459.5\" y=\"-590.8\" font-family=\"Times,serif\" font-size=\"14.00\">samples = 150</text>\n",
       "<text text-anchor=\"start\" x=\"444.731\" y=\"-576.8\" font-family=\"Times,serif\" font-size=\"14.00\">value = [50, 50, 50]</text>\n",
       "<text text-anchor=\"start\" x=\"450.176\" y=\"-562.8\" font-family=\"Times,serif\" font-size=\"14.00\">class = Iris&#45;setosa</text>\n",
       "</g>\n",
       "<!-- 1 -->\n",
       "<g id=\"node2\" class=\"node\"><title>1</title>\n",
       "<polygon fill=\"#e58139\" stroke=\"black\" points=\"481.237,-513 366.763,-513 366.763,-449 481.237,-449 481.237,-513\"/>\n",
       "<text text-anchor=\"start\" x=\"396.913\" y=\"-497.8\" font-family=\"Times,serif\" font-size=\"14.00\">gini = 0.0</text>\n",
       "<text text-anchor=\"start\" x=\"387\" y=\"-483.8\" font-family=\"Times,serif\" font-size=\"14.00\">samples = 50</text>\n",
       "<text text-anchor=\"start\" x=\"375.731\" y=\"-469.8\" font-family=\"Times,serif\" font-size=\"14.00\">value = [50, 0, 0]</text>\n",
       "<text text-anchor=\"start\" x=\"374.176\" y=\"-455.8\" font-family=\"Times,serif\" font-size=\"14.00\">class = Iris&#45;setosa</text>\n",
       "</g>\n",
       "<!-- 0&#45;&gt;1 -->\n",
       "<g id=\"edge1\" class=\"edge\"><title>0&#45;&gt;1</title>\n",
       "<path fill=\"none\" stroke=\"black\" d=\"M474.058,-555.769C466.519,-544.66 458.274,-532.509 450.69,-521.333\"/>\n",
       "<polygon fill=\"black\" stroke=\"black\" points=\"453.554,-519.32 445.043,-513.01 447.761,-523.25 453.554,-519.32\"/>\n",
       "<text text-anchor=\"middle\" x=\"440.341\" y=\"-533.364\" font-family=\"Times,serif\" font-size=\"14.00\">True</text>\n",
       "</g>\n",
       "<!-- 2 -->\n",
       "<g id=\"node3\" class=\"node\"><title>2</title>\n",
       "<polygon fill=\"none\" stroke=\"black\" points=\"652.081,-520 499.919,-520 499.919,-442 652.081,-442 652.081,-520\"/>\n",
       "<text text-anchor=\"start\" x=\"507.613\" y=\"-504.8\" font-family=\"Times,serif\" font-size=\"14.00\">petal width in cm ≤ 1.75</text>\n",
       "<text text-anchor=\"start\" x=\"548.913\" y=\"-490.8\" font-family=\"Times,serif\" font-size=\"14.00\">gini = 0.5</text>\n",
       "<text text-anchor=\"start\" x=\"535.5\" y=\"-476.8\" font-family=\"Times,serif\" font-size=\"14.00\">samples = 100</text>\n",
       "<text text-anchor=\"start\" x=\"524.231\" y=\"-462.8\" font-family=\"Times,serif\" font-size=\"14.00\">value = [0, 50, 50]</text>\n",
       "<text text-anchor=\"start\" x=\"515.293\" y=\"-448.8\" font-family=\"Times,serif\" font-size=\"14.00\">class = Iris&#45;versicolor</text>\n",
       "</g>\n",
       "<!-- 0&#45;&gt;2 -->\n",
       "<g id=\"edge2\" class=\"edge\"><title>0&#45;&gt;2</title>\n",
       "<path fill=\"none\" stroke=\"black\" d=\"M525.942,-555.769C531.873,-547.029 538.241,-537.645 544.38,-528.597\"/>\n",
       "<polygon fill=\"black\" stroke=\"black\" points=\"547.456,-530.299 550.175,-520.058 541.663,-526.368 547.456,-530.299\"/>\n",
       "<text text-anchor=\"middle\" x=\"554.876\" y=\"-540.412\" font-family=\"Times,serif\" font-size=\"14.00\">False</text>\n",
       "</g>\n",
       "<!-- 3 -->\n",
       "<g id=\"node4\" class=\"node\"><title>3</title>\n",
       "<polygon fill=\"#39e581\" fill-opacity=\"0.898039\" stroke=\"black\" points=\"534.408,-406 379.592,-406 379.592,-328 534.408,-328 534.408,-406\"/>\n",
       "<text text-anchor=\"start\" x=\"387.062\" y=\"-390.8\" font-family=\"Times,serif\" font-size=\"14.00\">petal length in cm ≤ 4.95</text>\n",
       "<text text-anchor=\"start\" x=\"422.913\" y=\"-376.8\" font-family=\"Times,serif\" font-size=\"14.00\">gini = 0.168</text>\n",
       "<text text-anchor=\"start\" x=\"420\" y=\"-362.8\" font-family=\"Times,serif\" font-size=\"14.00\">samples = 54</text>\n",
       "<text text-anchor=\"start\" x=\"408.731\" y=\"-348.8\" font-family=\"Times,serif\" font-size=\"14.00\">value = [0, 49, 5]</text>\n",
       "<text text-anchor=\"start\" x=\"396.293\" y=\"-334.8\" font-family=\"Times,serif\" font-size=\"14.00\">class = Iris&#45;versicolor</text>\n",
       "</g>\n",
       "<!-- 2&#45;&gt;3 -->\n",
       "<g id=\"edge3\" class=\"edge\"><title>2&#45;&gt;3</title>\n",
       "<path fill=\"none\" stroke=\"black\" d=\"M535.38,-441.769C525.519,-432.488 514.886,-422.481 504.73,-412.923\"/>\n",
       "<polygon fill=\"black\" stroke=\"black\" points=\"507.118,-410.363 497.437,-406.058 502.32,-415.461 507.118,-410.363\"/>\n",
       "</g>\n",
       "<!-- 12 -->\n",
       "<g id=\"node13\" class=\"node\"><title>12</title>\n",
       "<polygon fill=\"#8139e5\" fill-opacity=\"0.976471\" stroke=\"black\" points=\"773.408,-406 618.592,-406 618.592,-328 773.408,-328 773.408,-406\"/>\n",
       "<text text-anchor=\"start\" x=\"626.062\" y=\"-390.8\" font-family=\"Times,serif\" font-size=\"14.00\">petal length in cm ≤ 4.85</text>\n",
       "<text text-anchor=\"start\" x=\"658.413\" y=\"-376.8\" font-family=\"Times,serif\" font-size=\"14.00\">gini = 0.0425</text>\n",
       "<text text-anchor=\"start\" x=\"659\" y=\"-362.8\" font-family=\"Times,serif\" font-size=\"14.00\">samples = 46</text>\n",
       "<text text-anchor=\"start\" x=\"647.731\" y=\"-348.8\" font-family=\"Times,serif\" font-size=\"14.00\">value = [0, 1, 45]</text>\n",
       "<text text-anchor=\"start\" x=\"638.527\" y=\"-334.8\" font-family=\"Times,serif\" font-size=\"14.00\">class = Iris&#45;virginica</text>\n",
       "</g>\n",
       "<!-- 2&#45;&gt;12 -->\n",
       "<g id=\"edge12\" class=\"edge\"><title>2&#45;&gt;12</title>\n",
       "<path fill=\"none\" stroke=\"black\" d=\"M616.962,-441.769C626.905,-432.488 637.627,-422.481 647.869,-412.923\"/>\n",
       "<polygon fill=\"black\" stroke=\"black\" points=\"650.301,-415.44 655.223,-406.058 645.524,-410.323 650.301,-415.44\"/>\n",
       "</g>\n",
       "<!-- 4 -->\n",
       "<g id=\"node5\" class=\"node\"><title>4</title>\n",
       "<polygon fill=\"#39e581\" fill-opacity=\"0.980392\" stroke=\"black\" points=\"296.081,-292 143.919,-292 143.919,-214 296.081,-214 296.081,-292\"/>\n",
       "<text text-anchor=\"start\" x=\"151.613\" y=\"-276.8\" font-family=\"Times,serif\" font-size=\"14.00\">petal width in cm ≤ 1.65</text>\n",
       "<text text-anchor=\"start\" x=\"182.413\" y=\"-262.8\" font-family=\"Times,serif\" font-size=\"14.00\">gini = 0.0408</text>\n",
       "<text text-anchor=\"start\" x=\"183\" y=\"-248.8\" font-family=\"Times,serif\" font-size=\"14.00\">samples = 48</text>\n",
       "<text text-anchor=\"start\" x=\"171.731\" y=\"-234.8\" font-family=\"Times,serif\" font-size=\"14.00\">value = [0, 47, 1]</text>\n",
       "<text text-anchor=\"start\" x=\"159.293\" y=\"-220.8\" font-family=\"Times,serif\" font-size=\"14.00\">class = Iris&#45;versicolor</text>\n",
       "</g>\n",
       "<!-- 3&#45;&gt;4 -->\n",
       "<g id=\"edge4\" class=\"edge\"><title>3&#45;&gt;4</title>\n",
       "<path fill=\"none\" stroke=\"black\" d=\"M379.397,-329.327C355.696,-318.126 329.506,-305.75 305.321,-294.321\"/>\n",
       "<polygon fill=\"black\" stroke=\"black\" points=\"306.697,-291.1 296.16,-289.991 303.706,-297.428 306.697,-291.1\"/>\n",
       "</g>\n",
       "<!-- 7 -->\n",
       "<g id=\"node8\" class=\"node\"><title>7</title>\n",
       "<polygon fill=\"#8139e5\" fill-opacity=\"0.498039\" stroke=\"black\" points=\"533.081,-292 380.919,-292 380.919,-214 533.081,-214 533.081,-292\"/>\n",
       "<text text-anchor=\"start\" x=\"388.613\" y=\"-276.8\" font-family=\"Times,serif\" font-size=\"14.00\">petal width in cm ≤ 1.55</text>\n",
       "<text text-anchor=\"start\" x=\"419.413\" y=\"-262.8\" font-family=\"Times,serif\" font-size=\"14.00\">gini = 0.4444</text>\n",
       "<text text-anchor=\"start\" x=\"423.5\" y=\"-248.8\" font-family=\"Times,serif\" font-size=\"14.00\">samples = 6</text>\n",
       "<text text-anchor=\"start\" x=\"412.231\" y=\"-234.8\" font-family=\"Times,serif\" font-size=\"14.00\">value = [0, 2, 4]</text>\n",
       "<text text-anchor=\"start\" x=\"399.527\" y=\"-220.8\" font-family=\"Times,serif\" font-size=\"14.00\">class = Iris&#45;virginica</text>\n",
       "</g>\n",
       "<!-- 3&#45;&gt;7 -->\n",
       "<g id=\"edge7\" class=\"edge\"><title>3&#45;&gt;7</title>\n",
       "<path fill=\"none\" stroke=\"black\" d=\"M457,-327.769C457,-319.57 457,-310.803 457,-302.28\"/>\n",
       "<polygon fill=\"black\" stroke=\"black\" points=\"460.5,-302.058 457,-292.058 453.5,-302.059 460.5,-302.058\"/>\n",
       "</g>\n",
       "<!-- 5 -->\n",
       "<g id=\"node6\" class=\"node\"><title>5</title>\n",
       "<polygon fill=\"#39e581\" stroke=\"black\" points=\"136.559,-171 -0.559372,-171 -0.559372,-107 136.559,-107 136.559,-171\"/>\n",
       "<text text-anchor=\"start\" x=\"40.9126\" y=\"-155.8\" font-family=\"Times,serif\" font-size=\"14.00\">gini = 0.0</text>\n",
       "<text text-anchor=\"start\" x=\"31.0005\" y=\"-141.8\" font-family=\"Times,serif\" font-size=\"14.00\">samples = 47</text>\n",
       "<text text-anchor=\"start\" x=\"19.7314\" y=\"-127.8\" font-family=\"Times,serif\" font-size=\"14.00\">value = [0, 47, 0]</text>\n",
       "<text text-anchor=\"start\" x=\"7.29346\" y=\"-113.8\" font-family=\"Times,serif\" font-size=\"14.00\">class = Iris&#45;versicolor</text>\n",
       "</g>\n",
       "<!-- 4&#45;&gt;5 -->\n",
       "<g id=\"edge5\" class=\"edge\"><title>4&#45;&gt;5</title>\n",
       "<path fill=\"none\" stroke=\"black\" d=\"M168.115,-213.769C152.003,-201.897 134.278,-188.837 118.277,-177.047\"/>\n",
       "<polygon fill=\"black\" stroke=\"black\" points=\"120.212,-174.124 110.085,-171.01 116.059,-179.76 120.212,-174.124\"/>\n",
       "</g>\n",
       "<!-- 6 -->\n",
       "<g id=\"node7\" class=\"node\"><title>6</title>\n",
       "<polygon fill=\"#8139e5\" stroke=\"black\" points=\"285.21,-171 154.79,-171 154.79,-107 285.21,-107 285.21,-171\"/>\n",
       "<text text-anchor=\"start\" x=\"192.913\" y=\"-155.8\" font-family=\"Times,serif\" font-size=\"14.00\">gini = 0.0</text>\n",
       "<text text-anchor=\"start\" x=\"186.5\" y=\"-141.8\" font-family=\"Times,serif\" font-size=\"14.00\">samples = 1</text>\n",
       "<text text-anchor=\"start\" x=\"175.231\" y=\"-127.8\" font-family=\"Times,serif\" font-size=\"14.00\">value = [0, 0, 1]</text>\n",
       "<text text-anchor=\"start\" x=\"162.527\" y=\"-113.8\" font-family=\"Times,serif\" font-size=\"14.00\">class = Iris&#45;virginica</text>\n",
       "</g>\n",
       "<!-- 4&#45;&gt;6 -->\n",
       "<g id=\"edge6\" class=\"edge\"><title>4&#45;&gt;6</title>\n",
       "<path fill=\"none\" stroke=\"black\" d=\"M220,-213.769C220,-203.313 220,-191.935 220,-181.315\"/>\n",
       "<polygon fill=\"black\" stroke=\"black\" points=\"223.5,-181.01 220,-171.01 216.5,-181.01 223.5,-181.01\"/>\n",
       "</g>\n",
       "<!-- 8 -->\n",
       "<g id=\"node9\" class=\"node\"><title>8</title>\n",
       "<polygon fill=\"#8139e5\" stroke=\"black\" points=\"434.21,-171 303.79,-171 303.79,-107 434.21,-107 434.21,-171\"/>\n",
       "<text text-anchor=\"start\" x=\"341.913\" y=\"-155.8\" font-family=\"Times,serif\" font-size=\"14.00\">gini = 0.0</text>\n",
       "<text text-anchor=\"start\" x=\"335.5\" y=\"-141.8\" font-family=\"Times,serif\" font-size=\"14.00\">samples = 3</text>\n",
       "<text text-anchor=\"start\" x=\"324.231\" y=\"-127.8\" font-family=\"Times,serif\" font-size=\"14.00\">value = [0, 0, 3]</text>\n",
       "<text text-anchor=\"start\" x=\"311.527\" y=\"-113.8\" font-family=\"Times,serif\" font-size=\"14.00\">class = Iris&#45;virginica</text>\n",
       "</g>\n",
       "<!-- 7&#45;&gt;8 -->\n",
       "<g id=\"edge8\" class=\"edge\"><title>7&#45;&gt;8</title>\n",
       "<path fill=\"none\" stroke=\"black\" d=\"M426.962,-213.769C418.147,-202.551 408.498,-190.271 399.647,-179.005\"/>\n",
       "<polygon fill=\"black\" stroke=\"black\" points=\"402.295,-176.711 393.365,-171.01 396.791,-181.036 402.295,-176.711\"/>\n",
       "</g>\n",
       "<!-- 9 -->\n",
       "<g id=\"node10\" class=\"node\"><title>9</title>\n",
       "<polygon fill=\"#39e581\" fill-opacity=\"0.498039\" stroke=\"black\" points=\"609.576,-178 452.424,-178 452.424,-100 609.576,-100 609.576,-178\"/>\n",
       "<text text-anchor=\"start\" x=\"460.282\" y=\"-162.8\" font-family=\"Times,serif\" font-size=\"14.00\">sepal length in cm ≤ 6.95</text>\n",
       "<text text-anchor=\"start\" x=\"493.413\" y=\"-148.8\" font-family=\"Times,serif\" font-size=\"14.00\">gini = 0.4444</text>\n",
       "<text text-anchor=\"start\" x=\"497.5\" y=\"-134.8\" font-family=\"Times,serif\" font-size=\"14.00\">samples = 3</text>\n",
       "<text text-anchor=\"start\" x=\"486.231\" y=\"-120.8\" font-family=\"Times,serif\" font-size=\"14.00\">value = [0, 2, 1]</text>\n",
       "<text text-anchor=\"start\" x=\"470.293\" y=\"-106.8\" font-family=\"Times,serif\" font-size=\"14.00\">class = Iris&#45;versicolor</text>\n",
       "</g>\n",
       "<!-- 7&#45;&gt;9 -->\n",
       "<g id=\"edge9\" class=\"edge\"><title>7&#45;&gt;9</title>\n",
       "<path fill=\"none\" stroke=\"black\" d=\"M482.26,-213.769C488.034,-205.029 494.235,-195.645 500.212,-186.597\"/>\n",
       "<polygon fill=\"black\" stroke=\"black\" points=\"503.262,-188.331 505.854,-178.058 497.421,-184.472 503.262,-188.331\"/>\n",
       "</g>\n",
       "<!-- 10 -->\n",
       "<g id=\"node11\" class=\"node\"><title>10</title>\n",
       "<polygon fill=\"#39e581\" stroke=\"black\" points=\"523.559,-64 386.441,-64 386.441,-0 523.559,-0 523.559,-64\"/>\n",
       "<text text-anchor=\"start\" x=\"427.913\" y=\"-48.8\" font-family=\"Times,serif\" font-size=\"14.00\">gini = 0.0</text>\n",
       "<text text-anchor=\"start\" x=\"421.5\" y=\"-34.8\" font-family=\"Times,serif\" font-size=\"14.00\">samples = 2</text>\n",
       "<text text-anchor=\"start\" x=\"410.231\" y=\"-20.8\" font-family=\"Times,serif\" font-size=\"14.00\">value = [0, 2, 0]</text>\n",
       "<text text-anchor=\"start\" x=\"394.293\" y=\"-6.8\" font-family=\"Times,serif\" font-size=\"14.00\">class = Iris&#45;versicolor</text>\n",
       "</g>\n",
       "<!-- 9&#45;&gt;10 -->\n",
       "<g id=\"edge10\" class=\"edge\"><title>9&#45;&gt;10</title>\n",
       "<path fill=\"none\" stroke=\"black\" d=\"M503.347,-99.7956C496.915,-90.9084 490.054,-81.4296 483.582,-72.4883\"/>\n",
       "<polygon fill=\"black\" stroke=\"black\" points=\"486.222,-70.1657 477.523,-64.1172 480.551,-74.2701 486.222,-70.1657\"/>\n",
       "</g>\n",
       "<!-- 11 -->\n",
       "<g id=\"node12\" class=\"node\"><title>11</title>\n",
       "<polygon fill=\"#8139e5\" stroke=\"black\" points=\"672.21,-64 541.79,-64 541.79,-0 672.21,-0 672.21,-64\"/>\n",
       "<text text-anchor=\"start\" x=\"579.913\" y=\"-48.8\" font-family=\"Times,serif\" font-size=\"14.00\">gini = 0.0</text>\n",
       "<text text-anchor=\"start\" x=\"573.5\" y=\"-34.8\" font-family=\"Times,serif\" font-size=\"14.00\">samples = 1</text>\n",
       "<text text-anchor=\"start\" x=\"562.231\" y=\"-20.8\" font-family=\"Times,serif\" font-size=\"14.00\">value = [0, 0, 1]</text>\n",
       "<text text-anchor=\"start\" x=\"549.527\" y=\"-6.8\" font-family=\"Times,serif\" font-size=\"14.00\">class = Iris&#45;virginica</text>\n",
       "</g>\n",
       "<!-- 9&#45;&gt;11 -->\n",
       "<g id=\"edge11\" class=\"edge\"><title>9&#45;&gt;11</title>\n",
       "<path fill=\"none\" stroke=\"black\" d=\"M558.653,-99.7956C565.085,-90.9084 571.946,-81.4296 578.418,-72.4883\"/>\n",
       "<polygon fill=\"black\" stroke=\"black\" points=\"581.449,-74.2701 584.477,-64.1172 575.778,-70.1657 581.449,-74.2701\"/>\n",
       "</g>\n",
       "<!-- 13 -->\n",
       "<g id=\"node14\" class=\"node\"><title>13</title>\n",
       "<polygon fill=\"#8139e5\" fill-opacity=\"0.498039\" stroke=\"black\" points=\"774.576,-292 617.424,-292 617.424,-214 774.576,-214 774.576,-292\"/>\n",
       "<text text-anchor=\"start\" x=\"625.282\" y=\"-276.8\" font-family=\"Times,serif\" font-size=\"14.00\">sepal length in cm ≤ 5.95</text>\n",
       "<text text-anchor=\"start\" x=\"658.413\" y=\"-262.8\" font-family=\"Times,serif\" font-size=\"14.00\">gini = 0.4444</text>\n",
       "<text text-anchor=\"start\" x=\"662.5\" y=\"-248.8\" font-family=\"Times,serif\" font-size=\"14.00\">samples = 3</text>\n",
       "<text text-anchor=\"start\" x=\"651.231\" y=\"-234.8\" font-family=\"Times,serif\" font-size=\"14.00\">value = [0, 1, 2]</text>\n",
       "<text text-anchor=\"start\" x=\"638.527\" y=\"-220.8\" font-family=\"Times,serif\" font-size=\"14.00\">class = Iris&#45;virginica</text>\n",
       "</g>\n",
       "<!-- 12&#45;&gt;13 -->\n",
       "<g id=\"edge13\" class=\"edge\"><title>12&#45;&gt;13</title>\n",
       "<path fill=\"none\" stroke=\"black\" d=\"M696,-327.769C696,-319.57 696,-310.803 696,-302.28\"/>\n",
       "<polygon fill=\"black\" stroke=\"black\" points=\"699.5,-302.058 696,-292.058 692.5,-302.059 699.5,-302.058\"/>\n",
       "</g>\n",
       "<!-- 16 -->\n",
       "<g id=\"node17\" class=\"node\"><title>16</title>\n",
       "<polygon fill=\"#8139e5\" stroke=\"black\" points=\"923.21,-285 792.79,-285 792.79,-221 923.21,-221 923.21,-285\"/>\n",
       "<text text-anchor=\"start\" x=\"830.913\" y=\"-269.8\" font-family=\"Times,serif\" font-size=\"14.00\">gini = 0.0</text>\n",
       "<text text-anchor=\"start\" x=\"821\" y=\"-255.8\" font-family=\"Times,serif\" font-size=\"14.00\">samples = 43</text>\n",
       "<text text-anchor=\"start\" x=\"809.731\" y=\"-241.8\" font-family=\"Times,serif\" font-size=\"14.00\">value = [0, 0, 43]</text>\n",
       "<text text-anchor=\"start\" x=\"800.527\" y=\"-227.8\" font-family=\"Times,serif\" font-size=\"14.00\">class = Iris&#45;virginica</text>\n",
       "</g>\n",
       "<!-- 12&#45;&gt;16 -->\n",
       "<g id=\"edge16\" class=\"edge\"><title>12&#45;&gt;16</title>\n",
       "<path fill=\"none\" stroke=\"black\" d=\"M751.298,-327.769C768.628,-315.788 787.708,-302.597 804.884,-290.722\"/>\n",
       "<polygon fill=\"black\" stroke=\"black\" points=\"806.911,-293.576 813.146,-285.01 802.93,-287.818 806.911,-293.576\"/>\n",
       "</g>\n",
       "<!-- 14 -->\n",
       "<g id=\"node15\" class=\"node\"><title>14</title>\n",
       "<polygon fill=\"#39e581\" stroke=\"black\" points=\"764.559,-171 627.441,-171 627.441,-107 764.559,-107 764.559,-171\"/>\n",
       "<text text-anchor=\"start\" x=\"668.913\" y=\"-155.8\" font-family=\"Times,serif\" font-size=\"14.00\">gini = 0.0</text>\n",
       "<text text-anchor=\"start\" x=\"662.5\" y=\"-141.8\" font-family=\"Times,serif\" font-size=\"14.00\">samples = 1</text>\n",
       "<text text-anchor=\"start\" x=\"651.231\" y=\"-127.8\" font-family=\"Times,serif\" font-size=\"14.00\">value = [0, 1, 0]</text>\n",
       "<text text-anchor=\"start\" x=\"635.293\" y=\"-113.8\" font-family=\"Times,serif\" font-size=\"14.00\">class = Iris&#45;versicolor</text>\n",
       "</g>\n",
       "<!-- 13&#45;&gt;14 -->\n",
       "<g id=\"edge14\" class=\"edge\"><title>13&#45;&gt;14</title>\n",
       "<path fill=\"none\" stroke=\"black\" d=\"M696,-213.769C696,-203.313 696,-191.935 696,-181.315\"/>\n",
       "<polygon fill=\"black\" stroke=\"black\" points=\"699.5,-181.01 696,-171.01 692.5,-181.01 699.5,-181.01\"/>\n",
       "</g>\n",
       "<!-- 15 -->\n",
       "<g id=\"node16\" class=\"node\"><title>15</title>\n",
       "<polygon fill=\"#8139e5\" stroke=\"black\" points=\"913.21,-171 782.79,-171 782.79,-107 913.21,-107 913.21,-171\"/>\n",
       "<text text-anchor=\"start\" x=\"820.913\" y=\"-155.8\" font-family=\"Times,serif\" font-size=\"14.00\">gini = 0.0</text>\n",
       "<text text-anchor=\"start\" x=\"814.5\" y=\"-141.8\" font-family=\"Times,serif\" font-size=\"14.00\">samples = 2</text>\n",
       "<text text-anchor=\"start\" x=\"803.231\" y=\"-127.8\" font-family=\"Times,serif\" font-size=\"14.00\">value = [0, 0, 2]</text>\n",
       "<text text-anchor=\"start\" x=\"790.527\" y=\"-113.8\" font-family=\"Times,serif\" font-size=\"14.00\">class = Iris&#45;virginica</text>\n",
       "</g>\n",
       "<!-- 13&#45;&gt;15 -->\n",
       "<g id=\"edge15\" class=\"edge\"><title>13&#45;&gt;15</title>\n",
       "<path fill=\"none\" stroke=\"black\" d=\"M747.885,-213.769C763.997,-201.897 781.722,-188.837 797.723,-177.047\"/>\n",
       "<polygon fill=\"black\" stroke=\"black\" points=\"799.941,-179.76 805.915,-171.01 795.788,-174.124 799.941,-179.76\"/>\n",
>>>>>>> 993001c53cfe4beb4dea3fe99542bf7053c9513f
       "</g>\n",
       "</g>\n",
       "</svg>\n"
      ],
      "text/plain": [
<<<<<<< HEAD
       "<graphviz.files.Source at 0x1a0f151588>"
      ]
     },
     "execution_count": 33,
=======
       "<graphviz.files.Source at 0x109167190>"
      ]
     },
     "execution_count": 14,
>>>>>>> 993001c53cfe4beb4dea3fe99542bf7053c9513f
     "metadata": {},
     "output_type": "execute_result"
    }
   ],
   "source": [
    "classnames=set_index(labels)\n",
    "dot_data = tree.export_graphviz(clf, out_file=None,max_depth=5, feature_names=attributes,\\\n",
    "                                class_names=classnames,label='all',filled=True,special_characters=True) \n",
    "graph = graphviz.Source(dot_data) \n",
    "graph"
   ]
  },
  {
   "cell_type": "markdown",
   "metadata": {},
   "source": [
    "## Prediction: Classifying New Instances Using a Decision Tree Classifier##\n",
    "\n",
    "The cell below classifies new instances with the decision tree you created.\n",
    "\n",
<<<<<<< HEAD
    "When you are prompted to input test set, please input one entry each time and separate each value with a comma. Also, please make sure the input are numbers instead of strings. When your input is strings, please encode them manually according to the codebook printed above."
=======
    "When you are prompted to input test set, please input one entry each time and separate each value with a comma. Also, please make sure the input are numbers instead of strings. When your input is strings, please encode them manually according to the codebook printed above.\n",
    "\n",
    "YIBO: I did not understand why a test set is not just a file.  What are all the values and commas for?  What is the codebook?  I was very confused by this..."
>>>>>>> 993001c53cfe4beb4dea3fe99542bf7053c9513f
   ]
  },
  {
   "cell_type": "code",
<<<<<<< HEAD
   "execution_count": 35,
=======
   "execution_count": 15,
>>>>>>> 993001c53cfe4beb4dea3fe99542bf7053c9513f
   "metadata": {},
   "outputs": [
    {
     "name": "stdout",
     "output_type": "stream",
     "text": [
<<<<<<< HEAD
      "Please Enter Your Test Set:0,0,1,1\n"
=======
      "Please Enter Your Test Set:5.2,3.2,1.6,0.3\n"
>>>>>>> 993001c53cfe4beb4dea3fe99542bf7053c9513f
     ]
    }
   ],
   "source": [
<<<<<<< HEAD
    "testset=input('Please Enter Your Test Set:')\n",
=======
    "testset=raw_input('Please Enter Your Test Set:')\n",
>>>>>>> 993001c53cfe4beb4dea3fe99542bf7053c9513f
    "testset=np.array(testset.split(',')).reshape(1, -1)\n",
    "predictions=clf.predict(testset)"
   ]
  },
  {
   "cell_type": "code",
<<<<<<< HEAD
   "execution_count": 36,
=======
   "execution_count": 16,
>>>>>>> 993001c53cfe4beb4dea3fe99542bf7053c9513f
   "metadata": {},
   "outputs": [
    {
     "name": "stdout",
     "output_type": "stream",
     "text": [
<<<<<<< HEAD
      "['hard']\n"
=======
      "['Iris-setosa']\n"
>>>>>>> 993001c53cfe4beb4dea3fe99542bf7053c9513f
     ]
    }
   ],
   "source": [
<<<<<<< HEAD
    "print(predictions)"
=======
    "print predictions"
>>>>>>> 993001c53cfe4beb4dea3fe99542bf7053c9513f
   ]
  },
  {
   "cell_type": "markdown",
   "metadata": {},
   "source": [
    "## Evaluating the Accuracy of a Decision Tree Classifier##"
   ]
  },
  {
   "cell_type": "markdown",
   "metadata": {},
   "source": [
    "The following cell will run cross-validation to evaluate your decision tree classifier.  It will ask you for your test data, and the number of folds that you want to use."
   ]
  },
  {
   "cell_type": "code",
<<<<<<< HEAD
   "execution_count": 39,
   "metadata": {},
   "outputs": [
    {
     "name": "stdout",
     "output_type": "stream",
     "text": [
      "Please Enter Your Test Data:./Dataset/iris.data\n",
      "Please Enter the Number of Folds:10\n"
     ]
    }
   ],
   "source": [
    "dataset=input('Please Enter Your Test Data:')\n",
    "n_foldCV=int(input(\"Please Enter the Number of Folds:\"))\n",
=======
   "execution_count": null,
   "metadata": {},
   "outputs": [],
   "source": [
    "dataset=raw_input('Please Enter Your Test Data:')\n",
    "n_foldCV=int(raw_input(\"Please Enter the Number of Folds:\"))\n",
>>>>>>> 993001c53cfe4beb4dea3fe99542bf7053c9513f
    "attributes,instances,labels=loadDataSet(dataset)\n",
    "clf = tree.DecisionTreeClassifier()\n",
    "clf = clf.fit(instances,labels)\n",
    "scores = cross_val_score(clf, instances, labels, cv=n_foldCV)"
   ]
  },
  {
   "cell_type": "markdown",
   "metadata": {},
   "source": [
    "The following cell will output the accuracy score in each run and the accuracy estimate of the model under 95% confidence interval."
   ]
  },
  {
   "cell_type": "code",
<<<<<<< HEAD
   "execution_count": 40,
=======
   "execution_count": 13,
>>>>>>> 993001c53cfe4beb4dea3fe99542bf7053c9513f
   "metadata": {},
   "outputs": [
    {
     "name": "stdout",
     "output_type": "stream",
     "text": [
<<<<<<< HEAD
      "[ 1.          0.93333333  1.          0.93333333  0.93333333  0.86666667\n",
      "  0.93333333  0.93333333  1.          1.        ]\n",
      "Accuracy: 0.95 (+/- 0.09)\n"
=======
      "[ 0.96666667  0.96666667  0.9         0.96666667  1.        ]\n",
      "Accuracy: 0.96 (+/- 0.07)\n"
>>>>>>> 993001c53cfe4beb4dea3fe99542bf7053c9513f
     ]
    }
   ],
   "source": [
<<<<<<< HEAD
    "print(scores)\n",
=======
    "print scores\n",
>>>>>>> 993001c53cfe4beb4dea3fe99542bf7053c9513f
    "print(\"Accuracy: %0.2f (+/- %0.2f)\" % (scores.mean(), scores.std() * 2))"
   ]
  },
  {
   "cell_type": "markdown",
   "metadata": {
    "collapsed": true
   },
   "source": [
    "Now you can print this notebook as a PDF file and turn it in."
   ]
  }
 ],
 "metadata": {
  "anaconda-cloud": {},
  "kernelspec": {
<<<<<<< HEAD
   "display_name": "Python 3",
   "language": "python",
   "name": "python3"
=======
   "display_name": "Python 2",
   "language": "python",
   "name": "python2"
>>>>>>> 993001c53cfe4beb4dea3fe99542bf7053c9513f
  },
  "language_info": {
   "codemirror_mode": {
    "name": "ipython",
<<<<<<< HEAD
    "version": 3
=======
    "version": 2
>>>>>>> 993001c53cfe4beb4dea3fe99542bf7053c9513f
   },
   "file_extension": ".py",
   "mimetype": "text/x-python",
   "name": "python",
   "nbconvert_exporter": "python",
<<<<<<< HEAD
   "pygments_lexer": "ipython3",
   "version": "3.6.3"
=======
   "pygments_lexer": "ipython2",
   "version": "2.7.13"
>>>>>>> 993001c53cfe4beb4dea3fe99542bf7053c9513f
  }
 },
 "nbformat": 4,
 "nbformat_minor": 2
}
