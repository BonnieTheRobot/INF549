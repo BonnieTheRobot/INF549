{
 "cells": [
  {
   "cell_type": "markdown",
   "metadata": {},
   "source": [
    "# Five Number Summary & Boxplot"
   ]
  },
  {
   "cell_type": "markdown",
   "metadata": {},
   "source": [
    "** Note: This following cell contains some predefined functions to implement Five Number Summary and Boxplot. Please make sure you have run this cell before you run other cells in this notebook.**"
   ]
  },
  {
   "cell_type": "code",
   "execution_count": 57,
   "metadata": {
    "collapsed": false
   },
   "outputs": [],
   "source": [
    "from numpy import *\n",
    "def display_5_number_summary(numbers):\n",
    "    numbers=numbers.split(',')\n",
    "    try:\n",
    "        numbers=map(float,numbers)\n",
    "        Min=percentile(numbers,0)      \n",
    "        Q1=percentile(numbers,25)        \n",
    "        Median=percentile(numbers,50)\n",
    "        Q3=percentile(numbers,75)\n",
    "        Max=percentile(numbers,100)\n",
    "        return Min,Q1,Median,Q3,Max\n",
    "    except:\n",
    "        print 'Please Input Numbers Only'\n",
    "\n",
    "def plot_5_summary(numbers):\n",
    "    numbers=numbers.split(',')\n",
    "    try:\n",
    "        numbers=map(float,numbers)\n",
    "        import matplotlib.pyplot as plt\n",
    "        plt.boxplot(numbers)\n",
    "        plt.show()\n",
    "        plt.close('all')\n",
    "    except:\n",
    "        print 'Please Input Numbers Only'"
   ]
  },
  {
   "cell_type": "markdown",
   "metadata": {},
   "source": [
    "## Display Five Number Summary##"
   ]
  },
  {
   "cell_type": "markdown",
   "metadata": {},
   "source": [
    "Run the cell below. Input your numbers and seperate them with comma.   \n",
    "As you can see, the variable \"numbers\" stores the numbers that you input and is passed as an argument of the function \"display_5_number_summary\".   \n",
    "After processing, the function will output a five number summary of your data."
   ]
  },
  {
   "cell_type": "code",
   "execution_count": 56,
   "metadata": {
    "collapsed": false
   },
   "outputs": [
    {
     "name": "stdout",
     "output_type": "stream",
     "text": [
      "Please Enter the Numbers: 1,2,3,4.3,2,3.2,13.3\n",
      "Min: 1.0\n",
      "Q1: 2.0\n",
      "Median: 3.0\n",
      "Q3: 3.75\n",
      "Max: 13.3\n"
     ]
    }
   ],
   "source": [
    "numbers = raw_input('Please Enter the Numbers: ')\n",
    "Min,Q1,Median,Q3,Max=display_5_number_summary(numbers)\n",
    "print 'Min:',Min\n",
    "print 'Q1:', Q1\n",
    "print 'Median:',Median\n",
    "print 'Q3:',Q3\n",
    "print 'Max:',Max"
   ]
  },
  {
   "cell_type": "markdown",
   "metadata": {},
   "source": [
    "## Boxplot##"
   ]
  },
  {
   "cell_type": "markdown",
   "metadata": {},
   "source": [
    "The variable \"numbers\" comes from the last step and stores the numbers that you inputted. It is taken as an argument of the function \"plot_5_summary\" and its output is a boxplot of your numbers."
   ]
  },
  {
   "cell_type": "code",
   "execution_count": 58,
   "metadata": {
    "collapsed": false
   },
   "outputs": [
    {
     "name": "stderr",
     "output_type": "stream",
     "text": [
      "/Users/YiboMa/anaconda/lib/python2.7/site-packages/matplotlib/font_manager.py:273: UserWarning: Matplotlib is building the font cache using fc-list. This may take a moment.\n",
      "  warnings.warn('Matplotlib is building the font cache using fc-list. This may take a moment.')\n"
     ]
    },
    {
     "data": {
      "image/png": "[encoded data removed]",
      "text/plain": [
       "<matplotlib.figure.Figure at 0x111122310>"
      ]
     },
     "metadata": {},
     "output_type": "display_data"
    }
   ],
   "source": [
    "plot_5_summary(numbers)"
   ]
  }
 ],
 "metadata": {
  "anaconda-cloud": {},
  "kernelspec": {
   "display_name": "Python [default]",
   "language": "python",
   "name": "python2"
  },
  "language_info": {
   "codemirror_mode": {
    "name": "ipython",
    "version": 2
   },
   "file_extension": ".py",
   "mimetype": "text/x-python",
   "name": "python",
   "nbconvert_exporter": "python",
   "pygments_lexer": "ipython2",
   "version": "2.7.13"
  }
 },
 "nbformat": 4,
 "nbformat_minor": 2
}
