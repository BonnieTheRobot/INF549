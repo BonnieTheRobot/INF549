{
 "cells": [
  {
   "cell_type": "markdown",
   "metadata": {},
   "source": [
    "# A Notebook to Visualize Data"
   ]
  },
  {
   "cell_type": "markdown",
   "metadata": {},
   "source": [
    "This notebook shows an example of how to customize a visualization.  \n",
    "\n",
    "Run the cell below to activate the histogram function."
   ]
  },
  {
   "cell_type": "code",
   "execution_count": 3,
   "metadata": {
    "collapsed": true
   },
   "outputs": [],
   "source": [
    "def histogram(numbers,bins):\n",
    "    numbers=numbers.split(',')\n",
    "    try:\n",
    "        numbers=map(float,numbers)\n",
    "        import matplotlib.pyplot as plt\n",
    "        plt.hist(numbers,bins)\n",
    "        plt.title(\"Histogram\")\n",
    "        plt.xlabel(\"Value\")\n",
    "        plt.ylabel(\"Frequency\")\n",
    "        plt.show()\n",
    "        plt.close('all')\n",
    "    except:\n",
    "        print 'Please Input Numbers Only'"
   ]
  },
  {
   "cell_type": "markdown",
   "metadata": {},
   "source": [
    "Now run the cell below. You will be asked to input your numbers seperating them with comma, and how many bins you would like in your histogram.  \n",
    "\n",
    "Running the cell will generate a histogram for your data.  "
   ]
  },
  {
   "cell_type": "code",
   "execution_count": 4,
   "metadata": {},
   "outputs": [
    {
     "name": "stdout",
     "output_type": "stream",
     "text": [
      "Please Enter the Numbers: 1, 4, 17\n",
      "Please Enter the Number of Bins: 3\n"
     ]
    },
    {
     "data": {
      "image/png": "[encoded data removed]",
      "text/plain": [
       "<matplotlib.figure.Figure at 0x10dc36d10>"
      ]
     },
     "metadata": {},
     "output_type": "display_data"
    }
   ],
   "source": [
    "numbers = raw_input('Please Enter the Numbers: ')\n",
    "bins=int(raw_input('Please Enter the Number of Bins: '))\n",
    "histogram(numbers,bins)"
   ]
  },
  {
   "cell_type": "markdown",
   "metadata": {
    "collapsed": true
   },
   "source": [
    "You can run the cell above again and again with different number of bins and get different visualizations.  If you want the notebook to keep all the runs, you will have to create new cells and copy the same code as the cell above for each run you want to keep.\n",
    "\n",
    "You can experiment and try to create a new notebook that combines this notebook and the notebook to generate summary statistics."
   ]
  },
  {
   "cell_type": "markdown",
   "metadata": {},
   "source": [
    "Now you can print this notebook and turn it in."
   ]
  }
 ],
 "metadata": {
  "anaconda-cloud": {},
  "kernelspec": {
   "display_name": "Python 2",
   "language": "python",
   "name": "python2"
  },
  "language_info": {
   "codemirror_mode": {
    "name": "ipython",
    "version": 2
   },
   "file_extension": ".py",
   "mimetype": "text/x-python",
   "name": "python",
   "nbconvert_exporter": "python",
   "pygments_lexer": "ipython2",
   "version": "2.7.13"
  }
 },
 "nbformat": 4,
 "nbformat_minor": 2
}
