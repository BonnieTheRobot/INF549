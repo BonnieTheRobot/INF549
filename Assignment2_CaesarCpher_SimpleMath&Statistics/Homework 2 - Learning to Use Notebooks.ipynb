{
 "cells": [
  {
   "cell_type": "markdown",
   "metadata": {
    "collapsed": true
   },
   "source": [
    "# Homework 2: Learning to Use Notebooks"
   ]
  },
  {
   "cell_type": "markdown",
   "metadata": {
    "collapsed": true
   },
   "source": [
    "In this assigment, you will learn to use notebooks by praticing some basic functions that were used as examples in class. The goal of this notebook is to explore how data analysis is done within notebooks, how to set up and run notebooks and how to see the results. \n",
    "\n",
    "For this homework you should run the following three notebooks in this directory:\n",
    "\n",
    "1. YIBO to complete this\n",
    "\n",
    "YIBO: ALL THE REST BELOW SHOULD BE REMOVED\n"
   ]
  },
  {
   "cell_type": "markdown",
   "metadata": {},
   "source": [
    "## Running Jupyter Notebook ##\n",
    "You can use a Jupyter notebook step-by-step by running one cell a time by pressing shift + enter or by clicking either the “Play” (the black triangle) button the toolbar, or Cell | Run in the menu bar.      \n",
    "\n",
    "Alternatively, you can run a whole notebook in a single step by clicking on the menu Cell -> Run All.       \n",
    "\n",
    "If you run into any issues, it maybe useful to restart the Jupyter Notebook execution engine for Python, also called a **kernel**.  To restart the kernel, click on the menu Kernel -> Restart. This can be useful to start over a computation from scratch (e.g. variables are deleted, open files are closed, etc...).\n",
    "\n",
    "YIBO: everything under this line seems to be repeating the CaesarCypther notebook and the statistics notebook.  I do not understand which version to correct, so I will not touch the below because I have corrected the CaesarCypher notebook instead of the below.\n",
    "\n",
    "\n",
    "## Use basic notebook functions##\n",
    "**Function 1 Caesar Cypher**\n",
    "\n",
    "Before you run the following cells, please make sure the file you want to encipher is in the 'Caesar_Cypher' directory. When you are prompted to enter the file name, please make sure it ends with \".txt\" and press Enter to continue."
   ]
  },
  {
   "cell_type": "markdown",
   "metadata": {},
   "source": [
    "a. Run the “Caesar cypher” cells with one of the given datasets. Look at the results, include the first 3 lines of the output file in the report.   "
   ]
  },
  {
   "cell_type": "code",
   "execution_count": 1,
   "metadata": {},
   "outputs": [
    {
     "name": "stdout",
     "output_type": "stream",
     "text": [
      "Please Enter the File You Want to Encipher: sarah.txt\n",
      "Intermediate generated!\n"
     ]
    }
   ],
   "source": [
    "import os\n",
    "\n",
    "def linebreak(filename):\n",
    "    intermediateFileName=filename[:-4]+'_WithLineBreaks.txt'\n",
    "    with open(intermediateFileName, \"w\") as w:\n",
    "        with open(filename) as f:\n",
    "            file = f.read()\n",
    "            for ch in file:\n",
    "                w.write(ch)\n",
    "                if ch == \".\" or ch == \"!\" or ch == \"?\":\n",
    "                    w.write(\"\\n\")\n",
    "    return intermediateFileName\n",
    "\n",
    "filename=raw_input('Please Enter the File You Want to Encipher: ')\n",
    "filename=os.getcwd()+ '/Caesar_Cypher/'+filename\n",
    "intermediateFileName=linebreak(filename)\n",
    "print 'Intermediate generated!'"
   ]
  },
  {
   "cell_type": "code",
   "execution_count": 3,
   "metadata": {},
   "outputs": [
    {
     "name": "stdout",
     "output_type": "stream",
     "text": [
      "Please Enter Shift Key: 5\n",
      "Output generated!\n"
     ]
    }
   ],
   "source": [
    "import string\n",
    "\n",
    "def cipher(intermediateFileName,key):\n",
    "    outputFile=intermediateFileName[:-19]+'_Encrypted_%s.txt' %key\n",
    "    with open(outputFile, \"w\") as w:\n",
    "        with open(intermediateFileName) as f:\n",
    "            file = f.read()\n",
    "\n",
    "            for ch in file:\n",
    "                if ch not in string.ascii_letters:\n",
    "                    w.write(ch)\n",
    "                else:\n",
    "                    output = chr(ord(ch) + key)\n",
    "                    outputNum = ord(output)\n",
    "\n",
    "                    if 64 < outputNum < 91 or 96 <outputNum < 123:\n",
    "                        w.write(output)\n",
    "\n",
    "                    #Wraparound if output numbers out of range\n",
    "                    else:\n",
    "                        x = chr(outputNum - 26)\n",
    "                        w.write(x)\n",
    "\n",
    "\n",
    "key = int(raw_input('Please Enter Shift Key: '))\n",
    "cipher(intermediateFileName,key)\n",
    "print 'Output generated!'"
   ]
  },
  {
   "cell_type": "markdown",
   "metadata": {},
   "source": [
    "b. Run the same cell with a different shift key. Look at the results, include the first 3 lines of the output file in the report."
   ]
  },
  {
   "cell_type": "markdown",
   "metadata": {},
   "source": [
    "**Function 2 Caesar Parallel Simple**\n",
    "\n",
    " \n",
    "c. Run the following cells to implement Caesar parallel simple function with two datasets. If you run the first cell, you will be prompted to enter filename until you type in \"stop\". Include a screenshot of the cells that are executed in the report."
   ]
  },
  {
   "cell_type": "code",
   "execution_count": 4,
   "metadata": {},
   "outputs": [
    {
     "name": "stdout",
     "output_type": "stream",
     "text": [
      "Please Enter the File You Want to Encipher: USconstitution.txt\n",
      "Please Enter the File You Want to Encipher: Lincoln-GettysburgAddress.txt\n",
      "Please Enter the File You Want to Encipher: stop\n",
      "Intermediate generated!\n"
     ]
    }
   ],
   "source": [
    "fileList=[]\n",
    "condition=True\n",
    "while condition:\n",
    "    filename=raw_input('Please Enter the File You Want to Encipher: ')\n",
    "    if filename=='stop':\n",
    "        condition=False\n",
    "    else:\n",
    "        filename=os.getcwd()+ '/Caesar_Cypher/'+filename\n",
    "        fileList.append(filename)\n",
    "\n",
    "intermediateFileList=[]\n",
    "for filename in fileList:\n",
    "    intermediateFileName=linebreak(filename)\n",
    "    intermediateFileList.append(intermediateFileName)\n",
    "print 'Intermediate generated!'"
   ]
  },
  {
   "cell_type": "code",
   "execution_count": 5,
   "metadata": {},
   "outputs": [
    {
     "name": "stdout",
     "output_type": "stream",
     "text": [
      "Please Enter Shift Key: 3\n",
      "Output generated!\n"
     ]
    }
   ],
   "source": [
    "key = int(raw_input('Please Enter Shift Key: '))\n",
    "for filename in intermediateFileList:\n",
    "    cipher(filename,key)\n",
    "print 'Output generated!'"
   ]
  },
  {
   "cell_type": "markdown",
   "metadata": {},
   "source": [
    "## Run notebooks with your own data##\n",
    "a. Create your own data file using some text from Wikipedia. Make sure that it is a plain text file. In a Mac, you can use Notepad or TextWrangler and from the Format menu select “Make Plain Text”. In a PC, you can use Notepad which by default saves files in plain text.       \n",
    "b. Save the file in the 'Caesar_Cypher' directory.   \n",
    "c. Use the “Caesar cypher” cells to encrypt your new file. Look at the results, include a screenshot showing the input, intermediate, and output files in the report.  "
   ]
  },
  {
   "cell_type": "code",
   "execution_count": 6,
   "metadata": {},
   "outputs": [
    {
     "name": "stdout",
     "output_type": "stream",
     "text": [
      "Please Enter the File You Want to Encipher: sarah.txt\n",
      "Intermediate generated!\n"
     ]
    }
   ],
   "source": [
    "filename=raw_input('Please Enter the File You Want to Encipher: ')\n",
    "filename=os.getcwd()+ '/Caesar_Cypher/'+filename\n",
    "intermediateFileName=linebreak(filename)\n",
    "print 'Intermediate generated!'"
   ]
  },
  {
   "cell_type": "code",
   "execution_count": 7,
   "metadata": {},
   "outputs": [
    {
     "name": "stdout",
     "output_type": "stream",
     "text": [
      "Please Enter Shift Key: 8\n",
      "Output generated!\n"
     ]
    }
   ],
   "source": [
    "key = int(raw_input('Please Enter Shift Key: '))\n",
    "cipher(intermediateFileName,key)\n",
    "print 'Output generated!'"
   ]
  },
  {
   "cell_type": "markdown",
   "metadata": {},
   "source": [
    "## Switch to simple math and statistics domain with different data##\n",
    "**Function 3 Five number summary**\n",
    "\n",
    "a. Run the “5 number summary” cells with one of the given datasets in the \"Simple_math_and_statistics\" directory. Look at the results, include a screenshot of the result showing input and output files in the report.  \n"
   ]
  },
  {
   "cell_type": "code",
   "execution_count": 8,
   "metadata": {},
   "outputs": [
    {
     "name": "stdout",
     "output_type": "stream",
     "text": [
      "Please Enter the File You Want to Summary: example2.txt\n",
      "File loaded!\n"
     ]
    }
   ],
   "source": [
    "def loadDataSet(filename):\n",
    "    with open(filename) as f:\n",
    "        file=f.read()\n",
    "        file=file.split('\\n')\n",
    "        lst=[]\n",
    "        for index in range(len(file)):\n",
    "            try: lst.append(float(file[index]))\n",
    "            except:\n",
    "                continue\n",
    "        return lst\n",
    "    \n",
    "filename=raw_input('Please Enter the File You Want to Summary: ')\n",
    "filename=os.getcwd()+ '/Simple_math_and_statistics/'+filename\n",
    "data=loadDataSet(filename)\n",
    "#print file\n",
    "print 'File loaded!'"
   ]
  },
  {
   "cell_type": "markdown",
   "metadata": {
    "collapsed": true
   },
   "source": [
    "Calcualte minimum"
   ]
  },
  {
   "cell_type": "code",
   "execution_count": 9,
   "metadata": {},
   "outputs": [
    {
     "name": "stdout",
     "output_type": "stream",
     "text": [
      "Intermediate generated!\n"
     ]
    }
   ],
   "source": [
    "from numpy import *\n",
    "Min=str(percentile(data,0))\n",
    "#print Min\n",
    "minFile=filename[:-4]+'_Min.txt'\n",
    "with open(minFile,'w') as w:\n",
    "    w.write(Min)\n",
    "print 'Intermediate generated!'"
   ]
  },
  {
   "cell_type": "markdown",
   "metadata": {},
   "source": [
    "Calculate 1st quartile"
   ]
  },
  {
   "cell_type": "code",
   "execution_count": 10,
   "metadata": {},
   "outputs": [
    {
     "name": "stdout",
     "output_type": "stream",
     "text": [
      "Intermediate generated!\n"
     ]
    }
   ],
   "source": [
    "Q1=str(percentile(data,25))\n",
    "#print Q1\n",
    "Q1File=filename[:-4]+'_Q1.txt'\n",
    "with open(Q1File,'w') as w:\n",
    "    w.write(Q1)\n",
    "print 'Intermediate generated!'"
   ]
  },
  {
   "cell_type": "markdown",
   "metadata": {},
   "source": [
    "Calculate median"
   ]
  },
  {
   "cell_type": "code",
   "execution_count": 11,
   "metadata": {},
   "outputs": [
    {
     "name": "stdout",
     "output_type": "stream",
     "text": [
      "Intermediate generated!\n"
     ]
    }
   ],
   "source": [
    "Median=str(percentile(data,50))\n",
    "#print Median\n",
    "MedianFile=filename[:-4]+'_Median.txt'\n",
    "with open(MedianFile,'w') as w:\n",
    "    w.write(Median)\n",
    "print 'Intermediate generated!'"
   ]
  },
  {
   "cell_type": "markdown",
   "metadata": {},
   "source": [
    "Calculate 3rd quartile"
   ]
  },
  {
   "cell_type": "code",
   "execution_count": 12,
   "metadata": {},
   "outputs": [
    {
     "name": "stdout",
     "output_type": "stream",
     "text": [
      "Intermediate generated!\n"
     ]
    }
   ],
   "source": [
    "Q3=str(percentile(data,75))\n",
    "#print Q3\n",
    "Q3File=filename[:-4]+'_Q3.txt'\n",
    "with open(Q3File,'w') as w:\n",
    "    w.write(Q3)\n",
    "print 'Intermediate generated!'"
   ]
  },
  {
   "cell_type": "markdown",
   "metadata": {},
   "source": [
    "Calculate maximum"
   ]
  },
  {
   "cell_type": "code",
   "execution_count": 13,
   "metadata": {},
   "outputs": [
    {
     "name": "stdout",
     "output_type": "stream",
     "text": [
      "Intermediate generated!\n"
     ]
    }
   ],
   "source": [
    "Max=str(percentile(data,100))\n",
    "#print Max\n",
    "MaxFile=filename[:-4]+'_Max.txt'\n",
    "with open(MaxFile,'w') as w:\n",
    "    w.write(Max)\n",
    "print 'Intermediate generated!'"
   ]
  },
  {
   "cell_type": "markdown",
   "metadata": {},
   "source": [
    "Display 5 number summary"
   ]
  },
  {
   "cell_type": "code",
   "execution_count": 14,
   "metadata": {},
   "outputs": [
    {
     "name": "stdout",
     "output_type": "stream",
     "text": [
      "Output generated!\n"
     ]
    }
   ],
   "source": [
    "def display_5_number_summary(data):\n",
    "    data=data+'_Five_Num_Summary.txt'\n",
    "    with open(data,'w') as w:\n",
    "        for i in ['Min','Q1','Median','Q3','Max']:\n",
    "            newdata=data[:-21]+'_'+ i +'.txt'\n",
    "            with open(newdata) as f:\n",
    "                #print i+': '+f.read()\n",
    "                w.write(i+': '+f.read()+'\\n')\n",
    "\n",
    "display_5_number_summary(filename[:-4])\n",
    "print 'Output generated!'"
   ]
  },
  {
   "cell_type": "markdown",
   "metadata": {},
   "source": [
    "**Function 4 Five number summary and plot**  \n",
    "a. Create your own data file containing some fictitious student homework scores for the class. Make sure that it is a plain text file and is formatted like the given datasets.  \n",
    "b. Save the file in the \"Simple_math_and_statistics\" directory.   \n",
    "c. Run the “Five number summary and plot” function with your data. Look at the results, include a screenshot of the input and output files in the report."
   ]
  },
  {
   "cell_type": "code",
   "execution_count": 15,
   "metadata": {},
   "outputs": [
    {
     "name": "stdout",
     "output_type": "stream",
     "text": [
      "Please Enter the File You Want to Summary: sample_numbers_2.txt\n",
      "File loaded!\n"
     ]
    }
   ],
   "source": [
    "filename=raw_input('Please Enter the File You Want to Summary: ')\n",
    "filename=os.getcwd()+ '/Simple_math_and_statistics/'+filename\n",
    "data=loadDataSet(filename)\n",
    "print 'File loaded!'"
   ]
  },
  {
   "cell_type": "markdown",
   "metadata": {},
   "source": [
    "Calcualte minimum"
   ]
  },
  {
   "cell_type": "code",
   "execution_count": 16,
   "metadata": {},
   "outputs": [
    {
     "name": "stdout",
     "output_type": "stream",
     "text": [
      "Intermediate generated!\n"
     ]
    }
   ],
   "source": [
    "Min=str(percentile(data,0))\n",
    "#print Min\n",
    "minFile=filename[:-4]+'_Min.txt'\n",
    "with open(minFile,'w') as w:\n",
    "    w.write(Min)\n",
    "print 'Intermediate generated!'"
   ]
  },
  {
   "cell_type": "markdown",
   "metadata": {},
   "source": [
    "Calculate 1st quartile"
   ]
  },
  {
   "cell_type": "code",
   "execution_count": 17,
   "metadata": {},
   "outputs": [
    {
     "name": "stdout",
     "output_type": "stream",
     "text": [
      "Intermediate generated!\n"
     ]
    }
   ],
   "source": [
    "Q1=str(percentile(data,25))\n",
    "#print Q1\n",
    "Q1File=filename[:-4]+'_Q1.txt'\n",
    "with open(Q1File,'w') as w:\n",
    "    w.write(Q1)\n",
    "print 'Intermediate generated!'"
   ]
  },
  {
   "cell_type": "markdown",
   "metadata": {},
   "source": [
    "Calculate median"
   ]
  },
  {
   "cell_type": "code",
   "execution_count": 18,
   "metadata": {},
   "outputs": [
    {
     "name": "stdout",
     "output_type": "stream",
     "text": [
      "Intermediate generated!\n"
     ]
    }
   ],
   "source": [
    "Median=str(percentile(data,50))\n",
    "#print Median\n",
    "MedianFile=filename[:-4]+'_Median.txt'\n",
    "with open(MedianFile,'w') as w:\n",
    "    w.write(Median)\n",
    "print 'Intermediate generated!'"
   ]
  },
  {
   "cell_type": "markdown",
   "metadata": {},
   "source": [
    "Calculate 3rd quartile"
   ]
  },
  {
   "cell_type": "code",
   "execution_count": 19,
   "metadata": {},
   "outputs": [
    {
     "name": "stdout",
     "output_type": "stream",
     "text": [
      "Intermediate generated!\n"
     ]
    }
   ],
   "source": [
    "Q3=str(percentile(data,75))\n",
    "#print Q3\n",
    "Q3File=filename[:-4]+'_Q3.txt'\n",
    "with open(Q3File,'w') as w:\n",
    "    w.write(Q3)\n",
    "print 'Intermediate generated!'"
   ]
  },
  {
   "cell_type": "markdown",
   "metadata": {},
   "source": [
    "Calculate maximum"
   ]
  },
  {
   "cell_type": "code",
   "execution_count": 20,
   "metadata": {},
   "outputs": [
    {
     "name": "stdout",
     "output_type": "stream",
     "text": [
      "Intermediate generated!\n"
     ]
    }
   ],
   "source": [
    "Max=str(percentile(data,100))\n",
    "#print Max\n",
    "MaxFile=filename[:-4]+'_Max.txt'\n",
    "with open(MaxFile,'w') as w:\n",
    "    w.write(Max)\n",
    "print 'Intermediate generated!'"
   ]
  },
  {
   "cell_type": "markdown",
   "metadata": {},
   "source": [
    "Display 5 number summary"
   ]
  },
  {
   "cell_type": "code",
   "execution_count": 21,
   "metadata": {},
   "outputs": [
    {
     "name": "stdout",
     "output_type": "stream",
     "text": [
      "Output generated!\n"
     ]
    }
   ],
   "source": [
    "display_5_number_summary(filename[:-4])\n",
    "print 'Output generated!'"
   ]
  },
  {
   "cell_type": "markdown",
   "metadata": {},
   "source": [
    "Plot 5 summary"
   ]
  },
  {
   "cell_type": "code",
   "execution_count": 22,
   "metadata": {},
   "outputs": [
    {
     "name": "stderr",
     "output_type": "stream",
     "text": [
      "/Users/YiboMa/anaconda/lib/python2.7/site-packages/matplotlib/font_manager.py:273: UserWarning: Matplotlib is building the font cache using fc-list. This may take a moment.\n",
      "  warnings.warn('Matplotlib is building the font cache using fc-list. This may take a moment.')\n"
     ]
    },
    {
     "name": "stdout",
     "output_type": "stream",
     "text": [
      "Output generated!\n"
     ]
    }
   ],
   "source": [
    "def plot_5_summary(data):\n",
    "    import matplotlib.pyplot as plt\n",
    "    plt.boxplot(data)\n",
    "    plt.savefig(filename[:-4]+\"_Boxplot.png\") \n",
    "    #plt.show()\n",
    "    plt.close('all')\n",
    "\n",
    "plot_5_summary(data)\n",
    "print 'Output generated!'"
   ]
  },
  {
   "cell_type": "markdown",
   "metadata": {},
   "source": [
    "**Function 5 Histogram**  \n",
    "a. Run the “histogram” function with one of the given histogram datasets in the \"Simple math and statistics\" directory.  \n",
    "b. Create your own data file containing some fictitious list of scores that represent the average grades for several classes. Make sure that it is a plain text file and is formatted like the given datasets.  \n",
    "c. Save the file in the \"Simple math and statistics\" directory.  \n",
    "d. Run the “histogram” function with your data, and create histograms with different numbers of bins. Show the histograms in your report.  \n",
    "~~e. Run the “histogram” workflow with your data, but ask the system to suggest how many bins (click the “Suggest parameters” button above the input data selection pane). Show the histogram here.~~"
   ]
  },
  {
   "cell_type": "code",
   "execution_count": 24,
   "metadata": {},
   "outputs": [
    {
     "name": "stdout",
     "output_type": "stream",
     "text": [
      "Please Enter the File You Want to Summary: Histogram_Numbers_2.txt\n",
      "Please Enter the Number of Bins: 4\n",
      "Output generated!\n"
     ]
    }
   ],
   "source": [
    "def histogram(data,bins):\n",
    "    import matplotlib.pyplot as plt\n",
    "    plt.hist(data,bins)\n",
    "    plt.title(\"Histogram\")\n",
    "    plt.xlabel(\"Value\")\n",
    "    plt.ylabel(\"Frequency\")\n",
    "    plt.savefig(filename[:-4]+'_Histogram_%s.png' %bins)\n",
    "    #plt.show()\n",
    "    plt.close('all')\n",
    "\n",
    "\n",
    "filename=raw_input('Please Enter the File You Want to Summary: ')\n",
    "filename=os.getcwd()+ '/Simple_math_and_statistics/'+filename\n",
    "bins=int(raw_input('Please Enter the Number of Bins: '))\n",
    "data=loadDataSet(filename)\n",
    "histogram(data,bins)\n",
    "print 'Output generated!'"
   ]
  },
  {
   "cell_type": "markdown",
   "metadata": {},
   "source": [
    "## Extra credits ##\n",
    "a. Try running the “histogram” function with zero bins. What happens? Why do you think that happens?  \n",
    "~~b. Create a new cell below in the “simple math and statistics” domain with more than one function. Show a screenshot of it in the report.~~"
   ]
  },
  {
   "cell_type": "code",
   "execution_count": null,
   "metadata": {
    "collapsed": true
   },
   "outputs": [],
   "source": []
  }
 ],
 "metadata": {
  "anaconda-cloud": {},
  "kernelspec": {
   "display_name": "Python 2",
   "language": "python",
   "name": "python2"
  },
  "language_info": {
   "codemirror_mode": {
    "name": "ipython",
    "version": 2
   },
   "file_extension": ".py",
   "mimetype": "text/x-python",
   "name": "python",
   "nbconvert_exporter": "python",
   "pygments_lexer": "ipython2",
   "version": "2.7.13"
  }
 },
 "nbformat": 4,
 "nbformat_minor": 2
}
