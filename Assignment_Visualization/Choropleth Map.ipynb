{
 "cells": [
  {
   "cell_type": "markdown",
   "metadata": {},
   "source": [
    "# Choropleth Map\n",
    "**Note: This following cell contains some predefined functions to implement Choropleth Map. Please make sure you have run this cell before you run other cells in this notebook.**"
   ]
  },
  {
   "cell_type": "code",
   "execution_count": 4,
   "metadata": {
    "collapsed": false
   },
   "outputs": [
    {
     "data": {
      "text/html": [
       "<script>requirejs.config({paths: { 'plotly': ['https://cdn.plot.ly/plotly-latest.min']},});if(!window.Plotly) {{require(['plotly'],function(plotly) {window.Plotly=plotly;});}}</script>"
      ],
      "text/vnd.plotly.v1+html": [
       "<script>requirejs.config({paths: { 'plotly': ['https://cdn.plot.ly/plotly-latest.min']},});if(!window.Plotly) {{require(['plotly'],function(plotly) {window.Plotly=plotly;});}}</script>"
      ]
     },
     "metadata": {},
     "output_type": "display_data"
    }
   ],
   "source": [
    "import pandas as pd\n",
    "from plotly.offline import init_notebook_mode,iplot\n",
    "import plotly.graph_objs as go\n",
    "\n",
    "init_notebook_mode(connected=True) \n",
    "\n",
    "def ChoroplethMap():\n",
    "    filename=raw_input('Please enter the file you want to analyze: ')\n",
    "    df = pd.read_csv(filename)    \n",
    "    z=raw_input('Please enter the attribute you want to color: ')\n",
    "    breakdown=raw_input('Please enter the breakdown you want to display in each state: ').split(',')\n",
    "    title=raw_input('Please name your graph: ')\n",
    "    scl = [[0.0,'rgb(255,255,255)'],[1.0,'rgb(0,0,0)']]\n",
    "    df['breakdown']=''\n",
    "    for col in breakdown:\n",
    "        df['breakdown']=df['breakdown']+col+': '+df[col].astype('str')+'<br>'\n",
    "    data = [ dict(\n",
    "        type='choropleth',\n",
    "        colorscale = scl,\n",
    "        autocolorscale = False,\n",
    "        locations = df['Code'],\n",
    "        z = df[z].astype('float'),\n",
    "        locationmode = 'USA-states',\n",
    "        text = df['breakdown'],\n",
    "        marker = dict(\n",
    "            line = dict (\n",
    "                color = 'rgb(255,255,255)',\n",
    "                width = 2\n",
    "            ) ),\n",
    "        colorbar = dict(\n",
    "            title = z+\"<br>(USD)\")\n",
    "        ) ]\n",
    "    layout = dict(\n",
    "        title = title+'<br>(Hover for breakdown)',\n",
    "        geo = dict(\n",
    "            scope='usa',\n",
    "            projection=dict( type='albers usa' ),\n",
    "            showlakes = True,\n",
    "            lakecolor = 'rgb(255, 255, 255)'),\n",
    "             )\n",
    "    fig = dict( data=data, layout=layout )\n",
    "    iplot( fig, filename='d3-cloropleth-map' )"
   ]
  },
  {
   "cell_type": "markdown",
   "metadata": {},
   "source": [
    "## United States Choropleth Map\n",
    "The following function will help you plot US choropleth map with your data. When prompted, please input the filename of your data, the attribute you want to color, and the breakdown you want to display in each state. To input the breakdown, please separate items with commas.   \n",
    "\n",
    "Moreover, if you want to use your own dataset, please make sure it follows the format of the given datasets. Specifically, the first row needs to be variable names and the rest rows can be either categorical or numerical values belonging to different variables. To avoid bugs, make sure the attribute values are pure numbers so they can be converted to float data type. Also, please name your state name abbreviation column with 'Code' so the algorithm can know how to process your data.   \n",
    "\n",
    "Tips: The unit for the attribute you want to color is defaulted as 'USD'. If you want to change the unit, please change the text in the top cell as shown below.  \n",
    "<img src=\"https://github.com/RupertMa/INF549/blob/master/Assignment_Visualization/Picture1.png?raw=true\" width=\"40%\">"
   ]
  },
  {
   "cell_type": "code",
   "execution_count": 5,
   "metadata": {
    "collapsed": false
   },
   "outputs": [
    {
     "name": "stdout",
     "output_type": "stream",
     "text": [
      "Please enter the file you want to analyze: States ranked by per capita income.csv\n",
      "Please enter the attribute you want to color: Per capita income\n",
      "Please enter the breakdown you want to display in each state: Median household income,Median family income\n",
      "Please name your graph: US Per Capita Income by States\n"
     ]
    },
    {
     "data": {
      "application/vnd.plotly.v1+json": {
       "data": [
        {
         "autocolorscale": false,
         "colorbar": {
          "title": "Per capita income<br>(USD)"
         },
         "colorscale": [
          [
           0,
           "rgb(255,255,255)"
          ],
          [
           1,
           "rgb(0,0,0)"
          ]
         ],
         "locationmode": "USA-states",
         "locations": [
          "DC",
          "CT",
          "NJ",
          "MA",
          "MD",
          "NH",
          "VA",
          "NY",
          "ND",
          "AK",
          "MN",
          "CO",
          "WA",
          "RI",
          "DE",
          "CA",
          "IL",
          "HI",
          "WY",
          "PA",
          "VT",
          "IA",
          "WI",
          "ME",
          "KS",
          "OR",
          "NE",
          "TX",
          "SD",
          "OH",
          "MI",
          "FL",
          "MO",
          "MT",
          "NC",
          "NV",
          "AZ",
          "GA",
          "OK",
          "IN",
          "TN",
          "UT",
          "LA",
          "SC",
          "ID",
          "KY",
          "NM",
          "AL",
          "AR",
          "WV",
          "MS"
         ],
         "marker": {
          "line": {
           "color": "rgb(255,255,255)",
           "width": 2
          }
         },
         "text": [
          "Median household income: 71648<br>Median family income: 84094<br>",
          "Median household income: 70048<br>Median family income: 88819<br>",
          "Median household income: 69160<br>Median family income: 87951<br>",
          "Median household income: 71919<br>Median family income: 88419<br>",
          "Median household income: 73971<br>Median family income: 89678<br>",
          "Median household income: 66532<br>Median family income: 80581<br>",
          "Median household income: 64902<br>Median family income: 78290<br>",
          "Median household income: 58878<br>Median family income: 71115<br>",
          "Median household income: 59029<br>Median family income: 75221<br>",
          "Median household income: 71583<br>Median family income: 82307<br>",
          "Median household income: 61481<br>Median family income: 77941<br>",
          "Median household income: 61303<br>Median family income: 75405<br>",
          "Median household income: 61366<br>Median family income: 74193<br>",
          "Median household income: 54891<br>Median family income: 71212<br>",
          "Median household income: 59716<br>Median family income: 72594<br>",
          "Median household income: 61933<br>Median family income: 71015<br>",
          "Median household income: 57444<br>Median family income: 71796<br>",
          "Median household income: 69592<br>Median family income: 79187<br>",
          "Median household income: 57055<br>Median family income: 72460<br>",
          "Median household income: 53234<br>Median family income: 67876<br>",
          "Median household income: 54166<br>Median family income: 67154<br>",
          "Median household income: 53712<br>Median family income: 67771<br>",
          "Median household income: 52622<br>Median family income: 67187<br>",
          "Median household income: 49462<br>Median family income: 62078<br>",
          "Median household income: 52504<br>Median family income: 66425<br>",
          "Median household income: 51075<br>Median family income: 62670<br>",
          "Median household income: 52686<br>Median family income: 66120<br>",
          "Median household income: 53035<br>Median family income: 62830<br>",
          "Median household income: 50979<br>Median family income: 66936<br>",
          "Median household income: 49308<br>Median family income: 62300<br>",
          "Median household income: 49847<br>Median family income: 62143<br>",
          "Median household income: 47463<br>Median family income: 57212<br>",
          "Median household income: 48363<br>Median family income: 61299<br>",
          "Median household income: 46328<br>Median family income: 60643<br>",
          "Median household income: 46556<br>Median family income: 57380<br>",
          "Median household income: 51450<br>Median family income: 60824<br>",
          "Median household income: 50068<br>Median family income: 59700<br>",
          "Median household income: 49321<br>Median family income: 58885<br>",
          "Median household income: 47529<br>Median family income: 58710<br>",
          "Median household income: 49446<br>Median family income: 60780<br>",
          "Median household income: 44361<br>Median family income: 55557<br>",
          "Median household income: 60922<br>Median family income: 69535<br>",
          "Median household income: 44555<br>Median family income: 56573<br>",
          "Median household income: 45238<br>Median family income: 56491<br>",
          "Median household income: 47861<br>Median family income: 58101<br>",
          "Median household income: 42958<br>Median family income: 54776<br>",
          "Median household income: 44803<br>Median family income: 54705<br>",
          "Median household income: 42830<br>Median family income: 53764<br>",
          "Median household income: 41262<br>Median family income: 51528<br>",
          "Median household income: 41059<br>Median family income: 52413<br>",
          "Median household income: 39680<br>Median family income: 50178<br>"
         ],
         "type": "choropleth",
         "z": [
          45877,
          39373,
          37288,
          36593,
          36338,
          34691,
          34052,
          33095,
          33071,
          33062,
          32638,
          32357,
          31841,
          30830,
          30488,
          30441,
          30417,
          29736,
          29698,
          29220,
          29178,
          28361,
          28213,
          27978,
          27870,
          27646,
          27446,
          27125,
          26959,
          26937,
          26613,
          26582,
          26126,
          25989,
          25774,
          25773,
          25715,
          25615,
          25229,
          25140,
          24922,
          24877,
          24800,
          24596,
          23938,
          23684,
          23683,
          23606,
          22883,
          22714,
          21036
         ]
        }
       ],
       "layout": {
        "geo": {
         "lakecolor": "rgb(255, 255, 255)",
         "projection": {
          "type": "albers usa"
         },
         "scope": "usa",
         "showlakes": true
        },
        "title": "US Per Capita Income by States<br>(Hover for breakdown)"
       }
      },
      "text/html": [
       "<div id=\"a067b2be-dde1-4678-a2f0-3be49e36d734\" style=\"height: 525px; width: 100%;\" class=\"plotly-graph-div\"></div><script type=\"text/javascript\">require([\"plotly\"], function(Plotly) { window.PLOTLYENV=window.PLOTLYENV || {};window.PLOTLYENV.BASE_URL=\"https://plot.ly\";Plotly.newPlot(\"a067b2be-dde1-4678-a2f0-3be49e36d734\", [{\"autocolorscale\": false, \"colorscale\": [[0.0, \"rgb(255,255,255)\"], [1.0, \"rgb(0,0,0)\"]], \"text\": [\"Median household income: 71648<br>Median family income: 84094<br>\", \"Median household income: 70048<br>Median family income: 88819<br>\", \"Median household income: 69160<br>Median family income: 87951<br>\", \"Median household income: 71919<br>Median family income: 88419<br>\", \"Median household income: 73971<br>Median family income: 89678<br>\", \"Median household income: 66532<br>Median family income: 80581<br>\", \"Median household income: 64902<br>Median family income: 78290<br>\", \"Median household income: 58878<br>Median family income: 71115<br>\", \"Median household income: 59029<br>Median family income: 75221<br>\", \"Median household income: 71583<br>Median family income: 82307<br>\", \"Median household income: 61481<br>Median family income: 77941<br>\", \"Median household income: 61303<br>Median family income: 75405<br>\", \"Median household income: 61366<br>Median family income: 74193<br>\", \"Median household income: 54891<br>Median family income: 71212<br>\", \"Median household income: 59716<br>Median family income: 72594<br>\", \"Median household income: 61933<br>Median family income: 71015<br>\", \"Median household income: 57444<br>Median family income: 71796<br>\", \"Median household income: 69592<br>Median family income: 79187<br>\", \"Median household income: 57055<br>Median family income: 72460<br>\", \"Median household income: 53234<br>Median family income: 67876<br>\", \"Median household income: 54166<br>Median family income: 67154<br>\", \"Median household income: 53712<br>Median family income: 67771<br>\", \"Median household income: 52622<br>Median family income: 67187<br>\", \"Median household income: 49462<br>Median family income: 62078<br>\", \"Median household income: 52504<br>Median family income: 66425<br>\", \"Median household income: 51075<br>Median family income: 62670<br>\", \"Median household income: 52686<br>Median family income: 66120<br>\", \"Median household income: 53035<br>Median family income: 62830<br>\", \"Median household income: 50979<br>Median family income: 66936<br>\", \"Median household income: 49308<br>Median family income: 62300<br>\", \"Median household income: 49847<br>Median family income: 62143<br>\", \"Median household income: 47463<br>Median family income: 57212<br>\", \"Median household income: 48363<br>Median family income: 61299<br>\", \"Median household income: 46328<br>Median family income: 60643<br>\", \"Median household income: 46556<br>Median family income: 57380<br>\", \"Median household income: 51450<br>Median family income: 60824<br>\", \"Median household income: 50068<br>Median family income: 59700<br>\", \"Median household income: 49321<br>Median family income: 58885<br>\", \"Median household income: 47529<br>Median family income: 58710<br>\", \"Median household income: 49446<br>Median family income: 60780<br>\", \"Median household income: 44361<br>Median family income: 55557<br>\", \"Median household income: 60922<br>Median family income: 69535<br>\", \"Median household income: 44555<br>Median family income: 56573<br>\", \"Median household income: 45238<br>Median family income: 56491<br>\", \"Median household income: 47861<br>Median family income: 58101<br>\", \"Median household income: 42958<br>Median family income: 54776<br>\", \"Median household income: 44803<br>Median family income: 54705<br>\", \"Median household income: 42830<br>Median family income: 53764<br>\", \"Median household income: 41262<br>Median family income: 51528<br>\", \"Median household income: 41059<br>Median family income: 52413<br>\", \"Median household income: 39680<br>Median family income: 50178<br>\"], \"locations\": [\"DC\", \"CT\", \"NJ\", \"MA\", \"MD\", \"NH\", \"VA\", \"NY\", \"ND\", \"AK\", \"MN\", \"CO\", \"WA\", \"RI\", \"DE\", \"CA\", \"IL\", \"HI\", \"WY\", \"PA\", \"VT\", \"IA\", \"WI\", \"ME\", \"KS\", \"OR\", \"NE\", \"TX\", \"SD\", \"OH\", \"MI\", \"FL\", \"MO\", \"MT\", \"NC\", \"NV\", \"AZ\", \"GA\", \"OK\", \"IN\", \"TN\", \"UT\", \"LA\", \"SC\", \"ID\", \"KY\", \"NM\", \"AL\", \"AR\", \"WV\", \"MS\"], \"colorbar\": {\"title\": \"Per capita income<br>(USD)\"}, \"type\": \"choropleth\", \"marker\": {\"line\": {\"color\": \"rgb(255,255,255)\", \"width\": 2}}, \"z\": [45877.0, 39373.0, 37288.0, 36593.0, 36338.0, 34691.0, 34052.0, 33095.0, 33071.0, 33062.0, 32638.0, 32357.0, 31841.0, 30830.0, 30488.0, 30441.0, 30417.0, 29736.0, 29698.0, 29220.0, 29178.0, 28361.0, 28213.0, 27978.0, 27870.0, 27646.0, 27446.0, 27125.0, 26959.0, 26937.0, 26613.0, 26582.0, 26126.0, 25989.0, 25774.0, 25773.0, 25715.0, 25615.0, 25229.0, 25140.0, 24922.0, 24877.0, 24800.0, 24596.0, 23938.0, 23684.0, 23683.0, 23606.0, 22883.0, 22714.0, 21036.0], \"locationmode\": \"USA-states\"}], {\"geo\": {\"showlakes\": true, \"scope\": \"usa\", \"projection\": {\"type\": \"albers usa\"}, \"lakecolor\": \"rgb(255, 255, 255)\"}, \"title\": \"US Per Capita Income by States<br>(Hover for breakdown)\"}, {\"linkText\": \"Export to plot.ly\", \"showLink\": true})});</script>"
      ],
      "text/vnd.plotly.v1+html": [
       "<div id=\"a067b2be-dde1-4678-a2f0-3be49e36d734\" style=\"height: 525px; width: 100%;\" class=\"plotly-graph-div\"></div><script type=\"text/javascript\">require([\"plotly\"], function(Plotly) { window.PLOTLYENV=window.PLOTLYENV || {};window.PLOTLYENV.BASE_URL=\"https://plot.ly\";Plotly.newPlot(\"a067b2be-dde1-4678-a2f0-3be49e36d734\", [{\"autocolorscale\": false, \"colorscale\": [[0.0, \"rgb(255,255,255)\"], [1.0, \"rgb(0,0,0)\"]], \"text\": [\"Median household income: 71648<br>Median family income: 84094<br>\", \"Median household income: 70048<br>Median family income: 88819<br>\", \"Median household income: 69160<br>Median family income: 87951<br>\", \"Median household income: 71919<br>Median family income: 88419<br>\", \"Median household income: 73971<br>Median family income: 89678<br>\", \"Median household income: 66532<br>Median family income: 80581<br>\", \"Median household income: 64902<br>Median family income: 78290<br>\", \"Median household income: 58878<br>Median family income: 71115<br>\", \"Median household income: 59029<br>Median family income: 75221<br>\", \"Median household income: 71583<br>Median family income: 82307<br>\", \"Median household income: 61481<br>Median family income: 77941<br>\", \"Median household income: 61303<br>Median family income: 75405<br>\", \"Median household income: 61366<br>Median family income: 74193<br>\", \"Median household income: 54891<br>Median family income: 71212<br>\", \"Median household income: 59716<br>Median family income: 72594<br>\", \"Median household income: 61933<br>Median family income: 71015<br>\", \"Median household income: 57444<br>Median family income: 71796<br>\", \"Median household income: 69592<br>Median family income: 79187<br>\", \"Median household income: 57055<br>Median family income: 72460<br>\", \"Median household income: 53234<br>Median family income: 67876<br>\", \"Median household income: 54166<br>Median family income: 67154<br>\", \"Median household income: 53712<br>Median family income: 67771<br>\", \"Median household income: 52622<br>Median family income: 67187<br>\", \"Median household income: 49462<br>Median family income: 62078<br>\", \"Median household income: 52504<br>Median family income: 66425<br>\", \"Median household income: 51075<br>Median family income: 62670<br>\", \"Median household income: 52686<br>Median family income: 66120<br>\", \"Median household income: 53035<br>Median family income: 62830<br>\", \"Median household income: 50979<br>Median family income: 66936<br>\", \"Median household income: 49308<br>Median family income: 62300<br>\", \"Median household income: 49847<br>Median family income: 62143<br>\", \"Median household income: 47463<br>Median family income: 57212<br>\", \"Median household income: 48363<br>Median family income: 61299<br>\", \"Median household income: 46328<br>Median family income: 60643<br>\", \"Median household income: 46556<br>Median family income: 57380<br>\", \"Median household income: 51450<br>Median family income: 60824<br>\", \"Median household income: 50068<br>Median family income: 59700<br>\", \"Median household income: 49321<br>Median family income: 58885<br>\", \"Median household income: 47529<br>Median family income: 58710<br>\", \"Median household income: 49446<br>Median family income: 60780<br>\", \"Median household income: 44361<br>Median family income: 55557<br>\", \"Median household income: 60922<br>Median family income: 69535<br>\", \"Median household income: 44555<br>Median family income: 56573<br>\", \"Median household income: 45238<br>Median family income: 56491<br>\", \"Median household income: 47861<br>Median family income: 58101<br>\", \"Median household income: 42958<br>Median family income: 54776<br>\", \"Median household income: 44803<br>Median family income: 54705<br>\", \"Median household income: 42830<br>Median family income: 53764<br>\", \"Median household income: 41262<br>Median family income: 51528<br>\", \"Median household income: 41059<br>Median family income: 52413<br>\", \"Median household income: 39680<br>Median family income: 50178<br>\"], \"locations\": [\"DC\", \"CT\", \"NJ\", \"MA\", \"MD\", \"NH\", \"VA\", \"NY\", \"ND\", \"AK\", \"MN\", \"CO\", \"WA\", \"RI\", \"DE\", \"CA\", \"IL\", \"HI\", \"WY\", \"PA\", \"VT\", \"IA\", \"WI\", \"ME\", \"KS\", \"OR\", \"NE\", \"TX\", \"SD\", \"OH\", \"MI\", \"FL\", \"MO\", \"MT\", \"NC\", \"NV\", \"AZ\", \"GA\", \"OK\", \"IN\", \"TN\", \"UT\", \"LA\", \"SC\", \"ID\", \"KY\", \"NM\", \"AL\", \"AR\", \"WV\", \"MS\"], \"colorbar\": {\"title\": \"Per capita income<br>(USD)\"}, \"type\": \"choropleth\", \"marker\": {\"line\": {\"color\": \"rgb(255,255,255)\", \"width\": 2}}, \"z\": [45877.0, 39373.0, 37288.0, 36593.0, 36338.0, 34691.0, 34052.0, 33095.0, 33071.0, 33062.0, 32638.0, 32357.0, 31841.0, 30830.0, 30488.0, 30441.0, 30417.0, 29736.0, 29698.0, 29220.0, 29178.0, 28361.0, 28213.0, 27978.0, 27870.0, 27646.0, 27446.0, 27125.0, 26959.0, 26937.0, 26613.0, 26582.0, 26126.0, 25989.0, 25774.0, 25773.0, 25715.0, 25615.0, 25229.0, 25140.0, 24922.0, 24877.0, 24800.0, 24596.0, 23938.0, 23684.0, 23683.0, 23606.0, 22883.0, 22714.0, 21036.0], \"locationmode\": \"USA-states\"}], {\"geo\": {\"showlakes\": true, \"scope\": \"usa\", \"projection\": {\"type\": \"albers usa\"}, \"lakecolor\": \"rgb(255, 255, 255)\"}, \"title\": \"US Per Capita Income by States<br>(Hover for breakdown)\"}, {\"linkText\": \"Export to plot.ly\", \"showLink\": true})});</script>"
      ]
     },
     "metadata": {},
     "output_type": "display_data"
    }
   ],
   "source": [
    "ChoroplethMap()"
   ]
  },
  {
   "cell_type": "code",
   "execution_count": null,
   "metadata": {
    "collapsed": true
   },
   "outputs": [],
   "source": []
  }
 ],
 "metadata": {
  "anaconda-cloud": {},
  "kernelspec": {
   "display_name": "Python [default]",
   "language": "python",
   "name": "python2"
  },
  "language_info": {
   "codemirror_mode": {
    "name": "ipython",
    "version": 2
   },
   "file_extension": ".py",
   "mimetype": "text/x-python",
   "name": "python",
   "nbconvert_exporter": "python",
   "pygments_lexer": "ipython2",
   "version": "2.7.13"
  }
 },
 "nbformat": 4,
 "nbformat_minor": 2
}
