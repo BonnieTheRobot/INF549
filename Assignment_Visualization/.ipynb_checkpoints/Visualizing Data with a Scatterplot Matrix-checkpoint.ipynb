{
 "cells": [
  {
   "cell_type": "markdown",
   "metadata": {},
   "source": [
    "# A Notebook to Visualize Data Using a Scatterplot Matrix"
   ]
  },
  {
   "cell_type": "markdown",
   "metadata": {},
   "source": [
    "This notebook will show you how to visualize a dataset using a [scatterplot](https://en.wikipedia.org/wiki/Scatter_plot) matrix. It is implemented by [Plotly](https://plot.ly), a popular graphing library for Python.\n",
    "\n",
    "The next cell defines basic functions.  Make sure you run it before you proceed."
   ]
  },
  {
   "cell_type": "code",
   "execution_count": 9,
   "metadata": {},
   "outputs": [
    {
     "data": {
      "text/html": [
       "<script>requirejs.config({paths: { 'plotly': ['https://cdn.plot.ly/plotly-latest.min']},});if(!window.Plotly) {{require(['plotly'],function(plotly) {window.Plotly=plotly;});}}</script>"
      ],
      "text/vnd.plotly.v1+html": [
       "<script>requirejs.config({paths: { 'plotly': ['https://cdn.plot.ly/plotly-latest.min']},});if(!window.Plotly) {{require(['plotly'],function(plotly) {window.Plotly=plotly;});}}</script>"
      ]
     },
     "metadata": {},
     "output_type": "display_data"
    }
   ],
   "source": [
    "from plotly.offline import init_notebook_mode,iplot\n",
    "import pandas as pd \n",
    "import plotly.figure_factory as ff\n",
    "import numpy as np\n",
    "import ipywidgets as widgets\n",
    "from ipywidgets import interact_manual\n",
    "\n",
    "init_notebook_mode(connected=True) \n",
    "    \n",
    "def ScatterPlotMatrix(filename,attrs,classes):\n",
    "    df = pd.read_csv(filename)\n",
    "    dataframe=df.loc[:,attrs]\n",
    "    for index,dtypes in enumerate(dataframe.dtypes):\n",
    "        if str(dtypes) not in ('int64','float64'): \n",
    "            print('Warning: ',dataframe.dtypes.index[index],' is not a numerical variable!')\n",
    "    dataframe[classes]=df[classes]\n",
    "    fig = ff.create_scatterplotmatrix(dataframe, diag='box', index=classes,height=800,width=800,\\\n",
    "                                      title='Scatterplot Matrix with Box Plots along Diagonal')\n",
    "    iplot(fig, filename='Box plots along Diagonal Subplots')\n",
    "\n",
    "def searchFile():\n",
    "    import os\n",
    "    topdir='./Parallel Coordniates&Scatterplot Matrix/'\n",
    "    f = []\n",
    "    for (dirpath, dirnames, filenames) in os.walk(topdir):\n",
    "        for filename in filenames:\n",
    "            if filename.endswith('.csv'):\n",
    "                f.append(os.path.realpath(os.path.join(dirpath,filename)))\n",
    "    return f    \n",
    "    \n",
    "def update_attributes(*args):\n",
    "    df = pd.read_csv(filename.value)\n",
    "    classes.options=list(df.columns)\n",
    "    attributes.options=list(df.columns)    \n",
    "    \n",
    "def createWidgets():\n",
    "    style={'description_width': 'initial'}\n",
    "    filename=widgets.Dropdown(options=searchFile(),description='Choose a file',disabled=False)\n",
    "    attributes=widgets.SelectMultiple(description='Attributes you want to plot',style=style,disabled=False)\n",
    "    classes=widgets.Select(description='Class name you want to observe',style=style,disabled=False)\n",
    "    return filename,attributes,classes\n",
    "\n",
    "def loadHead(dataset):\n",
    "    import pandas as pd\n",
    "    df=pd.read_csv(dataset)\n",
    "    with pd.option_context('display.max_columns', None):\n",
    "        display(df.head())"
   ]
  },
  {
   "cell_type": "markdown",
   "metadata": {},
   "source": [
    "## Data Format\n",
    "\n",
    "The functions above expect data to be in a specific format.  The first row contains feature names and the rest of the rows can be either categorical or numerical values of those different features. There cannot be any missing values for the features, otherwise the function returns an error.\n",
    "\n",
    "We provide three example datasets in this directory: \"Parallel Coordniates&Scatterplot Matrix\". Run the following cell to display a dataset before you visualize it. All the datasets include multivariate data. Choosing how many and which specific attributes is at your discretion. The links of the three datasets are just for your reference. We have made some changes to the dataset so please do not use the datasets from these links.\n",
    "* [\"Edu-Data.csv\"](https://www.kaggle.com/aljarah/xAPI-Edu-Data) is an educational dataset from Kaggle, a well-known platform for data science enthusiasts.\n",
    "* [\"iris.csv\"](http://archive.ics.uci.edu/ml/datasets/Iris) is a classic classfication dataset from UCI Machine Learning Repository.\n",
    "* [\"Auto.csv\"](http://www-bcf.usc.edu/~gareth/ISL/data.html) is an automobile dataset from a statistical learning textbook called An Introduction to Statistical Learning with Applications in R.\n"
   ]
  },
  {
   "cell_type": "code",
   "execution_count": 7,
   "metadata": {},
   "outputs": [
    {
     "name": "stdout",
     "output_type": "stream",
     "text": [
      "Please enter the dataset you want to display: ./Parallel Coordniates&Scatterplot Matrix/iris.csv\n"
     ]
    },
    {
     "data": {
      "text/html": [
       "<div>\n",
       "<style>\n",
       "    .dataframe thead tr:only-child th {\n",
       "        text-align: right;\n",
       "    }\n",
       "\n",
       "    .dataframe thead th {\n",
       "        text-align: left;\n",
       "    }\n",
       "\n",
       "    .dataframe tbody tr th {\n",
       "        vertical-align: top;\n",
       "    }\n",
       "</style>\n",
       "<table border=\"1\" class=\"dataframe\">\n",
       "  <thead>\n",
       "    <tr style=\"text-align: right;\">\n",
       "      <th></th>\n",
       "      <th>sepal length in cm</th>\n",
       "      <th>sepal width in cm</th>\n",
       "      <th>petal length in cm</th>\n",
       "      <th>petal width in cm</th>\n",
       "      <th>class</th>\n",
       "    </tr>\n",
       "  </thead>\n",
       "  <tbody>\n",
       "    <tr>\n",
       "      <th>0</th>\n",
       "      <td>5.1</td>\n",
       "      <td>3.5</td>\n",
       "      <td>1.4</td>\n",
       "      <td>0.2</td>\n",
       "      <td>Iris-setosa</td>\n",
       "    </tr>\n",
       "    <tr>\n",
       "      <th>1</th>\n",
       "      <td>4.9</td>\n",
       "      <td>3.0</td>\n",
       "      <td>1.4</td>\n",
       "      <td>0.2</td>\n",
       "      <td>Iris-setosa</td>\n",
       "    </tr>\n",
       "    <tr>\n",
       "      <th>2</th>\n",
       "      <td>4.7</td>\n",
       "      <td>3.2</td>\n",
       "      <td>1.3</td>\n",
       "      <td>0.2</td>\n",
       "      <td>Iris-setosa</td>\n",
       "    </tr>\n",
       "    <tr>\n",
       "      <th>3</th>\n",
       "      <td>4.6</td>\n",
       "      <td>3.1</td>\n",
       "      <td>1.5</td>\n",
       "      <td>0.2</td>\n",
       "      <td>Iris-setosa</td>\n",
       "    </tr>\n",
       "    <tr>\n",
       "      <th>4</th>\n",
       "      <td>5.0</td>\n",
       "      <td>3.6</td>\n",
       "      <td>1.4</td>\n",
       "      <td>0.2</td>\n",
       "      <td>Iris-setosa</td>\n",
       "    </tr>\n",
       "  </tbody>\n",
       "</table>\n",
       "</div>"
      ],
      "text/plain": [
       "   sepal length in cm  sepal width in cm  petal length in cm  \\\n",
       "0                 5.1                3.5                 1.4   \n",
       "1                 4.9                3.0                 1.4   \n",
       "2                 4.7                3.2                 1.3   \n",
       "3                 4.6                3.1                 1.5   \n",
       "4                 5.0                3.6                 1.4   \n",
       "\n",
       "   petal width in cm        class  \n",
       "0                0.2  Iris-setosa  \n",
       "1                0.2  Iris-setosa  \n",
       "2                0.2  Iris-setosa  \n",
       "3                0.2  Iris-setosa  \n",
       "4                0.2  Iris-setosa  "
      ]
     },
     "metadata": {},
     "output_type": "display_data"
    }
   ],
   "source": [
    "dataset=input('Please enter the dataset you want to display: ')\n",
    "loadHead(dataset)"
   ]
  },
  {
   "cell_type": "markdown",
   "metadata": {},
   "source": [
    "## Scatterplot Matrix with Box Plots along Diagonal\n",
    "The following function will visualize your data by a scatterplot matrix with box plots along diagonal. When prompted, please choose the csv file you want to analyze, the attributes you want to analyze as the dimensions of the matrix, and the classes or groups which your want to observe by. We suggest to use numerical variables as the attributes and a categorical variable as the class since following this convention would make the visualization more meaningful. Please note that \"Attributes you want to plot\" is a multiple selection widget so you can press command (Mac) or control (Windows) to select multiple variables. Once you finish choosing, click \"Run Interact.\"  "
   ]
  },
  {
   "cell_type": "code",
   "execution_count": 10,
   "metadata": {},
   "outputs": [
    {
     "data": {
      "application/vnd.jupyter.widget-view+json": {
       "model_id": "b95a764803304bbb9aa65b4a461fd1aa",
       "version_major": 2,
       "version_minor": 0
      },
      "text/plain": [
       "A Jupyter Widget"
      ]
     },
     "metadata": {},
     "output_type": "display_data"
    }
   ],
   "source": [
    "filename,attributes,classes=createWidgets()\n",
    "interact_manual(ScatterPlotMatrix,filename=filename,attrs=attributes,classes=classes)    \n",
    "filename.observe(update_attributes,'value')"
   ]
  },
  {
   "cell_type": "markdown",
   "metadata": {},
   "source": [
    "## Using Your Own Dataset\n",
    "\n",
    "To use your own dataset, create a new file and put it in the directory \"Parallel Coordniates&Scatterplot Matrix\".  Make sure it follows the format of the datasets in this directory. Specifically, the first row needs to be feature names and the rest of the rows can be either categorical or numerical values of those different features. Make sure there are no missing values in your dataset, otherwise you will get an error.\n",
    "\n",
    "We suggest to use numerical variables as the attributes and a categorical variable as the class since following this convention would make the visualization more meaningful. \n",
    "\n",
    "\n",
    "Once you have created the file, run the cell below."
   ]
  },
  {
   "cell_type": "code",
   "execution_count": 11,
   "metadata": {},
   "outputs": [
    {
     "data": {
      "application/vnd.jupyter.widget-view+json": {
       "model_id": "5516102891b64c81a8e8b89d46d7ffad",
       "version_major": 2,
       "version_minor": 0
      },
      "text/plain": [
       "A Jupyter Widget"
      ]
     },
     "metadata": {},
     "output_type": "display_data"
    }
   ],
   "source": [
    "filename,attributes,classes=createWidgets()\n",
    "interact_manual(ScatterPlotMatrix,filename=filename,attrs=attributes,classes=classes)    \n",
    "filename.observe(update_attributes,'value')"
   ]
  },
  {
   "cell_type": "markdown",
   "metadata": {
    "collapsed": true
   },
   "source": [
    "Now you can print this notebook as a PDF file and turn it in."
   ]
  }
 ],
 "metadata": {
  "anaconda-cloud": {},
  "kernelspec": {
   "display_name": "Python 3",
   "language": "python",
   "name": "python3"
  },
  "language_info": {
   "codemirror_mode": {
    "name": "ipython",
    "version": 3
   },
   "file_extension": ".py",
   "mimetype": "text/x-python",
   "name": "python",
   "nbconvert_exporter": "python",
   "pygments_lexer": "ipython3",
   "version": "3.6.3"
  }
 },
 "nbformat": 4,
 "nbformat_minor": 2
}
