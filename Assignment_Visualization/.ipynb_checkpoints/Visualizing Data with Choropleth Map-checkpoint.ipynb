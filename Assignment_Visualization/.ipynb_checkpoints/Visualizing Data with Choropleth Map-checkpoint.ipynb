{
 "cells": [
  {
   "cell_type": "markdown",
   "metadata": {},
   "source": [
    "# A Notebook to Visualize Data Using Choropleth Map\n",
    "This notebook shows an example of how to visualize data using a type of visualization called [choropleth map](https://en.wikipedia.org/wiki/Choropleth_map). A choropleth map is a thematic map in which areas are shaded or patterned in proportion to the measurement of the statistical variable being displayed on the map, such as population density or per capita income.  \n",
    "\n",
    "For those of you interested in the code, it uses predefined functions from the [plotly](https://plot.ly) library to plot data and the [pandas](http://pandas.pydata.org) library to store and manage data."
   ]
  },
  {
   "cell_type": "code",
   "execution_count": 9,
   "metadata": {},
   "outputs": [
    {
     "data": {
      "text/html": [
       "<script>requirejs.config({paths: { 'plotly': ['https://cdn.plot.ly/plotly-latest.min']},});if(!window.Plotly) {{require(['plotly'],function(plotly) {window.Plotly=plotly;});}}</script>"
      ],
      "text/vnd.plotly.v1+html": [
       "<script>requirejs.config({paths: { 'plotly': ['https://cdn.plot.ly/plotly-latest.min']},});if(!window.Plotly) {{require(['plotly'],function(plotly) {window.Plotly=plotly;});}}</script>"
      ]
     },
     "metadata": {},
     "output_type": "display_data"
    }
   ],
   "source": [
    "import pandas as pd\n",
    "from plotly.offline import init_notebook_mode,iplot\n",
    "import ipywidgets as widgets\n",
    "from ipywidgets import interact_manual\n",
    "\n",
    "init_notebook_mode(connected=True) \n",
    "\n",
    "def searchFile():\n",
    "    import os\n",
    "    topdir='.'\n",
    "    f = []\n",
    "    for (dirpath, dirnames, filenames) in os.walk(topdir):\n",
    "        for filename in filenames:\n",
    "            if filename.endswith('.csv'):\n",
    "                f.append(os.path.realpath(os.path.join(dirpath,filename)))\n",
    "    return f   \n",
    "\n",
    "def update_breakdown(*args):\n",
    "    df = pd.read_csv(filename.value)\n",
    "    breakdown.options=list(df.columns)\n",
    "    attribute.options=list(df.columns)\n",
    "\n",
    "def ChoroplethMap(filename,breakdown,attribute,title):\n",
    "    df=pd.read_csv(filename)\n",
    "    scl = [[0.0,'rgb(255,255,255)'],[1.0,'rgb(0,0,0)']]\n",
    "    df['breakdown']=''\n",
    "    for col in breakdown:\n",
    "        df['breakdown']=df['breakdown']+col+': '+df[col].astype('str')+'<br>'\n",
    "    data = [ dict(\n",
    "        type='choropleth',\n",
    "        colorscale = scl,\n",
    "        autocolorscale = False,\n",
    "        locations = df['Code'],\n",
    "        z = df[attribute].astype('float'),\n",
    "        locationmode = 'USA-states',\n",
    "        text = df['breakdown'],\n",
    "        marker = dict(\n",
    "            line = dict (\n",
    "                color = 'rgb(255,255,255)',\n",
    "                width = 2\n",
    "            ) ),\n",
    "        colorbar = dict(\n",
    "            title = attribute+\"<br>(USD)\")\n",
    "        ) ]\n",
    "    layout = dict(\n",
    "        title = title+'<br>(Hover for breakdown)',\n",
    "        geo = dict(\n",
    "            scope='usa',\n",
    "            projection=dict( type='albers usa' ),\n",
    "            showlakes = True,\n",
    "            lakecolor = 'rgb(255, 255, 255)'),\n",
    "             )\n",
    "    fig = dict( data=data, layout=layout )\n",
    "    iplot( fig, filename='d3-cloropleth-map' )\n",
    "\n",
    "def createWidgets():\n",
    "    style={'description_width': 'initial'}\n",
    "    filename=widgets.Dropdown(options=searchFile(),description='Choose a file',disabled=False,continuous_update=False)\n",
    "    breakdown=widgets.SelectMultiple(description='Breakdown',disabled=False,continuous_update=False)\n",
    "    attribute=widgets.Select(description='Attribute to color',style=style,disabled=False,continuous_update=False)\n",
    "    title=widgets.Text(value='input',description='Name your graph:',style=style,disabled=False,continuous_update=False)\n",
    "    return filename,breakdown,attribute,title\n",
    "\n",
    "def loadHead(dataset):\n",
    "    import pandas as pd\n",
    "    df=pd.read_csv(dataset)\n",
    "    with pd.option_context('display.max_columns', None):\n",
    "        display(df.head())"
   ]
  },
  {
   "cell_type": "markdown",
   "metadata": {},
   "source": [
    "## Data Format\n",
    "\n",
    "The functions above expect data to be in a specific format.  The first row contains feature names and the rest of the rows can be either categorical or numerical values of those different features. There cannot be any missing values for the features, otherwise the function returns an error. Also, there must be a state abbreviation column named 'Code' so the algorithm can figure out how to process the data. \n",
    "\n",
    "We provide an example dataset [\"States ranked by per capita income.csv\"](https://github.com/RupertMa/INF549/blob/master/Assignment_Visualization/States%20ranked%20by%20per%20capita%20income.csv) in this directory: \"Choropleth Map\". Run the following cell to display the dataset before you visualize it. The dataset includes multivariate data. Choosing how many and which specific features is at your discretion. "
   ]
  },
  {
   "cell_type": "code",
   "execution_count": 2,
   "metadata": {},
   "outputs": [
    {
     "name": "stdout",
     "output_type": "stream",
     "text": [
      "Please enter the dataset you want to display: ./Choropleth Map/States ranked by per capita income.csv\n"
     ]
    },
    {
     "data": {
      "text/html": [
       "<div>\n",
       "<style>\n",
       "    .dataframe thead tr:only-child th {\n",
       "        text-align: right;\n",
       "    }\n",
       "\n",
       "    .dataframe thead th {\n",
       "        text-align: left;\n",
       "    }\n",
       "\n",
       "    .dataframe tbody tr th {\n",
       "        vertical-align: top;\n",
       "    }\n",
       "</style>\n",
       "<table border=\"1\" class=\"dataframe\">\n",
       "  <thead>\n",
       "    <tr style=\"text-align: right;\">\n",
       "      <th></th>\n",
       "      <th>Rank</th>\n",
       "      <th>Code</th>\n",
       "      <th>State</th>\n",
       "      <th>Per capita income</th>\n",
       "      <th>Median household income</th>\n",
       "      <th>Median family income</th>\n",
       "      <th>Population</th>\n",
       "      <th>Numebrs of households</th>\n",
       "      <th>Number of families</th>\n",
       "    </tr>\n",
       "  </thead>\n",
       "  <tbody>\n",
       "    <tr>\n",
       "      <th>0</th>\n",
       "      <td>NaN</td>\n",
       "      <td>DC</td>\n",
       "      <td>District of Columbia</td>\n",
       "      <td>45877</td>\n",
       "      <td>71648</td>\n",
       "      <td>84094</td>\n",
       "      <td>658893</td>\n",
       "      <td>277378</td>\n",
       "      <td>117864</td>\n",
       "    </tr>\n",
       "    <tr>\n",
       "      <th>1</th>\n",
       "      <td>1.0</td>\n",
       "      <td>CT</td>\n",
       "      <td>Connecticut</td>\n",
       "      <td>39373</td>\n",
       "      <td>70048</td>\n",
       "      <td>88819</td>\n",
       "      <td>3596677</td>\n",
       "      <td>1355817</td>\n",
       "      <td>887263</td>\n",
       "    </tr>\n",
       "    <tr>\n",
       "      <th>2</th>\n",
       "      <td>2.0</td>\n",
       "      <td>NJ</td>\n",
       "      <td>New Jersey</td>\n",
       "      <td>37288</td>\n",
       "      <td>69160</td>\n",
       "      <td>87951</td>\n",
       "      <td>8938175</td>\n",
       "      <td>2549336</td>\n",
       "      <td>1610581</td>\n",
       "    </tr>\n",
       "    <tr>\n",
       "      <th>3</th>\n",
       "      <td>3.0</td>\n",
       "      <td>MA</td>\n",
       "      <td>Massachusetts</td>\n",
       "      <td>36593</td>\n",
       "      <td>71919</td>\n",
       "      <td>88419</td>\n",
       "      <td>6938608</td>\n",
       "      <td>3194844</td>\n",
       "      <td>2203675</td>\n",
       "    </tr>\n",
       "    <tr>\n",
       "      <th>4</th>\n",
       "      <td>4.0</td>\n",
       "      <td>MD</td>\n",
       "      <td>Maryland</td>\n",
       "      <td>36338</td>\n",
       "      <td>73971</td>\n",
       "      <td>89678</td>\n",
       "      <td>5976407</td>\n",
       "      <td>2165438</td>\n",
       "      <td>1445972</td>\n",
       "    </tr>\n",
       "  </tbody>\n",
       "</table>\n",
       "</div>"
      ],
      "text/plain": [
       "   Rank Code                 State  Per capita income  \\\n",
       "0   NaN   DC  District of Columbia              45877   \n",
       "1   1.0   CT           Connecticut              39373   \n",
       "2   2.0   NJ            New Jersey              37288   \n",
       "3   3.0   MA         Massachusetts              36593   \n",
       "4   4.0   MD              Maryland              36338   \n",
       "\n",
       "   Median household income  Median family income  Population  \\\n",
       "0                    71648                 84094      658893   \n",
       "1                    70048                 88819     3596677   \n",
       "2                    69160                 87951     8938175   \n",
       "3                    71919                 88419     6938608   \n",
       "4                    73971                 89678     5976407   \n",
       "\n",
       "   Numebrs of households  Number of families  \n",
       "0                 277378              117864  \n",
       "1                1355817              887263  \n",
       "2                2549336             1610581  \n",
       "3                3194844             2203675  \n",
       "4                2165438             1445972  "
      ]
     },
     "metadata": {},
     "output_type": "display_data"
    }
   ],
   "source": [
    "dataset=input('Please enter the dataset you want to display: ')\n",
    "loadHead(dataset)"
   ]
  },
  {
   "cell_type": "markdown",
   "metadata": {},
   "source": [
    "## United States Choropleth Map\n",
    "The following function will generate a visualization for your data using US choropleth map. When prompted, please choose the csv file containing the data, the attribute you want to color, and the breakdown you want to display in each state. Please note that \"Breakdown\" is a multiple selection widget so you can press command (Mac) or control (Windows) to select multiple variables .   \n",
    "\n",
    "Tips: The unit for the attribute you want to color is defaulted as 'USD'. If you want to change the unit, please change the text in the top cell as shown below.  \n",
    "<img src=\"https://github.com/RupertMa/INF549/blob/master/Assignment_Visualization/Picture1.png?raw=true\" width=\"40%\">"
   ]
  },
  {
   "cell_type": "code",
   "execution_count": 10,
   "metadata": {},
   "outputs": [
    {
     "data": {
      "application/vnd.jupyter.widget-view+json": {
       "model_id": "1875422f2e6148cfa1edc29ccb9b72b6",
       "version_major": 2,
       "version_minor": 0
      },
      "text/plain": [
       "A Jupyter Widget"
      ]
     },
     "metadata": {},
     "output_type": "display_data"
    }
   ],
   "source": [
    "filename,breakdown,attribute,title=createWidgets()\n",
    "interact_manual(ChoroplethMap,filename=filename,breakdown=breakdown,attribute=attribute,title=title)    \n",
    "filename.observe(update_breakdown,'value')"
   ]
  },
  {
   "cell_type": "markdown",
   "metadata": {
    "collapsed": true
   },
   "source": [
    "## Using Your Own Dataset\n",
    "To use your own dataset, create a new file and put it in the directory \"Choropleth Map\".  Make sure it follows the format of the datasets in this directory. Specifically, the first row needs to be feature names and the rest of the rows can be either categorical or numerical values of those different features. Make sure there are no missing values in your dataset, otherwise you will get an error. You can use any dataset described by US states. **Also, please name your state abbreviation column 'Code' so the algorithm can know how to process your data. **  \n",
    "\n",
    "\n",
    "\n",
    "Once you have created the file, run the cell below."
   ]
  },
  {
   "cell_type": "code",
   "execution_count": null,
   "metadata": {
    "collapsed": true
   },
   "outputs": [],
   "source": [
    "filename,breakdown,attribute,title=createWidgets()\n",
    "interact_manual(ChoroplethMap,filename=filename,breakdown=breakdown,attribute=attribute,title=title)    \n",
    "filename.observe(update_breakdown,'value')"
   ]
  },
  {
   "cell_type": "markdown",
   "metadata": {},
   "source": [
    "Now you can print this notebook as a PDF file and turn it in."
   ]
  }
 ],
 "metadata": {
  "anaconda-cloud": {},
  "kernelspec": {
   "display_name": "Python 3",
   "language": "python",
   "name": "python3"
  },
  "language_info": {
   "codemirror_mode": {
    "name": "ipython",
    "version": 3
   },
   "file_extension": ".py",
   "mimetype": "text/x-python",
   "name": "python",
   "nbconvert_exporter": "python",
   "pygments_lexer": "ipython3",
   "version": "3.6.3"
  }
 },
 "nbformat": 4,
 "nbformat_minor": 2
}
