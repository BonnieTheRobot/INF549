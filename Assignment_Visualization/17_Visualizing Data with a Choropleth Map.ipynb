{
 "cells": [
  {
   "cell_type": "markdown",
   "metadata": {},
   "source": [
    "# A Notebook to Visualize Data Using a Choropleth Map\n",
    "This notebook shows an example of how to visualize data using a type of visualization called [choropleth map](https://en.wikipedia.org/wiki/Choropleth_map). A choropleth map is a thematic map in which areas are shaded or patterned in proportion to the measurement of the statistical variable being displayed on the map, such as population density or per capita income.  \n",
    "\n",
    "For those of you interested in the code, it uses predefined functions from the [plotly](https://plot.ly) library to plot data and the [pandas](http://pandas.pydata.org) library to store and manage data."
   ]
  },
  {
   "cell_type": "code",
   "execution_count": null,
   "metadata": {},
   "outputs": [],
   "source": [
    "import pandas as pd\n",
    "from plotly.offline import init_notebook_mode,iplot\n",
    "import ipywidgets as widgets\n",
    "from ipywidgets import interact_manual\n",
    "\n",
    "init_notebook_mode(connected=True) \n",
    "\n",
    "def searchFile():\n",
    "    import os\n",
    "    topdir='.'\n",
    "    f = []\n",
    "    for (dirpath, dirnames, filenames) in os.walk(topdir):\n",
    "        for filename in filenames:\n",
    "            if filename.endswith('.csv'):\n",
    "                f.append(os.path.realpath(os.path.join(dirpath,filename)))\n",
    "    return f   \n",
    "\n",
    "def update_breakdown(*args):\n",
    "    df = pd.read_csv(filename.value)\n",
    "    breakdown.options=list(df.columns)\n",
    "    attribute.options=list(df.columns)\n",
    "\n",
    "def ChoroplethMap(filename,title,attribute,breakdown):\n",
    "    df=pd.read_csv(filename)\n",
    "    scl = [[0.0,'rgb(255,255,255)'],[1.0,'rgb(0,0,0)']]\n",
    "    df['breakdown']=''\n",
    "    for col in breakdown:\n",
    "        df['breakdown']=df['breakdown']+col+': '+df[col].astype('str')+'<br>'\n",
    "    data = [ dict(\n",
    "        type='choropleth',\n",
    "        colorscale = scl,\n",
    "        autocolorscale = False,\n",
    "        locations = df['Code'],\n",
    "        z = df[attribute].astype('float'),\n",
    "        locationmode = 'USA-states',\n",
    "        text = df['breakdown'],\n",
    "        marker = dict(\n",
    "            line = dict (\n",
    "                color = 'rgb(255,255,255)',\n",
    "                width = 2\n",
    "            ) ),\n",
    "        colorbar = dict(\n",
    "            title = attribute+\"<br>(USD)\")\n",
    "        ) ]\n",
    "    layout = dict(\n",
    "        title = title,\n",
    "        geo = dict(\n",
    "            scope='usa',\n",
    "            projection=dict( type='albers usa' ),\n",
    "            showlakes = True,\n",
    "            lakecolor = 'rgb(255, 255, 255)'),\n",
    "             )\n",
    "    fig = dict( data=data, layout=layout )\n",
    "    iplot( fig, filename='d3-cloropleth-map' )\n",
    "\n",
    "def createWidgets():\n",
    "    style={'description_width': 'initial'}\n",
    "    filename=widgets.Dropdown(options=searchFile(),description='Choose a file',\\\n",
    "                              disabled=False,continuous_update=False)\n",
    "    breakdown=widgets.SelectMultiple(description='Breakdown',disabled=False,\\\n",
    "                                     continuous_update=False)\n",
    "    attribute=widgets.Select(description='Attribute to color',style=style,\\\n",
    "                             disabled=False,continuous_update=False)\n",
    "    title=widgets.Text(value='input',description='Name your graph:',style=style,\\\n",
    "                       disabled=False,continuous_update=False)\n",
    "    return filename,title,attribute,breakdown\n",
    "\n",
    "def loadHead(dataset):\n",
    "    import pandas as pd\n",
    "    df=pd.read_csv(dataset)\n",
    "    with pd.option_context('display.max_columns', None):\n",
    "        display(df.head())"
   ]
  },
  {
   "cell_type": "markdown",
   "metadata": {},
   "source": [
    "## Data Format\n",
    "\n",
    "The functions above expect data to be in a specific format.  The first row contains feature names and the rest of the rows can be either categorical or numerical values of those different features. There cannot be any missing values for the features, otherwise the function returns an error. Also, there must be a state abbreviation column named 'Code' so the algorithm can figure out how to process the data. \n",
    "\n",
    "We provide an example dataset [\"States ranked by per capita income.csv\"](https://github.com/RupertMa/INF549/blob/master/Assignment_Visualization/States%20ranked%20by%20per%20capita%20income.csv) in this directory: \"Choropleth Map\". Run the following cell to display the dataset before you visualize it. The dataset includes multivariate data. Choosing how many and which specific features is at your discretion. "
   ]
  },
  {
   "cell_type": "code",
   "execution_count": null,
   "metadata": {},
   "outputs": [],
   "source": [
    "dataset=input('Please enter the dataset you want to display: ')\n",
    "loadHead(dataset)"
   ]
  },
  {
   "cell_type": "markdown",
   "metadata": {},
   "source": [
    "## United States Choropleth Map\n",
    "The following function will generate a visualization for your data using US choropleth map. When prompted, please choose the csv file containing the data, the attribute you want to color, and other attributes you want to see when you hover over the map. Please note that \"Other attributes\" is a multiple selection widget so you can press command (Mac) or control (Windows) to select multiple variables .   \n",
    "\n",
    "**Tips:**    \n",
    "**If you want to choose the first listed file, click other files first and then click the first listed file.**  \n"
   ]
  },
  {
   "cell_type": "code",
   "execution_count": null,
   "metadata": {},
   "outputs": [],
   "source": [
    "filename,title,attribute,breakdown=createWidgets()\n",
    "interact_manual(ChoroplethMap,title=title,filename=filename,breakdown=breakdown,\\\n",
    "                attribute=attribute)    \n",
    "filename.observe(update_breakdown,'value')"
   ]
  },
  {
   "cell_type": "markdown",
   "metadata": {
    "collapsed": true
   },
   "source": [
    "## Using Your Own Dataset\n",
    "To use your own dataset, create a new file and put it in the directory \"Choropleth Map\".  Make sure it follows the format of the datasets in this directory. Specifically, the first row needs to be feature names and the rest of the rows can be either categorical or numerical values of those different features. Make sure there are no missing values in your dataset, otherwise you will get an error. You can use any dataset described by US states. **Also, please name your state abbreviation column as \"Code\" so the algorithm can know how to process your data. **  \n",
    "\n",
    "**Note that the unit for the attribute you want to color is defaulted as 'USD'. If you want to change the unit, please change the text in the top cell as shown below.  **\n",
    "<img src=\"https://github.com/RupertMa/INF549/blob/master/Assignment_Visualization/Picture1.png?raw=true\" width=\"40%\">\n",
    "\n",
    "Once you have created the file, run the cell below."
   ]
  },
  {
   "cell_type": "code",
   "execution_count": null,
   "metadata": {},
   "outputs": [],
   "source": [
    "filename,title,attribute,breakdown=createWidgets()\n",
    "interact_manual(ChoroplethMap,filename=filename,breakdown=breakdown,\\\n",
    "                attribute=attribute,title=title)    \n",
    "filename.observe(update_breakdown,'value')"
   ]
  },
  {
   "cell_type": "markdown",
   "metadata": {},
   "source": [
    "Now you can print this notebook as a PDF file and turn it in."
   ]
  }
 ],
 "metadata": {
  "anaconda-cloud": {},
  "kernelspec": {
   "display_name": "Python 3",
   "language": "python",
   "name": "python3"
  },
  "language_info": {
   "codemirror_mode": {
    "name": "ipython",
    "version": 3
   },
   "file_extension": ".py",
   "mimetype": "text/x-python",
   "name": "python",
   "nbconvert_exporter": "python",
   "pygments_lexer": "ipython3",
   "version": "3.6.3"
  }
 },
 "nbformat": 4,
 "nbformat_minor": 2
}
