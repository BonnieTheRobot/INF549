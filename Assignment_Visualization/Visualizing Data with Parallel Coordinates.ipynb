{
 "cells": [
  {
   "cell_type": "markdown",
   "metadata": {},
   "source": [
    "# A Notebook to Visualize Data Using Parallel Coordinates\n",
    "\n",
    "This notebook shows an example of how to visualize data using a type of visualization called parallel coordinates.  [Parallel coordinates](https://en.wikipedia.org/wiki/Parallel_coordinates) are a common way of visualizing high-dimensional geometry and analyzing multivariate data.\n",
    "\n",
    "For those of you interested in the code, it uses predefined functions from the [plotly](https://plot.ly) library to plot data and the [pandas](http://pandas.pydata.org) library to handle coordinates. "
   ]
  },
  {
   "cell_type": "code",
   "execution_count": 26,
   "metadata": {},
   "outputs": [
    {
     "data": {
      "text/html": [
       "<script>requirejs.config({paths: { 'plotly': ['https://cdn.plot.ly/plotly-latest.min']},});if(!window.Plotly) {{require(['plotly'],function(plotly) {window.Plotly=plotly;});}}</script>"
      ],
      "text/vnd.plotly.v1+html": [
       "<script>requirejs.config({paths: { 'plotly': ['https://cdn.plot.ly/plotly-latest.min']},});if(!window.Plotly) {{require(['plotly'],function(plotly) {window.Plotly=plotly;});}}</script>"
      ]
     },
     "metadata": {},
     "output_type": "display_data"
    }
   ],
   "source": [
    "from plotly.offline import init_notebook_mode,iplot\n",
    "import plotly.graph_objs as go\n",
    "import pandas as pd \n",
    "import ipywidgets as widgets\n",
    "from ipywidgets import interact_manual\n",
    "import os\n",
    "\n",
    "init_notebook_mode(connected=True) \n",
    "\n",
    "def produceDict(df,label):\n",
    "    dic={}\n",
    "    if df.dtypes in ('int64','float64'):\n",
    "        dic['range']=[df.min(),df.max()]\n",
    "        dic['label']=label\n",
    "        dic['values']=df\n",
    "        #dic['visible']=False\n",
    "    else:\n",
    "        df=df.astype('category')\n",
    "        encodedLabels=dict(enumerate(df.cat.categories))\n",
    "        dic['range']=[0,len(encodedLabels)-1]\n",
    "        dic['tickvals']=list(encodedLabels.keys())\n",
    "        dic['label']=label\n",
    "        dic['values']=df.cat.codes\n",
    "        dic['ticktext']=list(encodedLabels.values())\n",
    "    return dic\n",
    "\n",
    "def ParallelCoordinates(filename,attrs,classes):\n",
    "    df = pd.read_csv(filename)\n",
    "    dimensions=[]\n",
    "    for attr in attrs:\n",
    "        dimensions.append(produceDict(df[attr],attr))\n",
    "    lineDict=produceDict(df[classes],classes)\n",
    "    line=dict(color=lineDict['values'],colorscale=[[0.0,'rgb(255,97,100)'],[0.5,'rgb(131,245,115)'],[1.0,'rgb(109,172,244)']],showscale = True,\\\n",
    "              colorbar=dict(title=classes,ticks='outside'))\n",
    "    if df[classes].dtypes not in ('int64','float64'):\n",
    "        line['colorbar']['tickvals']=lineDict['tickvals']\n",
    "        line['colorbar']['ticktext']=lineDict['ticktext']\n",
    "    data=[go.Parcoords(line=line,dimensions=dimensions)]\n",
    "    layout = go.Layout(title='Parallel Coordinates',\\\n",
    "                       font=dict(color='#292A2A',size=13))\n",
    "    fig = go.Figure(data = data, layout = layout)\n",
    "    iplot(fig, filename = 'parcoords-basic')  #,image='svg'\n",
    "\n",
    "def searchFile():\n",
    "    import os\n",
    "    topdir='./Parallel Coordniates&Scatterplot Matrix/'\n",
    "    f = []\n",
    "    for (dirpath, dirnames, filenames) in os.walk(topdir):\n",
    "        for filename in filenames:\n",
    "            if filename.endswith('.csv'):\n",
    "                f.append(os.path.realpath(os.path.join(dirpath,filename)))\n",
    "    return f    \n",
    "    \n",
    "def update_attributes(*args):\n",
    "    df = pd.read_csv(filename.value)\n",
    "    classes.options=list(df.columns)\n",
    "    attributes.options=list(df.columns)    \n",
    "    \n",
    "def createWidgets():\n",
    "    style={'description_width': 'initial'}\n",
    "    filename=widgets.Dropdown(options=searchFile(),description='Choose a file',disabled=False)\n",
    "    attributes=widgets.SelectMultiple(description='Attributes you want to plot',style=style,disabled=False)\n",
    "    classes=widgets.Select(description='Class name you want to observe',style=style,disabled=False)\n",
    "    return filename,attributes,classes\n",
    "\n",
    "def loadHead(dataset):\n",
    "    import pandas as pd\n",
    "    df=pd.read_csv(dataset)\n",
    "    with pd.option_context('display.max_columns', None):\n",
    "        display(df.head())"
   ]
  },
  {
   "cell_type": "markdown",
   "metadata": {},
   "source": [
    "## Data Format\n",
    "\n",
    "The functions above expect data to be in a specific format.  The first row contains feature names and the rest of the rows can be either categorical or numerical values of those different features. There cannot be any missing values for the features, otherwise the function returns an error.\n",
    "\n",
    "We provide three example datasets in this directory: \"Parallel Coordniates&Scatterplot Matrix\". Run the following cell to display a dataset before you visualize it. All the datasets include multivariate data. Choosing how many and which specific attributes is at your discretion. The links of the three datasets are just for your reference. We have made some changes to the dataset so please do not use the datasets from these links.\n",
    "* [\"Edu-Data.csv\"](https://www.kaggle.com/aljarah/xAPI-Edu-Data) is an educational dataset from Kaggle, a well-known platform for data science enthusiasts.\n",
    "* [\"iris.csv\"](http://archive.ics.uci.edu/ml/datasets/Iris) is a classic classfication dataset from UCI Machine Learning Repository.\n",
    "* [\"Auto.csv\"](http://www-bcf.usc.edu/~gareth/ISL/data.html) is an automobile dataset from a statistical learning textbook called An Introduction to Statistical Learning with Applications in R."
   ]
  },
  {
   "cell_type": "code",
   "execution_count": 2,
   "metadata": {},
   "outputs": [
    {
     "name": "stdout",
     "output_type": "stream",
     "text": [
      "Please enter the dataset you want to display: ./Parallel Coordniates&Scatterplot Matrix/Auto.csv\n"
     ]
    },
    {
     "data": {
      "text/html": [
       "<div>\n",
       "<style>\n",
       "    .dataframe thead tr:only-child th {\n",
       "        text-align: right;\n",
       "    }\n",
       "\n",
       "    .dataframe thead th {\n",
       "        text-align: left;\n",
       "    }\n",
       "\n",
       "    .dataframe tbody tr th {\n",
       "        vertical-align: top;\n",
       "    }\n",
       "</style>\n",
       "<table border=\"1\" class=\"dataframe\">\n",
       "  <thead>\n",
       "    <tr style=\"text-align: right;\">\n",
       "      <th></th>\n",
       "      <th>mpg</th>\n",
       "      <th>cylinders</th>\n",
       "      <th>displacement</th>\n",
       "      <th>horsepower</th>\n",
       "      <th>weight</th>\n",
       "      <th>acceleration</th>\n",
       "      <th>year</th>\n",
       "      <th>origin</th>\n",
       "      <th>name</th>\n",
       "    </tr>\n",
       "  </thead>\n",
       "  <tbody>\n",
       "    <tr>\n",
       "      <th>0</th>\n",
       "      <td>18.0</td>\n",
       "      <td>8</td>\n",
       "      <td>307.0</td>\n",
       "      <td>130</td>\n",
       "      <td>3504</td>\n",
       "      <td>12.0</td>\n",
       "      <td>70</td>\n",
       "      <td>American</td>\n",
       "      <td>chevrolet chevelle malibu</td>\n",
       "    </tr>\n",
       "    <tr>\n",
       "      <th>1</th>\n",
       "      <td>15.0</td>\n",
       "      <td>8</td>\n",
       "      <td>350.0</td>\n",
       "      <td>165</td>\n",
       "      <td>3693</td>\n",
       "      <td>11.5</td>\n",
       "      <td>70</td>\n",
       "      <td>American</td>\n",
       "      <td>buick skylark 320</td>\n",
       "    </tr>\n",
       "    <tr>\n",
       "      <th>2</th>\n",
       "      <td>18.0</td>\n",
       "      <td>8</td>\n",
       "      <td>318.0</td>\n",
       "      <td>150</td>\n",
       "      <td>3436</td>\n",
       "      <td>11.0</td>\n",
       "      <td>70</td>\n",
       "      <td>American</td>\n",
       "      <td>plymouth satellite</td>\n",
       "    </tr>\n",
       "    <tr>\n",
       "      <th>3</th>\n",
       "      <td>16.0</td>\n",
       "      <td>8</td>\n",
       "      <td>304.0</td>\n",
       "      <td>150</td>\n",
       "      <td>3433</td>\n",
       "      <td>12.0</td>\n",
       "      <td>70</td>\n",
       "      <td>American</td>\n",
       "      <td>amc rebel sst</td>\n",
       "    </tr>\n",
       "    <tr>\n",
       "      <th>4</th>\n",
       "      <td>17.0</td>\n",
       "      <td>8</td>\n",
       "      <td>302.0</td>\n",
       "      <td>140</td>\n",
       "      <td>3449</td>\n",
       "      <td>10.5</td>\n",
       "      <td>70</td>\n",
       "      <td>American</td>\n",
       "      <td>ford torino</td>\n",
       "    </tr>\n",
       "  </tbody>\n",
       "</table>\n",
       "</div>"
      ],
      "text/plain": [
       "    mpg  cylinders  displacement  horsepower  weight  acceleration  year  \\\n",
       "0  18.0          8         307.0         130    3504          12.0    70   \n",
       "1  15.0          8         350.0         165    3693          11.5    70   \n",
       "2  18.0          8         318.0         150    3436          11.0    70   \n",
       "3  16.0          8         304.0         150    3433          12.0    70   \n",
       "4  17.0          8         302.0         140    3449          10.5    70   \n",
       "\n",
       "     origin                       name  \n",
       "0  American  chevrolet chevelle malibu  \n",
       "1  American          buick skylark 320  \n",
       "2  American         plymouth satellite  \n",
       "3  American              amc rebel sst  \n",
       "4  American                ford torino  "
      ]
     },
     "metadata": {},
     "output_type": "display_data"
    }
   ],
   "source": [
    "dataset=input('Please enter the dataset you want to display: ')\n",
    "loadHead(dataset)"
   ]
  },
  {
   "cell_type": "markdown",
   "metadata": {},
   "source": [
    "## Parallel Coordinates\n",
    "The following function will generate a visualization for your data using parallel coordinates. When prompted, please choose the csv file you want to analyze, the attributes you want to plot, and the class name you want to observe by. Please note that \"Attributes you want to plot\" is a multiple selection widget so you can press command (Mac) or control (Windows) to select multiple variables. Once you finish choosing, click \"Run Interact.\" "
   ]
  },
  {
   "cell_type": "code",
   "execution_count": 27,
   "metadata": {},
   "outputs": [
    {
     "data": {
      "application/vnd.jupyter.widget-view+json": {
       "model_id": "ba60886f593f441ab2917df0b071fc7f",
       "version_major": 2,
       "version_minor": 0
      },
      "text/plain": [
       "A Jupyter Widget"
      ]
     },
     "metadata": {},
     "output_type": "display_data"
    }
   ],
   "source": [
    "filename,attributes,classes=createWidgets()\n",
    "interact_manual(ParallelCoordinates,filename=filename,attrs=attributes,classes=classes)    \n",
    "filename.observe(update_attributes,'value')"
   ]
  },
  {
   "cell_type": "markdown",
   "metadata": {},
   "source": [
    "## Using Your Own Dataset\n",
    "To use your own dataset, create a new file and put it in the directory \"Parallel Coordniates&Scatterplot Matrix\".  Make sure it follows the format of the datasets in this directory. Specifically, the first row needs to be feature names and the rest of the rows can be either categorical or numerical values of those different features. Make sure there are no missing values in your dataset, otherwise you will get an error.\n",
    "\n",
    "Once you have created the file, run the cell below."
   ]
  },
  {
   "cell_type": "code",
   "execution_count": 25,
   "metadata": {},
   "outputs": [
    {
     "data": {
      "application/vnd.jupyter.widget-view+json": {
       "model_id": "ae99e23bec6946a6b5cfa5d775459220",
       "version_major": 2,
       "version_minor": 0
      },
      "text/plain": [
       "A Jupyter Widget"
      ]
     },
     "metadata": {},
     "output_type": "display_data"
    }
   ],
   "source": [
    "filename,attributes,classes=createWidgets()\n",
    "interact_manual(ParallelCoordinates,filename=filename,attrs=attributes,classes=classes)    \n",
    "filename.observe(update_attributes,'value')"
   ]
  },
  {
   "cell_type": "markdown",
   "metadata": {
    "collapsed": true
   },
   "source": [
    "Now you can print this notebook as a PDF file and turn it in."
   ]
  }
 ],
 "metadata": {
  "anaconda-cloud": {},
  "kernelspec": {
   "display_name": "Python 3",
   "language": "python",
   "name": "python3"
  },
  "language_info": {
   "codemirror_mode": {
    "name": "ipython",
    "version": 3
   },
   "file_extension": ".py",
   "mimetype": "text/x-python",
   "name": "python",
   "nbconvert_exporter": "python",
   "pygments_lexer": "ipython3",
   "version": "3.6.3"
  }
 },
 "nbformat": 4,
 "nbformat_minor": 2
}
