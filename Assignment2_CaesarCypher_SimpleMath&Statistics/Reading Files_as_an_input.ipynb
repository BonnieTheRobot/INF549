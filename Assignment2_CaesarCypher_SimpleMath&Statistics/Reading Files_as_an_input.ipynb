{
 "cells": [
  {
   "cell_type": "markdown",
   "metadata": {},
   "source": [
    "# A Notebook to Learn to Read Files"
   ]
  },
  {
   "cell_type": "markdown",
   "metadata": {},
   "source": [
    "** Note: This following cell contains some predefined functions to implement Caesar Cypher. Please make sure you have run this cell before you run other cells in this notebook.**"
   ]
  },
  {
   "cell_type": "code",
   "execution_count": 6,
   "metadata": {
    "collapsed": true
   },
   "outputs": [],
   "source": [
    "import os\n",
    "\n",
    "def linebreak(filename):\n",
    "    with open(filename) as f:\n",
    "        string=\"\"\n",
    "        file = f.read()\n",
    "        for ch in file:\n",
    "            string+=ch\n",
    "            if ch == \".\" or ch == \"!\" or ch == \"?\":\n",
    "                string+=\"\\n\"\n",
    "    return string\n",
    "\n",
    "def cipher(text,key):\n",
    "    import string\n",
    "    stri=\"\"\n",
    "    for ch in text:\n",
    "        if ch not in string.ascii_letters:\n",
    "            stri+=ch\n",
    "        else:\n",
    "            output = chr(ord(ch) + key)\n",
    "            outputNum = ord(output)\n",
    "            if 64 < outputNum < 91 or 96 <outputNum < 123:\n",
    "                        stri+=output\n",
    "            else:\n",
    "                x=chr(outputNum-26)\n",
    "                stri+=x\n",
    "    return stri\n",
    "\n",
    "from numpy import *\n",
    "def display_5_number_summary(filename):    \n",
    "    with open(filename) as f:\n",
    "        numbers = f.readlines()\n",
    "        try:\n",
    "            numbers=list(map(float,numbers))\n",
    "            Min=percentile(numbers,0)      \n",
    "            Q1=percentile(numbers,25)        \n",
    "            Median=percentile(numbers,50)\n",
    "            Q3=percentile(numbers,75)\n",
    "            Max=percentile(numbers,100)\n",
    "            return Min,Q1,Median,Q3,Max\n",
    "        except:\n",
    "            print('Please Input Numbers Only')\n",
    "\n",
    "def plot_5_summary(filename):   \n",
    "    with open(filename) as f:\n",
    "        numbers = f.readlines()\n",
    "        try:\n",
    "            numbers=list(map(float,numbers))\n",
    "            import matplotlib.pyplot as plt\n",
    "            plt.boxplot(numbers)\n",
    "            plt.show()\n",
    "            plt.close('all')\n",
    "        except:\n",
    "            print('Please Input Numbers Only')"
   ]
  },
  {
   "cell_type": "markdown",
   "metadata": {},
   "source": [
    "## Instructions ##\n",
    "In the later assingments, we will change the way of input from inputting strings to inputting the names of files. This notebook will help you learn the correct way to input the names of files in both Mac and Windows systems. All the functions in this notebook work the same as they do in the \"Summarizing Data\" notebook. The only difference is the way you input your data.  \n",
    "\n",
    "A path, the general form of the name of a file or directory, specifies a unique location in a file system. A path points to a file system location by following the directory tree hierarchy expressed in a string of characters in which path components, separated by a delimiting character, represent each directory. The delimiting character is most commonly the slash (\"/\"), the backslash character (\"\\\"), or colon (\":\").  \n",
    "\n",
    "* An absolute or full path points to the same location in a file system, regardless of the current working directory. To do that, it must include the root directory.  \n",
    "\n",
    "\n",
    "* By contrast, a relative path starts from some given working directory, avoiding the need to provide the full absolute path. In our case, the working directory is where the notebook is. A filename can be considered as a relative path based at the current working directory.    "
   ]
  },
  {
   "cell_type": "markdown",
   "metadata": {},
   "source": [
    "## Examples ##\n",
    "1.Input an absolute path of a file  \n",
    " For Mac users, right-click the file you want to input, choose \"Get Info\", and copy and paste the absoulte path after the \"where\" into the input box and add \"/\" and the filename after the path.  \n",
    " For Windows users, hold down the Shift key, then right-click the file. In the context menu that appears, find and click Copy as path. Paste it into the input box.  "
   ]
  },
  {
   "cell_type": "code",
   "execution_count": 7,
   "metadata": {},
   "outputs": [
    {
     "name": "stdout",
     "output_type": "stream",
     "text": [
      "Please Enter the Name of the File You Want to summarize: /Users/YiboMa/Documents/GitHub/INF549/Assignment2_CaesarCypher_SimpleMath&Statistics/Simple_math_and_statistics/sample_numbers_1.txt\n",
      "Min: 1.0\n",
      "Q1: 1.5\n",
      "Median: 5.0\n",
      "Q3: 6.5\n",
      "Max: 9.0\n"
     ]
    }
   ],
   "source": [
    "filename=input('Please Enter the Name of the File You Want to Summarize: ')\n",
    "Min,Q1,Median,Q3,Max=display_5_number_summary(filename)\n",
    "print('Min:',Min)\n",
    "print('Q1:', Q1)\n",
    "print('Median:',Median)\n",
    "print('Q3:',Q3)\n",
    "print('Max:',Max)"
   ]
  },
  {
   "cell_type": "markdown",
   "metadata": {
    "collapsed": true
   },
   "source": [
    "2.Input a relative path of a file  \n",
    "No matter what operation system you are using, input the filename into the input box if the file is in the same directory where the notebook is. If the file is in a subdirectory of where the notebook is, read the following instructions.  \n",
    "For Mac users, add \"./folder name/\" before your filename. Folder name is the name of folder in your working directory. For example, sample_numbers_2.txt is in the folder named \"Simple_math_and_statistics\" so the relative path should be \"./Simple_math_and_statistics/sample_numbers_2.txt\".  \n",
    "For Windows users, add \"folder name\\\" before your filename. Folder name is the name of folder in your working directory. For example, sample_numbers_2.txt is in the folder named \"Simple_math_and_statistics\" so the relative path should be \"Simple_math_and_statistics\\sample_numbers_2.txt\"."
   ]
  },
  {
   "cell_type": "code",
   "execution_count": 8,
   "metadata": {},
   "outputs": [
    {
     "name": "stdout",
     "output_type": "stream",
     "text": [
      "Please Enter the Name of the File You Want to Summarize: ./Simple_math_and_statistics/sample_numbers_2.txt\n"
     ]
    },
    {
     "data": {
      "image/png": "[encoded data removed]",
      "text/plain": [
       "<matplotlib.figure.Figure at 0x102dd2c88>"
      ]
     },
     "metadata": {},
     "output_type": "display_data"
    }
   ],
   "source": [
    "filename=input('Please Enter the Name of the File You Want to Summarize: ')\n",
    "plot_5_summary(filename)"
   ]
  },
  {
   "cell_type": "markdown",
   "metadata": {
    "collapsed": true
   },
   "source": [
    "## Pratice by yourself## \n",
    "1.Input an absolute path of a file  \n",
    "Try to input the file \"sample_numbers_3\" with an absolute path."
   ]
  },
  {
   "cell_type": "code",
   "execution_count": 9,
   "metadata": {},
   "outputs": [
    {
     "name": "stdout",
     "output_type": "stream",
     "text": [
      "Please Enter the Name of the File You Want to Summarize: /Users/YiboMa/Documents/GitHub/INF549/Assignment2_CaesarCypher_SimpleMath&Statistics/Simple_math_and_statistics/sample_numbers_3.txt\n",
      "Min: 11.0\n",
      "Q1: 25.5\n",
      "Median: 45.0\n",
      "Q3: 67.0\n",
      "Max: 79.0\n"
     ]
    }
   ],
   "source": [
    "filename=input('Please Enter the Name of the File You Want to Summarize: ')\n",
    "Min,Q1,Median,Q3,Max=display_5_number_summary(filename)\n",
    "print('Min:',Min)\n",
    "print('Q1:', Q1)\n",
    "print('Median:',Median)\n",
    "print('Q3:',Q3)\n",
    "print('Max:',Max)"
   ]
  },
  {
   "cell_type": "markdown",
   "metadata": {},
   "source": [
    "2.Input a relative path of a file  \n",
    "Try to input the file \"sample_numbers_3\" with a relative path."
   ]
  },
  {
   "cell_type": "code",
   "execution_count": 10,
   "metadata": {},
   "outputs": [
    {
     "name": "stdout",
     "output_type": "stream",
     "text": [
      "Please Enter the Name of the File You Want to Summarize: ./Simple_math_and_statistics/sample_numbers_3.txt\n"
     ]
    },
    {
     "data": {
      "image/png": "[encoded data removed]",
      "text/plain": [
       "<matplotlib.figure.Figure at 0x102dd2080>"
      ]
     },
     "metadata": {},
     "output_type": "display_data"
    }
   ],
   "source": [
    "filename=input('Please Enter the Name of the File You Want to Summarize: ')\n",
    "plot_5_summary(filename)"
   ]
  }
 ],
 "metadata": {
  "anaconda-cloud": {},
  "kernelspec": {
   "display_name": "Python 3",
   "language": "python",
   "name": "python3"
  },
  "language_info": {
   "codemirror_mode": {
    "name": "ipython",
    "version": 3
   },
   "file_extension": ".py",
   "mimetype": "text/x-python",
   "name": "python",
   "nbconvert_exporter": "python",
   "pygments_lexer": "ipython3",
   "version": "3.6.3"
  }
 },
 "nbformat": 4,
 "nbformat_minor": 2
}
