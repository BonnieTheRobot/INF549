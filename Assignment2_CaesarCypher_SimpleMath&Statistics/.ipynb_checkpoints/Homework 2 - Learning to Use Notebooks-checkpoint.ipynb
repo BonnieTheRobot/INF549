{
 "cells": [
  {
   "cell_type": "markdown",
   "metadata": {
    "collapsed": true
   },
   "source": [
    "# Homework 2: Learning to Use Notebooks"
   ]
  },
  {
   "cell_type": "markdown",
   "metadata": {
    "collapsed": true
   },
   "source": [
    "In this assigment, you will learn to use notebooks by praticing some basic functions that were used as examples in class. The goal of this notebook is to explore how data analysis is done within notebooks, how to set up and run notebooks and how to see the results. \n",
    "\n",
    "For this homework you should run the following three notebooks in this directory:\n",
    "\n",
    "1. Running Functions.ipynb\n",
    "2. Summarizing Data.ipynb\n",
    "3. Visualizing Data.ipynb\n",
    "\n",
    "At last, please run the \"Reading Files as an Input\" notbeook since you will need to know how to input files instead of strings in the following assignments."
   ]
  }
 ],
 "metadata": {
  "anaconda-cloud": {},
  "kernelspec": {
   "display_name": "Python 3",
   "language": "python",
   "name": "python3"
  },
  "language_info": {
   "codemirror_mode": {
    "name": "ipython",
    "version": 3
   },
   "file_extension": ".py",
   "mimetype": "text/x-python",
   "name": "python",
   "nbconvert_exporter": "python",
   "pygments_lexer": "ipython3",
   "version": "3.6.3"
  }
 },
 "nbformat": 4,
 "nbformat_minor": 2
}
