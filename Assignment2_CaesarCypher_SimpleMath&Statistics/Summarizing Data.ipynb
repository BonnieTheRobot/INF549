{
 "cells": [
  {
   "cell_type": "markdown",
   "metadata": {},
   "source": [
    "# A Notebook to Summarize Data"
   ]
  },
  {
   "cell_type": "markdown",
   "metadata": {},
   "source": [
    "This notebook shows an example of how to summarize and visualize data.  It generates a few statistical characteristics of the data (e.g., max, min, median, etc) and a visualization.\n",
    "\n",
    "For those of you interested in the code, it uses predefined functions from the [numpy](http://www.numpy.org) library to store data and Python's [matplotlib](https://matplotlib.org) library to generate a plot."
   ]
  },
  {
   "cell_type": "markdown",
   "metadata": {},
   "source": [
    "Run the cell below to load the definitions of two functions:"
   ]
  },
  {
   "cell_type": "code",
   "execution_count": 21,
   "metadata": {},
   "outputs": [],
   "source": [
    "from numpy import *\n",
    "def display_5_number_summary(numbers):\n",
    "    numbers=numbers.split(',')\n",
    "    try:\n",
    "        numbers=list(map(float,numbers))\n",
    "        Min=percentile(numbers,0)      \n",
    "        Q1=percentile(numbers,25)        \n",
    "        Median=percentile(numbers,50)\n",
    "        Q3=percentile(numbers,75)\n",
    "        Max=percentile(numbers,100)\n",
    "        return Min,Q1,Median,Q3,Max\n",
    "    except:\n",
    "        print('Please Input Numbers Only')\n",
    "\n",
    "def plot_5_summary(numbers):\n",
    "    numbers=numbers.split(',')\n",
    "    try:\n",
    "        numbers=list(map(float,numbers))\n",
    "        import matplotlib.pyplot as plt\n",
    "        plt.boxplot(numbers)\n",
    "        plt.show()\n",
    "        plt.close('all')\n",
    "    except:\n",
    "        print('Please Input Numbers Only')"
   ]
  },
  {
   "cell_type": "markdown",
   "metadata": {},
   "source": [
    "## Generating Statistics for a Dataset##"
   ]
  },
  {
   "cell_type": "markdown",
   "metadata": {},
   "source": [
    "Run the cell below. Input a list of numbers and seperate them with commas. After processing, the cell will output five summary statistics for your data."
   ]
  },
  {
   "cell_type": "code",
   "execution_count": 19,
   "metadata": {},
   "outputs": [
    {
     "name": "stdout",
     "output_type": "stream",
     "text": [
      "Please Enter the Numbers: 3,4,5,6\n",
      "Min: 3.0\n",
      "Q1: 3.75\n",
      "Median: 4.5\n",
      "Q3: 5.25\n",
      "Max: 6.0\n"
     ]
    }
   ],
   "source": [
    "numbers = input('Please Enter the Numbers: ')\n",
    "Min,Q1,Median,Q3,Max=display_5_number_summary(numbers)\n",
    "print('Min:',Min)\n",
    "print('Q1:', Q1)\n",
    "print('Median:',Median)\n",
    "print('Q3:',Q3)\n",
    "print('Max:',Max)"
   ]
  },
  {
   "cell_type": "markdown",
   "metadata": {},
   "source": [
    "## Generating a Plot##"
   ]
  },
  {
   "cell_type": "markdown",
   "metadata": {},
   "source": [
    "The numbers that you provided in the previous cell have been stored in the variable \"numbers\". That variable is taken as an argument of the function \"plot_5_summary\" and when this function runs its output is a boxplot of your numbers."
   ]
  },
  {
   "cell_type": "code",
   "execution_count": 22,
   "metadata": {},
   "outputs": [
    {
     "data": {
      "image/png": "[encoded data removed]",
      "text/plain": [
       "<matplotlib.figure.Figure at 0x1099bd0f0>"
      ]
     },
     "metadata": {},
     "output_type": "display_data"
    }
   ],
   "source": [
    "plot_5_summary(numbers)"
   ]
  },
  {
   "cell_type": "markdown",
   "metadata": {},
   "source": [
    "Now you can print this notebook and turn it in."
   ]
  }
 ],
 "metadata": {
  "anaconda-cloud": {},
  "kernelspec": {
   "display_name": "Python 3",
   "language": "python",
   "name": "python3"
  },
  "language_info": {
   "codemirror_mode": {
    "name": "ipython",
    "version": 3
   },
   "file_extension": ".py",
   "mimetype": "text/x-python",
   "name": "python",
   "nbconvert_exporter": "python",
   "pygments_lexer": "ipython3",
   "version": "3.6.3"
  }
 },
 "nbformat": 4,
 "nbformat_minor": 2
}
