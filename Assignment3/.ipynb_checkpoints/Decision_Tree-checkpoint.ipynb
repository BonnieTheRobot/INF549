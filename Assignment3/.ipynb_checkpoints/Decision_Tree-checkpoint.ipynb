{
 "cells": [
  {
   "cell_type": "markdown",
   "metadata": {},
   "source": [
    "# Decision Tree"
   ]
  },
  {
   "cell_type": "markdown",
   "metadata": {},
   "source": [
    "**Note: This following cell contains some predefined functions to implement a type of Decision Tree algorithm called CART (Classification and Regression Trees). Please make sure you have run this cell before you run other cells in this notebook.**"
   ]
  },
  {
   "cell_type": "code",
   "execution_count": 2,
   "metadata": {
    "collapsed": false
   },
   "outputs": [],
   "source": [
    "import numpy as np\n",
    "from sklearn import tree\n",
    "from sklearn.model_selection import cross_val_score\n",
    "import graphviz\n",
    "\n",
    "def loadDataSet(dataset):\n",
    "    with open(dataset) as f:\n",
    "        data=f.readlines()\n",
    "        attributes=data[0].rstrip().split(',')[:-1]\n",
    "        instances=[entry.rstrip().split(',')[:-1] for entry in data[1:]]\n",
    "        dataArray=[]\n",
    "        for i in range(len(instances[0])):\n",
    "            try:\n",
    "                dataArray.append([float(instance[i]) for instance in instances])\n",
    "            except:\n",
    "                encodedData,codeBook=encode([instance[i] for instance in instances])\n",
    "                dataArray.append(encodedData)\n",
    "                print attributes[i],': ',codeBook.items()\n",
    "        instances=np.array(dataArray).T\n",
    "        labels=[entry.rstrip().split(',')[-1] for entry in data[1:]]\n",
    "        return attributes,instances,labels\n",
    "\n",
    "def encode(data):\n",
    "    codeBook={}\n",
    "    uniqueVals=list(set(data))\n",
    "    for Val in uniqueVals:\n",
    "        codeBook[Val]=uniqueVals.index(Val)\n",
    "    encodedData=map(uniqueVals.index,data)\n",
    "    return encodedData,codeBook\n",
    "\n",
    "def set_index(data):\n",
    "    uniqueVals=list(set(data))\n",
    "    sortedList=sorted([data.index(Val) for Val in uniqueVals])\n",
    "    for i in sortedList:\n",
    "        uniqueVals.append(data[i])\n",
    "    return uniqueVals[len(uniqueVals)/2:]"
   ]
  },
  {
   "cell_type": "markdown",
   "metadata": {},
   "source": [
    "## Build a classifier ##\n",
    "* The variable \"dataset\" stores the name of text file that you input and is passed as an argument of the function \"loadDataSet()\".  \n",
    "* The variable \"n_foldCV\" stores the number of times of n-fold cross validation that you input.\n",
    "* The variable \"attributes\" stores the names of all features. The variable \"instances\" stores the values of all features in the training set. The variable \"labels\" stores the labels of all instances.  \n",
    "* The variable \"clf\" stores a decision tree model, and it can be fitted with \"instances\" and \"labels\". Once the model is fit, it can be used to predict unseen instances.  \n",
    "* \"clf\", \"instances\", \"labels\", \"n_foldCV\" are the arguments of the function \"cross_val_scores\".\n",
    "* The variable \"scores\" stores the accuracy of n-fold cross validation of the model."
   ]
  },
  {
   "cell_type": "code",
   "execution_count": 19,
   "metadata": {
    "collapsed": false
   },
   "outputs": [
    {
     "name": "stdout",
     "output_type": "stream",
     "text": [
      "Please Enter Your Data Set:lenses.txt\n",
      "Please Enter the Number of Folds:5\n",
      "age of the patient :  [('pre', 0), ('presbyopic', 1), ('young', 2)]\n",
      "spectacle prescription :  [('hyper', 0), ('myope', 1)]\n",
      "astigmatic :  [('yes', 0), ('no', 1)]\n",
      "tear production rate :  [('reduced', 0), ('normal', 1)]\n"
     ]
    }
   ],
   "source": [
    "dataset=raw_input('Please Enter Your Data Set:')\n",
    "n_foldCV=int(raw_input(\"Please Enter the Number of Folds:\"))\n",
    "attributes,instances,labels=loadDataSet(dataset)\n",
    "clf = tree.DecisionTreeClassifier()\n",
    "clf = clf.fit(instances,labels)\n",
    "scores = cross_val_score(clf, instances, labels, cv=n_foldCV)"
   ]
  },
  {
   "cell_type": "markdown",
   "metadata": {},
   "source": [
    "## Evaluate a classifier##"
   ]
  },
  {
   "cell_type": "markdown",
   "metadata": {},
   "source": [
    "The following cell will output the accuracy score in each run and the accuracy estimate of the model under 95% confidence interval"
   ]
  },
  {
   "cell_type": "code",
   "execution_count": 20,
   "metadata": {
    "collapsed": false
   },
   "outputs": [
    {
     "name": "stdout",
     "output_type": "stream",
     "text": [
      "[ 0.8   0.8   0.8   0.8   0.75]\n",
      "Accuracy: 0.79 (+/- 0.04)\n"
     ]
    }
   ],
   "source": [
    "print scores\n",
    "print(\"Accuracy: %0.2f (+/- %0.2f)\" % (scores.mean(), scores.std() * 2))"
   ]
  },
  {
   "cell_type": "markdown",
   "metadata": {},
   "source": [
    "## Visualize a tree##"
   ]
  },
  {
   "cell_type": "code",
   "execution_count": 21,
   "metadata": {
    "collapsed": false
   },
   "outputs": [
    {
     "data": {
      "image/svg+xml": [
       "<?xml version=\"1.0\" encoding=\"UTF-8\" standalone=\"no\"?>\n",
       "<!DOCTYPE svg PUBLIC \"-//W3C//DTD SVG 1.1//EN\"\n",
       " \"http://www.w3.org/Graphics/SVG/1.1/DTD/svg11.dtd\">\n",
       "<!-- Generated by graphviz version 2.36.0 (20140111.2315)\n",
       " -->\n",
       "<!-- Title: Tree Pages: 1 -->\n",
       "<svg width=\"753pt\" height=\"642pt\"\n",
       " viewBox=\"0.00 0.00 753.00 642.00\" xmlns=\"http://www.w3.org/2000/svg\" xmlns:xlink=\"http://www.w3.org/1999/xlink\">\n",
       "<g id=\"graph0\" class=\"graph\" transform=\"scale(1 1) rotate(0) translate(4 638)\">\n",
       "<title>Tree</title>\n",
       "<polygon fill=\"white\" stroke=\"none\" points=\"-4,4 -4,-638 749,-638 749,4 -4,4\"/>\n",
       "<!-- 0 -->\n",
       "<g id=\"node1\" class=\"node\"><title>0</title>\n",
       "<polygon fill=\"#39e581\" fill-opacity=\"0.525490\" stroke=\"black\" points=\"352.349,-634 195.651,-634 195.651,-556 352.349,-556 352.349,-634\"/>\n",
       "<text text-anchor=\"start\" x=\"203.101\" y=\"-618.8\" font-family=\"Times,serif\" font-size=\"14.00\">tear production rate ≤ 0.5</text>\n",
       "<text text-anchor=\"start\" x=\"236.413\" y=\"-604.8\" font-family=\"Times,serif\" font-size=\"14.00\">gini = 0.5382</text>\n",
       "<text text-anchor=\"start\" x=\"237\" y=\"-590.8\" font-family=\"Times,serif\" font-size=\"14.00\">samples = 24</text>\n",
       "<text text-anchor=\"start\" x=\"225.731\" y=\"-576.8\" font-family=\"Times,serif\" font-size=\"14.00\">value = [4, 15, 5]</text>\n",
       "<text text-anchor=\"start\" x=\"242.445\" y=\"-562.8\" font-family=\"Times,serif\" font-size=\"14.00\">class = soft</text>\n",
       "</g>\n",
       "<!-- 1 -->\n",
       "<g id=\"node2\" class=\"node\"><title>1</title>\n",
       "<polygon fill=\"#39e581\" stroke=\"black\" points=\"266.904,-513 155.096,-513 155.096,-449 266.904,-449 266.904,-513\"/>\n",
       "<text text-anchor=\"start\" x=\"183.913\" y=\"-497.8\" font-family=\"Times,serif\" font-size=\"14.00\">gini = 0.0</text>\n",
       "<text text-anchor=\"start\" x=\"174\" y=\"-483.8\" font-family=\"Times,serif\" font-size=\"14.00\">samples = 12</text>\n",
       "<text text-anchor=\"start\" x=\"162.731\" y=\"-469.8\" font-family=\"Times,serif\" font-size=\"14.00\">value = [0, 12, 0]</text>\n",
       "<text text-anchor=\"start\" x=\"179.445\" y=\"-455.8\" font-family=\"Times,serif\" font-size=\"14.00\">class = soft</text>\n",
       "</g>\n",
       "<!-- 0&#45;&gt;1 -->\n",
       "<g id=\"edge1\" class=\"edge\"><title>0&#45;&gt;1</title>\n",
       "<path fill=\"none\" stroke=\"black\" d=\"M252.495,-555.769C246.369,-544.877 239.679,-532.985 233.495,-521.992\"/>\n",
       "<polygon fill=\"black\" stroke=\"black\" points=\"236.396,-520.01 228.443,-513.01 230.295,-523.442 236.396,-520.01\"/>\n",
       "<text text-anchor=\"middle\" x=\"221.702\" y=\"-532.884\" font-family=\"Times,serif\" font-size=\"14.00\">True</text>\n",
       "</g>\n",
       "<!-- 2 -->\n",
       "<g id=\"node3\" class=\"node\"><title>2</title>\n",
       "<polygon fill=\"#8139e5\" fill-opacity=\"0.125490\" stroke=\"black\" points=\"390.293,-520 285.707,-520 285.707,-442 390.293,-442 390.293,-520\"/>\n",
       "<text text-anchor=\"start\" x=\"293.139\" y=\"-504.8\" font-family=\"Times,serif\" font-size=\"14.00\">astigmatic ≤ 0.5</text>\n",
       "<text text-anchor=\"start\" x=\"300.413\" y=\"-490.8\" font-family=\"Times,serif\" font-size=\"14.00\">gini = 0.6528</text>\n",
       "<text text-anchor=\"start\" x=\"301\" y=\"-476.8\" font-family=\"Times,serif\" font-size=\"14.00\">samples = 12</text>\n",
       "<text text-anchor=\"start\" x=\"293.231\" y=\"-462.8\" font-family=\"Times,serif\" font-size=\"14.00\">value = [4, 3, 5]</text>\n",
       "<text text-anchor=\"start\" x=\"304.507\" y=\"-448.8\" font-family=\"Times,serif\" font-size=\"14.00\">class = hard</text>\n",
       "</g>\n",
       "<!-- 0&#45;&gt;2 -->\n",
       "<g id=\"edge2\" class=\"edge\"><title>0&#45;&gt;2</title>\n",
       "<path fill=\"none\" stroke=\"black\" d=\"M295.846,-555.769C300.789,-547.119 306.093,-537.838 311.213,-528.877\"/>\n",
       "<polygon fill=\"black\" stroke=\"black\" points=\"314.33,-530.477 316.252,-520.058 308.252,-527.004 314.33,-530.477\"/>\n",
       "<text text-anchor=\"middle\" x=\"322.83\" y=\"-539.978\" font-family=\"Times,serif\" font-size=\"14.00\">False</text>\n",
       "</g>\n",
       "<!-- 3 -->\n",
       "<g id=\"node4\" class=\"node\"><title>3</title>\n",
       "<polygon fill=\"#e58139\" fill-opacity=\"0.498039\" stroke=\"black\" points=\"328.388,-406 159.612,-406 159.612,-328 328.388,-328 328.388,-406\"/>\n",
       "<text text-anchor=\"start\" x=\"167.075\" y=\"-390.8\" font-family=\"Times,serif\" font-size=\"14.00\">spectacle prescription ≤ 0.5</text>\n",
       "<text text-anchor=\"start\" x=\"206.413\" y=\"-376.8\" font-family=\"Times,serif\" font-size=\"14.00\">gini = 0.4444</text>\n",
       "<text text-anchor=\"start\" x=\"210.5\" y=\"-362.8\" font-family=\"Times,serif\" font-size=\"14.00\">samples = 6</text>\n",
       "<text text-anchor=\"start\" x=\"199.231\" y=\"-348.8\" font-family=\"Times,serif\" font-size=\"14.00\">value = [4, 2, 0]</text>\n",
       "<text text-anchor=\"start\" x=\"197.088\" y=\"-334.8\" font-family=\"Times,serif\" font-size=\"14.00\">class = no lenses</text>\n",
       "</g>\n",
       "<!-- 2&#45;&gt;3 -->\n",
       "<g id=\"edge3\" class=\"edge\"><title>2&#45;&gt;3</title>\n",
       "<path fill=\"none\" stroke=\"black\" d=\"M305.913,-441.769C298.351,-432.759 290.214,-423.064 282.405,-413.759\"/>\n",
       "<polygon fill=\"black\" stroke=\"black\" points=\"285.052,-411.468 275.942,-406.058 279.69,-415.968 285.052,-411.468\"/>\n",
       "</g>\n",
       "<!-- 8 -->\n",
       "<g id=\"node9\" class=\"node\"><title>8</title>\n",
       "<polygon fill=\"#8139e5\" fill-opacity=\"0.800000\" stroke=\"black\" points=\"516.388,-406 347.612,-406 347.612,-328 516.388,-328 516.388,-406\"/>\n",
       "<text text-anchor=\"start\" x=\"355.075\" y=\"-390.8\" font-family=\"Times,serif\" font-size=\"14.00\">spectacle prescription ≤ 0.5</text>\n",
       "<text text-anchor=\"start\" x=\"394.413\" y=\"-376.8\" font-family=\"Times,serif\" font-size=\"14.00\">gini = 0.2778</text>\n",
       "<text text-anchor=\"start\" x=\"398.5\" y=\"-362.8\" font-family=\"Times,serif\" font-size=\"14.00\">samples = 6</text>\n",
       "<text text-anchor=\"start\" x=\"387.231\" y=\"-348.8\" font-family=\"Times,serif\" font-size=\"14.00\">value = [0, 1, 5]</text>\n",
       "<text text-anchor=\"start\" x=\"398.507\" y=\"-334.8\" font-family=\"Times,serif\" font-size=\"14.00\">class = hard</text>\n",
       "</g>\n",
       "<!-- 2&#45;&gt;8 -->\n",
       "<g id=\"edge8\" class=\"edge\"><title>2&#45;&gt;8</title>\n",
       "<path fill=\"none\" stroke=\"black\" d=\"M370.087,-441.769C377.649,-432.759 385.786,-423.064 393.595,-413.759\"/>\n",
       "<polygon fill=\"black\" stroke=\"black\" points=\"396.31,-415.968 400.058,-406.058 390.948,-411.468 396.31,-415.968\"/>\n",
       "</g>\n",
       "<!-- 4 -->\n",
       "<g id=\"node5\" class=\"node\"><title>4</title>\n",
       "<polygon fill=\"#39e581\" fill-opacity=\"0.498039\" stroke=\"black\" points=\"187.23,-292 42.7697,-292 42.7697,-214 187.23,-214 187.23,-292\"/>\n",
       "<text text-anchor=\"start\" x=\"50.5132\" y=\"-276.8\" font-family=\"Times,serif\" font-size=\"14.00\">age of the patient ≤ 1.5</text>\n",
       "<text text-anchor=\"start\" x=\"77.4126\" y=\"-262.8\" font-family=\"Times,serif\" font-size=\"14.00\">gini = 0.4444</text>\n",
       "<text text-anchor=\"start\" x=\"81.5005\" y=\"-248.8\" font-family=\"Times,serif\" font-size=\"14.00\">samples = 3</text>\n",
       "<text text-anchor=\"start\" x=\"70.2314\" y=\"-234.8\" font-family=\"Times,serif\" font-size=\"14.00\">value = [1, 2, 0]</text>\n",
       "<text text-anchor=\"start\" x=\"83.4453\" y=\"-220.8\" font-family=\"Times,serif\" font-size=\"14.00\">class = soft</text>\n",
       "</g>\n",
       "<!-- 3&#45;&gt;4 -->\n",
       "<g id=\"edge4\" class=\"edge\"><title>3&#45;&gt;4</title>\n",
       "<path fill=\"none\" stroke=\"black\" d=\"M199.966,-327.769C189.173,-318.398 177.527,-308.287 166.421,-298.644\"/>\n",
       "<polygon fill=\"black\" stroke=\"black\" points=\"168.681,-295.972 158.835,-292.058 164.092,-301.257 168.681,-295.972\"/>\n",
       "</g>\n",
       "<!-- 7 -->\n",
       "<g id=\"node8\" class=\"node\"><title>7</title>\n",
       "<polygon fill=\"#e58139\" stroke=\"black\" points=\"314.368,-285 205.632,-285 205.632,-221 314.368,-221 314.368,-285\"/>\n",
       "<text text-anchor=\"start\" x=\"232.913\" y=\"-269.8\" font-family=\"Times,serif\" font-size=\"14.00\">gini = 0.0</text>\n",
       "<text text-anchor=\"start\" x=\"226.5\" y=\"-255.8\" font-family=\"Times,serif\" font-size=\"14.00\">samples = 3</text>\n",
       "<text text-anchor=\"start\" x=\"215.231\" y=\"-241.8\" font-family=\"Times,serif\" font-size=\"14.00\">value = [3, 0, 0]</text>\n",
       "<text text-anchor=\"start\" x=\"213.088\" y=\"-227.8\" font-family=\"Times,serif\" font-size=\"14.00\">class = no lenses</text>\n",
       "</g>\n",
       "<!-- 3&#45;&gt;7 -->\n",
       "<g id=\"edge7\" class=\"edge\"><title>3&#45;&gt;7</title>\n",
       "<path fill=\"none\" stroke=\"black\" d=\"M249.462,-327.769C250.971,-317.204 252.615,-305.698 254.145,-294.983\"/>\n",
       "<polygon fill=\"black\" stroke=\"black\" points=\"257.621,-295.405 255.57,-285.01 250.691,-294.415 257.621,-295.405\"/>\n",
       "</g>\n",
       "<!-- 5 -->\n",
       "<g id=\"node6\" class=\"node\"><title>5</title>\n",
       "<polygon fill=\"#39e581\" stroke=\"black\" points=\"104.156,-171 -0.155521,-171 -0.155521,-107 104.156,-107 104.156,-171\"/>\n",
       "<text text-anchor=\"start\" x=\"24.9126\" y=\"-155.8\" font-family=\"Times,serif\" font-size=\"14.00\">gini = 0.0</text>\n",
       "<text text-anchor=\"start\" x=\"18.5005\" y=\"-141.8\" font-family=\"Times,serif\" font-size=\"14.00\">samples = 2</text>\n",
       "<text text-anchor=\"start\" x=\"7.23145\" y=\"-127.8\" font-family=\"Times,serif\" font-size=\"14.00\">value = [0, 2, 0]</text>\n",
       "<text text-anchor=\"start\" x=\"20.4453\" y=\"-113.8\" font-family=\"Times,serif\" font-size=\"14.00\">class = soft</text>\n",
       "</g>\n",
       "<!-- 4&#45;&gt;5 -->\n",
       "<g id=\"edge5\" class=\"edge\"><title>4&#45;&gt;5</title>\n",
       "<path fill=\"none\" stroke=\"black\" d=\"M93.4952,-213.769C87.3686,-202.877 80.6792,-190.985 74.4953,-179.992\"/>\n",
       "<polygon fill=\"black\" stroke=\"black\" points=\"77.3963,-178.01 69.4431,-171.01 71.2953,-181.442 77.3963,-178.01\"/>\n",
       "</g>\n",
       "<!-- 6 -->\n",
       "<g id=\"node7\" class=\"node\"><title>6</title>\n",
       "<polygon fill=\"#e58139\" stroke=\"black\" points=\"232.368,-171 123.632,-171 123.632,-107 232.368,-107 232.368,-171\"/>\n",
       "<text text-anchor=\"start\" x=\"150.913\" y=\"-155.8\" font-family=\"Times,serif\" font-size=\"14.00\">gini = 0.0</text>\n",
       "<text text-anchor=\"start\" x=\"144.5\" y=\"-141.8\" font-family=\"Times,serif\" font-size=\"14.00\">samples = 1</text>\n",
       "<text text-anchor=\"start\" x=\"133.231\" y=\"-127.8\" font-family=\"Times,serif\" font-size=\"14.00\">value = [1, 0, 0]</text>\n",
       "<text text-anchor=\"start\" x=\"131.088\" y=\"-113.8\" font-family=\"Times,serif\" font-size=\"14.00\">class = no lenses</text>\n",
       "</g>\n",
       "<!-- 4&#45;&gt;6 -->\n",
       "<g id=\"edge6\" class=\"edge\"><title>4&#45;&gt;6</title>\n",
       "<path fill=\"none\" stroke=\"black\" d=\"M136.505,-213.769C142.631,-202.877 149.321,-190.985 155.505,-179.992\"/>\n",
       "<polygon fill=\"black\" stroke=\"black\" points=\"158.705,-181.442 160.557,-171.01 152.604,-178.01 158.705,-181.442\"/>\n",
       "</g>\n",
       "<!-- 9 -->\n",
       "<g id=\"node10\" class=\"node\"><title>9</title>\n",
       "<polygon fill=\"#8139e5\" stroke=\"black\" points=\"469.156,-285 364.844,-285 364.844,-221 469.156,-221 469.156,-285\"/>\n",
       "<text text-anchor=\"start\" x=\"389.913\" y=\"-269.8\" font-family=\"Times,serif\" font-size=\"14.00\">gini = 0.0</text>\n",
       "<text text-anchor=\"start\" x=\"383.5\" y=\"-255.8\" font-family=\"Times,serif\" font-size=\"14.00\">samples = 3</text>\n",
       "<text text-anchor=\"start\" x=\"372.231\" y=\"-241.8\" font-family=\"Times,serif\" font-size=\"14.00\">value = [0, 0, 3]</text>\n",
       "<text text-anchor=\"start\" x=\"383.507\" y=\"-227.8\" font-family=\"Times,serif\" font-size=\"14.00\">class = hard</text>\n",
       "</g>\n",
       "<!-- 8&#45;&gt;9 -->\n",
       "<g id=\"edge9\" class=\"edge\"><title>8&#45;&gt;9</title>\n",
       "<path fill=\"none\" stroke=\"black\" d=\"M426.88,-327.769C425.465,-317.204 423.924,-305.698 422.489,-294.983\"/>\n",
       "<polygon fill=\"black\" stroke=\"black\" points=\"425.95,-294.457 421.153,-285.01 419.012,-295.386 425.95,-294.457\"/>\n",
       "</g>\n",
       "<!-- 10 -->\n",
       "<g id=\"node11\" class=\"node\"><title>10</title>\n",
       "<polygon fill=\"#8139e5\" fill-opacity=\"0.498039\" stroke=\"black\" points=\"632.23,-292 487.77,-292 487.77,-214 632.23,-214 632.23,-292\"/>\n",
       "<text text-anchor=\"start\" x=\"495.513\" y=\"-276.8\" font-family=\"Times,serif\" font-size=\"14.00\">age of the patient ≤ 0.5</text>\n",
       "<text text-anchor=\"start\" x=\"522.413\" y=\"-262.8\" font-family=\"Times,serif\" font-size=\"14.00\">gini = 0.4444</text>\n",
       "<text text-anchor=\"start\" x=\"526.5\" y=\"-248.8\" font-family=\"Times,serif\" font-size=\"14.00\">samples = 3</text>\n",
       "<text text-anchor=\"start\" x=\"515.231\" y=\"-234.8\" font-family=\"Times,serif\" font-size=\"14.00\">value = [0, 1, 2]</text>\n",
       "<text text-anchor=\"start\" x=\"526.507\" y=\"-220.8\" font-family=\"Times,serif\" font-size=\"14.00\">class = hard</text>\n",
       "</g>\n",
       "<!-- 8&#45;&gt;10 -->\n",
       "<g id=\"edge10\" class=\"edge\"><title>8&#45;&gt;10</title>\n",
       "<path fill=\"none\" stroke=\"black\" d=\"M475.692,-327.769C486.402,-318.398 497.958,-308.287 508.978,-298.644\"/>\n",
       "<polygon fill=\"black\" stroke=\"black\" points=\"511.284,-301.278 516.505,-292.058 506.674,-296.01 511.284,-301.278\"/>\n",
       "</g>\n",
       "<!-- 11 -->\n",
       "<g id=\"node12\" class=\"node\"><title>11</title>\n",
       "<polygon fill=\"#8139e5\" stroke=\"black\" points=\"540.156,-171 435.844,-171 435.844,-107 540.156,-107 540.156,-171\"/>\n",
       "<text text-anchor=\"start\" x=\"460.913\" y=\"-155.8\" font-family=\"Times,serif\" font-size=\"14.00\">gini = 0.0</text>\n",
       "<text text-anchor=\"start\" x=\"454.5\" y=\"-141.8\" font-family=\"Times,serif\" font-size=\"14.00\">samples = 1</text>\n",
       "<text text-anchor=\"start\" x=\"443.231\" y=\"-127.8\" font-family=\"Times,serif\" font-size=\"14.00\">value = [0, 0, 1]</text>\n",
       "<text text-anchor=\"start\" x=\"454.507\" y=\"-113.8\" font-family=\"Times,serif\" font-size=\"14.00\">class = hard</text>\n",
       "</g>\n",
       "<!-- 10&#45;&gt;11 -->\n",
       "<g id=\"edge11\" class=\"edge\"><title>10&#45;&gt;11</title>\n",
       "<path fill=\"none\" stroke=\"black\" d=\"M535.423,-213.769C528.351,-202.769 520.623,-190.747 513.497,-179.662\"/>\n",
       "<polygon fill=\"black\" stroke=\"black\" points=\"516.287,-177.529 507.935,-171.01 510.399,-181.315 516.287,-177.529\"/>\n",
       "</g>\n",
       "<!-- 12 -->\n",
       "<g id=\"node13\" class=\"node\"><title>12</title>\n",
       "<polygon fill=\"none\" stroke=\"black\" points=\"703.23,-178 558.77,-178 558.77,-100 703.23,-100 703.23,-178\"/>\n",
       "<text text-anchor=\"start\" x=\"566.513\" y=\"-162.8\" font-family=\"Times,serif\" font-size=\"14.00\">age of the patient ≤ 1.5</text>\n",
       "<text text-anchor=\"start\" x=\"603.913\" y=\"-148.8\" font-family=\"Times,serif\" font-size=\"14.00\">gini = 0.5</text>\n",
       "<text text-anchor=\"start\" x=\"597.5\" y=\"-134.8\" font-family=\"Times,serif\" font-size=\"14.00\">samples = 2</text>\n",
       "<text text-anchor=\"start\" x=\"586.231\" y=\"-120.8\" font-family=\"Times,serif\" font-size=\"14.00\">value = [0, 1, 1]</text>\n",
       "<text text-anchor=\"start\" x=\"599.445\" y=\"-106.8\" font-family=\"Times,serif\" font-size=\"14.00\">class = soft</text>\n",
       "</g>\n",
       "<!-- 10&#45;&gt;12 -->\n",
       "<g id=\"edge12\" class=\"edge\"><title>10&#45;&gt;12</title>\n",
       "<path fill=\"none\" stroke=\"black\" d=\"M584.236,-213.769C589.776,-205.029 595.725,-195.645 601.461,-186.597\"/>\n",
       "<polygon fill=\"black\" stroke=\"black\" points=\"604.476,-188.378 606.874,-178.058 598.563,-184.63 604.476,-188.378\"/>\n",
       "</g>\n",
       "<!-- 13 -->\n",
       "<g id=\"node14\" class=\"node\"><title>13</title>\n",
       "<polygon fill=\"#39e581\" stroke=\"black\" points=\"621.156,-64 516.844,-64 516.844,-0 621.156,-0 621.156,-64\"/>\n",
       "<text text-anchor=\"start\" x=\"541.913\" y=\"-48.8\" font-family=\"Times,serif\" font-size=\"14.00\">gini = 0.0</text>\n",
       "<text text-anchor=\"start\" x=\"535.5\" y=\"-34.8\" font-family=\"Times,serif\" font-size=\"14.00\">samples = 1</text>\n",
       "<text text-anchor=\"start\" x=\"524.231\" y=\"-20.8\" font-family=\"Times,serif\" font-size=\"14.00\">value = [0, 1, 0]</text>\n",
       "<text text-anchor=\"start\" x=\"537.445\" y=\"-6.8\" font-family=\"Times,serif\" font-size=\"14.00\">class = soft</text>\n",
       "</g>\n",
       "<!-- 12&#45;&gt;13 -->\n",
       "<g id=\"edge13\" class=\"edge\"><title>12&#45;&gt;13</title>\n",
       "<path fill=\"none\" stroke=\"black\" d=\"M608.441,-99.7956C603.248,-91 597.712,-81.625 592.48,-72.765\"/>\n",
       "<polygon fill=\"black\" stroke=\"black\" points=\"595.472,-70.9485 587.374,-64.1172 589.445,-74.5077 595.472,-70.9485\"/>\n",
       "</g>\n",
       "<!-- 14 -->\n",
       "<g id=\"node15\" class=\"node\"><title>14</title>\n",
       "<polygon fill=\"#8139e5\" stroke=\"black\" points=\"745.156,-64 640.844,-64 640.844,-0 745.156,-0 745.156,-64\"/>\n",
       "<text text-anchor=\"start\" x=\"665.913\" y=\"-48.8\" font-family=\"Times,serif\" font-size=\"14.00\">gini = 0.0</text>\n",
       "<text text-anchor=\"start\" x=\"659.5\" y=\"-34.8\" font-family=\"Times,serif\" font-size=\"14.00\">samples = 1</text>\n",
       "<text text-anchor=\"start\" x=\"648.231\" y=\"-20.8\" font-family=\"Times,serif\" font-size=\"14.00\">value = [0, 0, 1]</text>\n",
       "<text text-anchor=\"start\" x=\"659.507\" y=\"-6.8\" font-family=\"Times,serif\" font-size=\"14.00\">class = hard</text>\n",
       "</g>\n",
       "<!-- 12&#45;&gt;14 -->\n",
       "<g id=\"edge14\" class=\"edge\"><title>12&#45;&gt;14</title>\n",
       "<path fill=\"none\" stroke=\"black\" d=\"M653.559,-99.7956C658.752,-91 664.288,-81.625 669.52,-72.765\"/>\n",
       "<polygon fill=\"black\" stroke=\"black\" points=\"672.555,-74.5077 674.626,-64.1172 666.528,-70.9485 672.555,-74.5077\"/>\n",
       "</g>\n",
       "</g>\n",
       "</svg>\n"
      ],
      "text/plain": [
       "<graphviz.files.Source at 0x115f89b90>"
      ]
     },
     "execution_count": 21,
     "metadata": {},
     "output_type": "execute_result"
    }
   ],
   "source": [
    "classnames=set_index(labels)\n",
    "dot_data = tree.export_graphviz(clf, out_file=None, feature_names=attributes,\\\n",
    "                                class_names=classnames,filled=True,special_characters=True) \n",
    "graph = graphviz.Source(dot_data) \n",
    "graph"
   ]
  },
  {
   "cell_type": "markdown",
   "metadata": {},
   "source": [
    "## Prediction##\n",
    "When you are prompted to input test set, please input one entry each time and separate each value with a comma. Also, please make sure the input are numbers instead of strings. When your input is strings, please encode them manually according to the codebook printed above."
   ]
  },
  {
   "cell_type": "code",
   "execution_count": 22,
   "metadata": {
    "collapsed": false
   },
   "outputs": [
    {
     "name": "stdout",
     "output_type": "stream",
     "text": [
      "Please Enter Your Test Set:0,0,1,0\n",
      "['no lenses']\n"
     ]
    }
   ],
   "source": [
    "testset=raw_input('Please Enter Your Test Set:')\n",
    "testset=np.array(testset.split(',')).reshape(1, -1)\n",
    "predictions=clf.predict(testset)\n",
    "print predictions"
   ]
  },
  {
   "cell_type": "code",
   "execution_count": null,
   "metadata": {
    "collapsed": true
   },
   "outputs": [],
   "source": []
  }
 ],
 "metadata": {
  "anaconda-cloud": {},
  "kernelspec": {
   "display_name": "Python [default]",
   "language": "python",
   "name": "python2"
  },
  "language_info": {
   "codemirror_mode": {
    "name": "ipython",
    "version": 2
   },
   "file_extension": ".py",
   "mimetype": "text/x-python",
   "name": "python",
   "nbconvert_exporter": "python",
   "pygments_lexer": "ipython2",
   "version": "2.7.13"
  }
 },
 "nbformat": 4,
 "nbformat_minor": 2
}
