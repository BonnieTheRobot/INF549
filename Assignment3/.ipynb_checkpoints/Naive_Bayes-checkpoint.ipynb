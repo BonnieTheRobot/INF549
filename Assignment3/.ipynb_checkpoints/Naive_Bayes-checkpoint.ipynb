{
 "cells": [
  {
   "cell_type": "markdown",
   "metadata": {},
   "source": [
    "# Naive Bayes"
   ]
  },
  {
   "cell_type": "markdown",
   "metadata": {},
   "source": [
    "**Note: This following cell contains some predefined functions to implement a type of Decision Tree algorithm called CART (Classification and Regression Trees). Please make sure you have run this cell before you run other cells in this notebook.**"
   ]
  },
  {
   "cell_type": "code",
   "execution_count": 33,
   "metadata": {
    "collapsed": false
   },
   "outputs": [],
   "source": [
    "from sklearn.naive_bayes import BernoulliNB\n",
    "from sklearn.model_selection import cross_val_score\n",
    "from sklearn.naive_bayes import GaussianNB\n",
    "from sklearn.naive_bayes import MultinomialNB\n",
    "\n",
    "def loadDataSet(dataset):\n",
    "    with open(dataset) as f:\n",
    "        returnVec=[]\n",
    "        data=f.readlines()\n",
    "        text=[entry.split('\\t')[1].rstrip() for entry in data]\n",
    "        #print instances\n",
    "        parsedText=map(textParse,text)\n",
    "        #print parsedText\n",
    "        vocabList=createVocabList(parsedText)\n",
    "        for parsedSMS in parsedText:\n",
    "            returnVec.append(setOfWords2Vec(vocabList,parsedSMS))\n",
    "        labels=[entry.split('\\t')[0] for entry in data]\n",
    "        return returnVec,labels,vocabList\n",
    "         \n",
    "def createVocabList(dataSet):\n",
    "    vocabSet=set([])\n",
    "    for document in dataSet:\n",
    "        vocabSet=vocabSet|set(document)\n",
    "    return list(vocabSet)\n",
    "        \n",
    "def textParse(bigString):\n",
    "    import re\n",
    "    #listOfTokens=re.split(r'\\W*',bigString)\n",
    "    listOfTokens=re.split(r'[^A-Za-z]*',bigString)\n",
    "    return [tok.lower() for tok in listOfTokens if len(tok)>2]\n",
    "\n",
    "def setOfWords2Vec(vocabList,inputSet):\n",
    "    returnVec=[0]*len(vocabList)\n",
    "    for word in inputSet:\n",
    "        if word in vocabList:\n",
    "            returnVec[vocabList.index(word)]=1\n",
    "        else: print 'the word: %s is not in my Vocabulary' % word\n",
    "    return returnVec"
   ]
  },
  {
   "cell_type": "markdown",
   "metadata": {},
   "source": [
    "## Build a classifier##\n",
    "* The variable \"dataset\" stores the name of text file that you input and is passed as an argument of the function \"loadDataSet()\".  \n",
    "* After processing, the loadDataSet function will output, or in other words, return three variables, \"returnVec\", \"labels\", \"vocabList\".  \n",
    "* \"returnVec\" stores the vectorized feature values. \"labels\" stores the labels of all instances. \"vocabList\" stores all the distinct words that appear in the dataset.  \n",
    "* The variable \"n_foldCV\" stores the number of times of n-fold cross validation that you input.\n",
    "* The variable \"clf\" stores a Naive Bayes model, and it can be fitted with \"returnVec\" and \"labels\". Once the model is fit, it can be used to predict unseen instances.  \n",
    "* The variable \"scores\" stores the accuracy of n-fold cross validation of the model.  \n",
    "* \"Vectorized\" here means the algorithm creates a vocabulary list for all distinct words appears in the traning set and preprocesses each instance into a vector which records the appearance of each word in the vocabulary list. For instance, if the training set contained two instance, \"I am happy\" and \"I like you\", then the vocabulary list would be [\"I\",\"am\",\"happy\",\"like\",\"you\"] and the two vectorized instances would be [1,1,1,0,0] and [1,0,0,1,1]. 0 means unshown and 1 means shown."
   ]
  },
  {
   "cell_type": "code",
   "execution_count": 42,
   "metadata": {
    "collapsed": false
   },
   "outputs": [
    {
     "name": "stdout",
     "output_type": "stream",
     "text": [
      "Please Enter Your Data Set:SMSSpamCollection\n",
      "Please Enter the Number of Folds:5\n"
     ]
    }
   ],
   "source": [
    "dataset=raw_input('Please Enter Your Data Set:')\n",
    "n_foldCV=int(raw_input(\"Please Enter the Number of Folds:\"))\n",
    "returnVec,labels,vocabList=loadDataSet(dataset)"
   ]
  },
  {
   "cell_type": "markdown",
   "metadata": {},
   "source": [
    "Bernoulli Naive Bayes"
   ]
  },
  {
   "cell_type": "code",
   "execution_count": 49,
   "metadata": {
    "collapsed": false
   },
   "outputs": [],
   "source": [
    "clf = BernoulliNB()\n",
    "clf.fit(returnVec, labels)\n",
    "scores = cross_val_score(clf, returnVec, labels, cv=n_foldCV)"
   ]
  },
  {
   "cell_type": "markdown",
   "metadata": {},
   "source": [
    "Gaussian Naive Bayes"
   ]
  },
  {
   "cell_type": "code",
   "execution_count": 36,
   "metadata": {
    "collapsed": false
   },
   "outputs": [],
   "source": [
    "clf = GaussianNB()\n",
    "clf.fit(returnVec, labels)\n",
    "scores = cross_val_score(clf, returnVec, labels, cv=n_foldCV)"
   ]
  },
  {
   "cell_type": "markdown",
   "metadata": {},
   "source": [
    "Multinomial Naive Bayes"
   ]
  },
  {
   "cell_type": "code",
   "execution_count": 38,
   "metadata": {
    "collapsed": true
   },
   "outputs": [],
   "source": [
    "clf = MultinomialNB()\n",
    "clf.fit(returnVec, labels)\n",
    "scores = cross_val_score(clf, returnVec, labels, cv=n_foldCV)"
   ]
  },
  {
   "cell_type": "markdown",
   "metadata": {},
   "source": [
    "## Evaluate a classifier##\n",
    "The following cells will output the accuracy score in each run and the accuracy estimate of the model under 95% confidence interval."
   ]
  },
  {
   "cell_type": "markdown",
   "metadata": {},
   "source": [
    "Bernoulli Naive Bayes"
   ]
  },
  {
   "cell_type": "code",
   "execution_count": 50,
   "metadata": {
    "collapsed": false
   },
   "outputs": [
    {
     "name": "stdout",
     "output_type": "stream",
     "text": [
      "[ 0.98207885  0.97037702  0.97217235  0.97486535  0.97935368]\n",
      "Accuracy: 0.98 (+/- 0.01)\n"
     ]
    }
   ],
   "source": [
    "print scores\n",
    "print(\"Accuracy: %0.2f (+/- %0.2f)\" % (scores.mean(), scores.std() * 2))"
   ]
  },
  {
   "cell_type": "markdown",
   "metadata": {},
   "source": [
    "Gaussian Naive Bayes"
   ]
  },
  {
   "cell_type": "code",
   "execution_count": 37,
   "metadata": {
    "collapsed": false
   },
   "outputs": [
    {
     "name": "stdout",
     "output_type": "stream",
     "text": [
      "[ 0.88799283  0.87455197  0.88240575  0.88509874  0.89856373]\n",
      "Accuracy: 0.89 (+/- 0.02)\n"
     ]
    }
   ],
   "source": [
    "print scores\n",
    "print(\"Accuracy: %0.2f (+/- %0.2f)\" % (scores.mean(), scores.std() * 2))"
   ]
  },
  {
   "cell_type": "markdown",
   "metadata": {},
   "source": [
    "Multinomial Naive Bayes"
   ]
  },
  {
   "cell_type": "code",
   "execution_count": 39,
   "metadata": {
    "collapsed": false
   },
   "outputs": [
    {
     "name": "stdout",
     "output_type": "stream",
     "text": [
      "[ 0.97580645  0.97401434  0.96140036  0.97307002  0.96947935]\n",
      "Accuracy: 0.97 (+/- 0.01)\n"
     ]
    }
   ],
   "source": [
    "print scores\n",
    "print(\"Accuracy: %0.2f (+/- %0.2f)\" % (scores.mean(), scores.std() * 2))"
   ]
  },
  {
   "cell_type": "markdown",
   "metadata": {
    "collapsed": true
   },
   "source": [
    "## Prediction##"
   ]
  },
  {
   "cell_type": "code",
   "execution_count": 51,
   "metadata": {
    "collapsed": false
   },
   "outputs": [
    {
     "name": "stdout",
     "output_type": "stream",
     "text": [
      "Please Enter Your SMS:PRIVATE! Your 2004 Account Statement for 07742676969 shows 786 unredeemed Bonus Points. To claim call 08719180248 Identifier Code: 45239 Expires\n",
      "['private', 'your', 'account', 'statement', 'for', 'shows', 'unredeemed', 'bonus', 'points', 'claim', 'call', 'identifier', 'code', 'expires']\n"
     ]
    }
   ],
   "source": [
    "testset=raw_input('Please Enter Your SMS:')\n",
    "testset=textParse(testset)\n",
    "print testset\n",
    "testset=setOfWords2Vec(vocabList,testset)"
   ]
  },
  {
   "cell_type": "code",
   "execution_count": 54,
   "metadata": {
    "collapsed": false
   },
   "outputs": [
    {
     "name": "stdout",
     "output_type": "stream",
     "text": [
      "['spam']\n"
     ]
    },
    {
     "name": "stderr",
     "output_type": "stream",
     "text": [
      "/Users/YiboMa/anaconda/lib/python2.7/site-packages/sklearn/utils/validation.py:395: DeprecationWarning: Passing 1d arrays as data is deprecated in 0.17 and will raise ValueError in 0.19. Reshape your data either using X.reshape(-1, 1) if your data has a single feature or X.reshape(1, -1) if it contains a single sample.\n",
      "  DeprecationWarning)\n"
     ]
    }
   ],
   "source": [
    "predictions=clf.predict(testset)\n",
    "print predictions"
   ]
  },
  {
   "cell_type": "code",
   "execution_count": null,
   "metadata": {
    "collapsed": true
   },
   "outputs": [],
   "source": []
  }
 ],
 "metadata": {
  "anaconda-cloud": {},
  "kernelspec": {
   "display_name": "Python [default]",
   "language": "python",
   "name": "python2"
  },
  "language_info": {
   "codemirror_mode": {
    "name": "ipython",
    "version": 2
   },
   "file_extension": ".py",
   "mimetype": "text/x-python",
   "name": "python",
   "nbconvert_exporter": "python",
   "pygments_lexer": "ipython2",
   "version": "2.7.13"
  }
 },
 "nbformat": 4,
 "nbformat_minor": 2
}
