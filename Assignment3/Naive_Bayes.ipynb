{
 "cells": [
  {
   "cell_type": "markdown",
   "metadata": {},
   "source": [
    "# Naive Bayes"
   ]
  },
  {
   "cell_type": "markdown",
   "metadata": {},
   "source": [
    "**Note: This following cell contains some predefined functions to implement a type of Decision Tree algorithm called CART (Classification and Regression Trees). Please make sure you have run this cell before you run other cells in this notebook.**"
   ]
  },
  {
   "cell_type": "code",
   "execution_count": 14,
   "metadata": {
    "collapsed": false
   },
   "outputs": [],
   "source": [
    "import numpy as np\n",
    "from sklearn.naive_bayes import BernoulliNB\n",
    "from sklearn.model_selection import cross_val_score\n",
    "from sklearn.naive_bayes import GaussianNB\n",
    "from sklearn.naive_bayes import MultinomialNB\n",
    "\n",
    "def loadDataSet(dataset):\n",
    "    \n",
    "    with open(dataset) as f:\n",
    "        data=f.readlines()\n",
    "        #attributes=data[0].rstrip().split(',')[:-1]\n",
    "        instances=[entry.rstrip().split(',')[:-1] for entry in data[1:]]\n",
    "        dataArray=[]\n",
    "        for i in range(len(instances[0])):\n",
    "            try:\n",
    "                dataArray.append([float(instance[i]) for instance in instances])\n",
    "            except:\n",
    "                encodedData,codeBook=encode([instance[i] for instance in instances])\n",
    "                dataArray.append(encodedData)\n",
    "                print attributes[i],': ',codeBook.items()\n",
    "        instances=np.array(dataArray).T\n",
    "        labels=[entry.rstrip().split(',')[-1] for entry in data[1:]]\n",
    "        return instances,labels\n",
    "\n",
    "def encode(data):\n",
    "    codeBook={}\n",
    "    uniqueVals=list(set(data))\n",
    "    for Val in uniqueVals:\n",
    "        codeBook[Val]=uniqueVals.index(Val)\n",
    "    encodedData=map(uniqueVals.index,data)\n",
    "    return encodedData,codeBook\n",
    "\n",
    "def chooseClassifier(choice,instances,labels):\n",
    "    clf=[]\n",
    "    choice=choice.split(',')\n",
    "    if \"1\" in choice:\n",
    "        clf_B = BernoulliNB()\n",
    "        clf_B.fit(instances, labels)\n",
    "        print 'Bernoulli Naive Bayes is used.'\n",
    "        clf.append(clf_B)\n",
    "    if \"2\" in choice:\n",
    "        clf_G = GaussianNB()\n",
    "        clf_G.fit(instances, labels)\n",
    "        print \"Gaussian Naive Bayes is used.\"\n",
    "        clf.append(clf_G)\n",
    "    if \"3\" in choice:\n",
    "        clf_M = MultinomialNB()\n",
    "        clf_M.fit(instances, labels)\n",
    "        print \"Multinomial Naive Bayes is used.\"\n",
    "        clf.append(clf_M)\n",
    "    else:\n",
    "        print \"Please choose a correct classifier.\"\n",
    "    return clf\n",
    "    \n",
    "def evaluateClf(clf,instances,labels,n_foldCV):\n",
    "    for item in clf:\n",
    "        if type(item).__name__==\"BernoulliNB\":\n",
    "            scores = cross_val_score(item, instances, labels, cv=n_foldCV)\n",
    "            print \"======BernoulliNB======\"\n",
    "            print scores\n",
    "            print(\"Accuracy: %0.2f (+/- %0.2f)\" % (scores.mean(), scores.std() * 2))\n",
    "        elif type(item).__name__==\"GaussianNB\":\n",
    "            scores = cross_val_score(item, instances, labels, cv=n_foldCV)\n",
    "            print \"======GaussianNB======\"\n",
    "            print scores\n",
    "            print(\"Accuracy: %0.2f (+/- %0.2f)\" % (scores.mean(), scores.std() * 2))\n",
    "        elif type(item).__name__==\"MultinomialNB\":\n",
    "            scores = cross_val_score(item, instances, labels, cv=n_foldCV)\n",
    "            print \"======MultinomialNB======\"\n",
    "            print scores\n",
    "            print(\"Accuracy: %0.2f (+/- %0.2f)\" % (scores.mean(), scores.std() * 2))\n",
    "            \n",
    "def predict(clf,testset):\n",
    "    for item in clf:\n",
    "        if type(item).__name__==\"BernoulliNB\":\n",
    "            prediction=item.predict(testset)\n",
    "            print \"BernoulliNB: \",prediction\n",
    "        elif type(item).__name__==\"GaussianNB\":\n",
    "            prediction=item.predict(testset)\n",
    "            print \"GaussianNB: \",prediction \n",
    "        elif type(item).__name__==\"MultinomialNB\":\n",
    "            prediction=item.predict(testset)\n",
    "            print \"MultinomialNB:\",prediction \n"
   ]
  },
  {
   "cell_type": "markdown",
   "metadata": {},
   "source": [
    "## Build a classifier##\n",
    "There are three Naive Bayes classifiers provided. If you want to use Bernoulli Naive Bayes, input **1**. For Gaussian Naive Bayes, input **2**. For Multinomial Naive Bayes, input **3**. You can choose multiple classifiers at the same time. Input the numbers and separate them with comma.  "
   ]
  },
  {
   "cell_type": "markdown",
   "metadata": {},
   "source": [
    "(Optional) For those of you interested in how data flows between different functions, here is a description:\n",
    "* The variable \"dataset\" stores the name of text file that you input and is passed as an argument of the function \"loadDataSet()\".  \n",
    "* After processing, the loadDataSet function will output, or in other words, return two variables, \"instances\", and \"labels\".  \n",
    "* \"instances\" stores the feature value of each instance. \"labels\" stores the labels of all instances.   \n",
    "* The variable \"n_foldCV\" stores the number of times of n-fold cross validation that you input.\n",
    "* The variable \"choice\" stores your choice of classifiers. \"instances\", \"labels\" and \"choice\" are the arguments of function chooseClassifier and the function return a variable \"clf\".\n",
    "* The variable \"clf\" stores up to three Naive Bayes models, and it can be fitted with \"instances\" and \"labels\". Once the model are fitted, they can be used to predict unseen instances.  "
   ]
  },
  {
   "cell_type": "code",
   "execution_count": 15,
   "metadata": {
    "collapsed": false
   },
   "outputs": [
    {
     "name": "stdout",
     "output_type": "stream",
     "text": [
      "Please Enter Your Data Set:lenses.txt\n",
      "Please Enter the Number of Folds:5\n",
      "Please Choose Classifiers:1,2,3\n",
      "raining :  [('pre', 0), ('presbyopic', 1), ('young', 2)]\n",
      "todays :  [('hyper', 0), ('myope', 1)]\n",
      "msgs :  [('yes', 0), ('no', 1)]\n",
      "reaction :  [('reduced', 0), ('normal', 1)]\n",
      "Bernoulli Naive Bayes is used.\n",
      "Gaussian Naive Bayes is used.\n",
      "Multinomial Naive Bayes is used.\n"
     ]
    }
   ],
   "source": [
    "dataset=raw_input(\"Please Enter Your Data Set:\")\n",
    "n_foldCV=int(raw_input(\"Please Enter the Number of Folds:\"))\n",
    "choice=raw_input(\"Please Choose Classifiers:\")\n",
    "instances,labels=loadDataSet(dataset)\n",
    "clf=chooseClassifier(choice,instances,labels)"
   ]
  },
  {
   "cell_type": "markdown",
   "metadata": {},
   "source": [
    "## Evaluate a classifier##\n",
    "The following cell will output the accuracy score in each run and the accuracy estimate of the model under 95% confidence interval.  \n",
    "**__BernoulliNB only accepts binary-valued variables. Should I mention this in README?__**"
   ]
  },
  {
   "cell_type": "code",
   "execution_count": 16,
   "metadata": {
    "collapsed": false
   },
   "outputs": [
    {
     "name": "stdout",
     "output_type": "stream",
     "text": [
      "======BernoulliNB======\n",
      "[ 1.    0.6   0.8   0.8   0.75]\n",
      "Accuracy: 0.79 (+/- 0.26)\n",
      "======GaussianNB======\n",
      "[ 1.    0.8   0.8   0.8   0.75]\n",
      "Accuracy: 0.83 (+/- 0.17)\n",
      "======MultinomialNB======\n",
      "[ 0.6   0.6   0.4   0.6   0.75]\n",
      "Accuracy: 0.59 (+/- 0.22)\n"
     ]
    },
    {
     "name": "stderr",
     "output_type": "stream",
     "text": [
      "/Users/YiboMa/anaconda/lib/python2.7/site-packages/sklearn/model_selection/_split.py:581: Warning: The least populated class in y has only 4 members, which is too few. The minimum number of groups for any class cannot be less than n_splits=5.\n",
      "  % (min_groups, self.n_splits)), Warning)\n"
     ]
    }
   ],
   "source": [
    "evaluateClf(clf,instances,labels,n_foldCV)"
   ]
  },
  {
   "cell_type": "markdown",
   "metadata": {
    "collapsed": true
   },
   "source": [
    "## Predict unseen instances##\n",
    "When you are prompted to input test set, please input one entry each time and separate each value with a comma. Also, please make sure the input are numbers instead of strings. When your input is strings, please encode them manually according to the codebook printed above.  "
   ]
  },
  {
   "cell_type": "code",
   "execution_count": 17,
   "metadata": {
    "collapsed": false
   },
   "outputs": [
    {
     "name": "stdout",
     "output_type": "stream",
     "text": [
      "Please Enter Your Unseen Instance:2,1,0,1\n"
     ]
    }
   ],
   "source": [
    "testset=raw_input('Please Enter Your Unseen Instance:')\n",
    "testset=map(float,testset.split(','))\n",
    "testset=np.array(testset).reshape(1, -1)"
   ]
  },
  {
   "cell_type": "code",
   "execution_count": 18,
   "metadata": {
    "collapsed": false
   },
   "outputs": [
    {
     "name": "stdout",
     "output_type": "stream",
     "text": [
      "BernoulliNB:  ['hard']\n",
      "GaussianNB:  ['hard']\n",
      "MultinomialNB: ['no lenses']\n"
     ]
    }
   ],
   "source": [
    "predict(clf,testset)"
   ]
  },
  {
   "cell_type": "code",
   "execution_count": null,
   "metadata": {
    "collapsed": true
   },
   "outputs": [],
   "source": []
  }
 ],
 "metadata": {
  "anaconda-cloud": {},
  "kernelspec": {
   "display_name": "Python [default]",
   "language": "python",
   "name": "python2"
  },
  "language_info": {
   "codemirror_mode": {
    "name": "ipython",
    "version": 2
   },
   "file_extension": ".py",
   "mimetype": "text/x-python",
   "name": "python",
   "nbconvert_exporter": "python",
   "pygments_lexer": "ipython2",
   "version": "2.7.13"
  }
 },
 "nbformat": 4,
 "nbformat_minor": 2
}
