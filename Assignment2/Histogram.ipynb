{
 "cells": [
  {
   "cell_type": "markdown",
   "metadata": {},
   "source": [
    "# Histogram"
   ]
  },
  {
   "cell_type": "markdown",
   "metadata": {},
   "source": [
    "**Note: This following cell contains a predefined function to implement Histogram. Please make sure you have run this cell before you run other cells in this notebook.**"
   ]
  },
  {
   "cell_type": "code",
   "execution_count": 6,
   "metadata": {
    "collapsed": true
   },
   "outputs": [],
   "source": [
    "def histogram(numbers,bins):\n",
    "    numbers=numbers.split(',')\n",
    "    try:\n",
    "        numbers=map(float,numbers)\n",
    "        import matplotlib.pyplot as plt\n",
    "        plt.hist(numbers,bins)\n",
    "        plt.title(\"Histogram\")\n",
    "        plt.xlabel(\"Value\")\n",
    "        plt.ylabel(\"Frequency\")\n",
    "        plt.show()\n",
    "        plt.close('all')\n",
    "    except:\n",
    "        print 'Please Input Numbers Only'"
   ]
  },
  {
   "cell_type": "markdown",
   "metadata": {},
   "source": [
    "Run the cell below. Input your numbers and seperate them with comma.  \n",
    "As you can see, the variable \"numbers\" stores the numbers that you input and the variable \"bins\" contains the number of bins you want your histogram has. \"numbers\" and \"bins\" are passed as arguments of the function \"histogram\".  \n",
    "After processing, the function will output a histogram for your data.  "
   ]
  },
  {
   "cell_type": "code",
   "execution_count": 9,
   "metadata": {
    "collapsed": false
   },
   "outputs": [
    {
     "name": "stdout",
     "output_type": "stream",
     "text": [
      "Please Enter the Numbers: 1,2,3,2.4,2.3,4,3,2\n",
      "Please Enter the Number of Bins: 4\n"
     ]
    },
    {
     "data": {
      "image/png": "[encoded data removed]",
      "text/plain": [
       "<matplotlib.figure.Figure at 0x10bf0dd10>"
      ]
     },
     "metadata": {},
     "output_type": "display_data"
    }
   ],
   "source": [
    "numbers = raw_input('Please Enter the Numbers: ')\n",
    "bins=int(raw_input('Please Enter the Number of Bins: '))\n",
    "histogram(numbers,bins)"
   ]
  },
  {
   "cell_type": "code",
   "execution_count": null,
   "metadata": {
    "collapsed": true
   },
   "outputs": [],
   "source": []
  }
 ],
 "metadata": {
  "anaconda-cloud": {},
  "kernelspec": {
   "display_name": "Python [default]",
   "language": "python",
   "name": "python2"
  },
  "language_info": {
   "codemirror_mode": {
    "name": "ipython",
    "version": 2
   },
   "file_extension": ".py",
   "mimetype": "text/x-python",
   "name": "python",
   "nbconvert_exporter": "python",
   "pygments_lexer": "ipython2",
   "version": "2.7.13"
  }
 },
 "nbformat": 4,
 "nbformat_minor": 2
}
