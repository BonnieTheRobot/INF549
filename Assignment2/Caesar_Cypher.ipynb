{
 "cells": [
  {
   "cell_type": "markdown",
   "metadata": {},
   "source": [
    "# Caesar Cypher"
   ]
  },
  {
   "cell_type": "markdown",
   "metadata": {},
   "source": [
    "** This following cell contains some predefined functions to implement Caesar Cypher. Please make sure you have run this cell before you run other cells in this notebook.**"
   ]
  },
  {
   "cell_type": "code",
   "execution_count": 2,
   "metadata": {
    "collapsed": true
   },
   "outputs": [],
   "source": [
    "def linebreak(text):\n",
    "    string=\"\"\n",
    "    for ch in text:\n",
    "        string+=ch\n",
    "        if ch == \".\" or ch == \"!\" or ch == \"?\":\n",
    "            string+=\"\\n\"\n",
    "    return string\n",
    "\n",
    "def cipher(text,key):\n",
    "    import string\n",
    "    stri=\"\"\n",
    "    for ch in text:\n",
    "        if ch not in string.ascii_letters:\n",
    "            stri+=ch\n",
    "        else:\n",
    "            output = chr(ord(ch) + key)\n",
    "            outputNum = ord(output)\n",
    "            if 64 < outputNum < 91 or 96 <outputNum < 123:\n",
    "                        stri+=output\n",
    "            else:\n",
    "                x=chr(outputNum-26)\n",
    "                stri+=x\n",
    "    return stri"
   ]
  },
  {
   "cell_type": "markdown",
   "metadata": {},
   "source": [
    "## Line Break##"
   ]
  },
  {
   "cell_type": "markdown",
   "metadata": {},
   "source": [
    "Before we run the following cells, let's learn some programming concepts which will help us understand how data flows from different coding cells.  \n",
    "**Value** is One of the basic units of data, like a number or string, that a program manipulates.  \n",
    "**Variable** is a name that refers to a value.  \n",
    "In the context of programming, a **function** is a named sequence of statements that performs a computation. For example, linebreak( ) is a function.  \n",
    "The expression in parentheses is called the **argument** of the function. The argument is a value or variable that we are passing into the function as input to the function. For example, \"text\" is the argument of the function linebreak(  )  "
   ]
  },
  {
   "cell_type": "markdown",
   "metadata": {},
   "source": [
    "As you can see, the variable \"text\" stores the text that you input and is passed as an argument of the function \"linebreak\".  \n",
    "After processing, the linebreak function will output a text with line break."
   ]
  },
  {
   "cell_type": "code",
   "execution_count": 6,
   "metadata": {
    "collapsed": false
   },
   "outputs": [
    {
     "name": "stdout",
     "output_type": "stream",
     "text": [
      "Please Enter the Text You Want to Encipher: Four score and seven years ago our fathers brought forth on this continent, a new nation, conceived in Liberty, and dedicated to the proposition that all men are created equal.  Now we are engaged in a great civil war, testing whether that nation, or any nation so conceived and so dedicated, can long endure. We are met on a great battle-field of that war. We have come to dedicate a portion of that field, as a final resting place for those who here gave their lives that that nation might live. It is altogether fitting and proper that we should do this.  But, in a larger sense, we can not dedicate -- we can not consecrate -- we can not hallow -- this ground. The brave men, living and dead, who struggled here, have consecrated it, far above our poor power to add or detract. The world will little note, nor long remember what we say here, but it can never forget what they did here. It is for us the living, rather, to be dedicated here to the unfinished work which they who fought here have thus far so nobly advanced. It is rather for us to be here dedicated to the great task remaining before us -- that from these honored dead we take increased devotion to that cause for which they gave the last full measure of devotion -- that we here highly resolve that these dead shall not have died in vain -- that this nation, under God, shall have a new birth of freedom -- and that government of the people, by the people, for the people, shall not perish from the earth.\n"
     ]
    }
   ],
   "source": [
    "text=raw_input('Please Enter the Text You Want to Encipher: ')\n",
    "textLineBreak=linebreak(text)"
   ]
  },
  {
   "cell_type": "code",
   "execution_count": 7,
   "metadata": {
    "collapsed": false
   },
   "outputs": [
    {
     "name": "stdout",
     "output_type": "stream",
     "text": [
      "======Text with Line Breaks=========\n",
      "Four score and seven years ago our fathers brought forth on this continent, a new nation, conceived in Liberty, and dedicated to the proposition that all men are created equal.\n",
      "  Now we are engaged in a great civil war, testing whether that nation, or any nation so conceived and so dedicated, can long endure.\n",
      " We are met on a great battle-field of that war.\n",
      " We have come to dedicate a portion of that field, as a final resting place for those who here gave their lives that that nation might live.\n",
      " It is altogether fitting and proper that we should do this.\n",
      "  But, in a larger sense, we can not dedicate -- we can not consecrate -- we can not hallow -- this ground.\n",
      " The brave men, living and dead, who struggled here, have consecrated it, far above our poor power to add or detract.\n",
      " The world will little note, nor long remember what we say here, but it can never forget what they did here.\n",
      " It is for us the living, rather, to be dedicated here to the unfinished work which they who fought here have thus far so nobly advanced.\n",
      " It is rather for us to be here dedicated to the great task remaining before us -- that from these honored dead we take increased devotion to that cause for which they gave the last full measure of devotion -- that we here highly resolve that these dead shall not have died in vain -- that this nation, under God, shall have a new birth of freedom -- and that government of the people, by the people, for the people, shall not perish from the earth.\n",
      "\n"
     ]
    }
   ],
   "source": [
    "print \"======Text with Line Breaks=========\"\n",
    "print textLineBreak"
   ]
  },
  {
   "cell_type": "markdown",
   "metadata": {},
   "source": [
    "## Caesar ##"
   ]
  },
  {
   "cell_type": "markdown",
   "metadata": {},
   "source": [
    "The variable \"textLineBreak\" comes from the last step and stores the text with line break. The variable \"key\" stores the shift key you want to use.   \n",
    "Both of them are the arguments of the function \"cipher\". Run this cell and then you will get an encrypted text with the shift key you provides."
   ]
  },
  {
   "cell_type": "code",
   "execution_count": 5,
   "metadata": {
    "collapsed": false
   },
   "outputs": [
    {
     "name": "stdout",
     "output_type": "stream",
     "text": [
      "Please Enter Shift Key: 3\n",
      "Irxu vfruh dqg vhyhq bhduv djr rxu idwkhuv eurxjkw iruwk rq wklv frqwlqhqw, d qhz qdwlrq, frqfhlyhg lq Olehuwb, dqg ghglfdwhg wr wkh sursrvlwlrq wkdw doo phq duh fuhdwhg htxdo.\n",
      "  Qrz zh duh hqjdjhg lq d juhdw flylo zdu, whvwlqj zkhwkhu wkdw qdwlrq, ru dqb qdwlrq vr frqfhlyhg dqg vr ghglfdwhg, fdq orqj hqgxuh.\n",
      " Zh duh phw rq d juhdw edwwoh-ilhog ri wkdw zdu.\n",
      " Zh kdyh frph wr ghglfdwh d sruwlrq ri wkdw ilhog, dv d ilqdo uhvwlqj sodfh iru wkrvh zkr khuh jdyh wkhlu olyhv wkdw wkdw qdwlrq pljkw olyh.\n",
      " Lw lv dowrjhwkhu ilwwlqj dqg surshu wkdw zh vkrxog gr wklv.\n",
      "  Exw, lq d odujhu vhqvh, zh fdq qrw ghglfdwh -- zh fdq qrw frqvhfudwh -- zh fdq qrw kdoorz -- wklv jurxqg.\n",
      " Wkh eudyh phq, olylqj dqg ghdg, zkr vwuxjjohg khuh, kdyh frqvhfudwhg lw, idu deryh rxu srru srzhu wr dgg ru ghwudfw.\n",
      " Wkh zruog zloo olwwoh qrwh, qru orqj uhphpehu zkdw zh vdb khuh, exw lw fdq qhyhu irujhw zkdw wkhb glg khuh.\n",
      " Lw lv iru xv wkh olylqj, udwkhu, wr eh ghglfdwhg khuh wr wkh xqilqlvkhg zrun zklfk wkhb zkr irxjkw khuh kdyh wkxv idu vr qreob dgydqfhg.\n",
      " Lw lv udwkhu iru xv wr eh khuh ghglfdwhg wr wkh juhdw wdvn uhpdlqlqj ehiruh xv -- wkdw iurp wkhvh krqruhg ghdg zh wdnh lqfuhdvhg ghyrwlrq wr wkdw fdxvh iru zklfk wkhb jdyh wkh odvw ixoo phdvxuh ri ghyrwlrq -- wkdw zh khuh kljkob uhvroyh wkdw wkhvh ghdg vkdoo qrw kdyh glhg lq ydlq -- wkdw wklv qdwlrq, xqghu Jrg, vkdoo kdyh d qhz eluwk ri iuhhgrp -- dqg wkdw jryhuqphqw ri wkh shrsoh, eb wkh shrsoh, iru wkh shrsoh, vkdoo qrw shulvk iurp wkh hduwk.\n",
      "\n"
     ]
    }
   ],
   "source": [
    "key = int(raw_input('Please Enter Shift Key: '))\n",
    "textCiphered=cipher(textLineBreak,key)\n",
    "print textCiphered"
   ]
  },
  {
   "cell_type": "code",
   "execution_count": null,
   "metadata": {
    "collapsed": true
   },
   "outputs": [],
   "source": []
  }
 ],
 "metadata": {
  "anaconda-cloud": {},
  "kernelspec": {
   "display_name": "Python [default]",
   "language": "python",
   "name": "python2"
  },
  "language_info": {
   "codemirror_mode": {
    "name": "ipython",
    "version": 2
   },
   "file_extension": ".py",
   "mimetype": "text/x-python",
   "name": "python",
   "nbconvert_exporter": "python",
   "pygments_lexer": "ipython2",
   "version": "2.7.13"
  }
 },
 "nbformat": 4,
 "nbformat_minor": 2
}
