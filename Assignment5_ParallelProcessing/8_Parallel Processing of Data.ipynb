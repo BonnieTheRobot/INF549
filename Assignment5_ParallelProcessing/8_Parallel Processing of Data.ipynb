{
 "cells": [
  {
   "cell_type": "markdown",
   "metadata": {},
   "source": [
    "# Parallel Processing of Data\n",
    "This notebook will enable you to understand how to analyze data in parallel using the map function of MapReduce. \n",
    "\n",
    "Please note that the map function used in this notebook is not a real map. A real MapReduce framework like **_Hadoop_** or **_Spark_** requires some additional configuration and normally will not be applied to data that is so small. Therefore, you might found the runtime between different parallel processing notebooks does not vary too much."
   ]
  },
  {
   "cell_type": "code",
   "execution_count": null,
   "metadata": {
    "collapsed": true
   },
   "outputs": [],
   "source": [
    "import time\n",
    "import math\n",
    "\n",
    "def breakDoc(text,nToBreakInto):\n",
    "    textList=[]\n",
    "    fLength = len(text)\n",
    "    nLinesInEach = int(math.ceil(float(fLength)/nToBreakInto))\n",
    "    for i in range(nToBreakInto):\n",
    "        startIndex=i*nLinesInEach\n",
    "        endIndex=(i+1)*nLinesInEach\n",
    "        if endIndex<=fLength-1:\n",
    "            textList.append(text[startIndex:endIndex])\n",
    "        else:\n",
    "            textList.append(text[startIndex:])\n",
    "    return textList\n",
    "\n",
    "def loadDocuments():\n",
    "    filename=input('Please Enter the Text You Want to Encipher: ')\n",
    "    with open(filename) as f:\n",
    "        text=f.read()\n",
    "    return text\n",
    "\n",
    "def cipher(text,key):\n",
    "    import string\n",
    "    stri=\"\"\n",
    "    for ch in text:\n",
    "        if ch not in string.ascii_letters:\n",
    "            stri+=ch\n",
    "        else:\n",
    "            output = chr(ord(ch) + key)\n",
    "            outputNum = ord(output)\n",
    "            if 64 < outputNum < 91 or 96 <outputNum < 123:\n",
    "                        stri+=output\n",
    "            else:\n",
    "                x=chr(outputNum-26)\n",
    "                stri+=x\n",
    "    return stri\n",
    "\n",
    "def CCMap(text,key,nToBreakInto):\n",
    "    #starttime = datetime.datetime.now()\n",
    "    start = time.clock()\n",
    "    textList=breakDoc(text,nToBreakInto)\n",
    "    encodedList=list(map(cipher,textList,[key]*len(textList)))\n",
    "    #for i in encodedList:\n",
    "    #    print(i)\n",
    "    print(\"Runtime: \",(time.clock()-start),\"seconds\")\n",
    "    return encodedList"
   ]
  },
  {
   "cell_type": "markdown",
   "metadata": {},
   "source": [
    "## Encrpyt one document with Map\n",
    "The cell below breaks a document into several chunks and encrypts each chunk in turn. It uses the first two phases of the divide-and-conquer strategy, that is, first splitting the data and then processing the data. Once the function is done, it will output its runtime.\n",
    "\n",
    "Please use the text file called \"merge.txt\". It includes three novels, _Pride and Prejudice_, _Jane Eyre_ and _Crime and Punishment_."
   ]
  },
  {
   "cell_type": "code",
   "execution_count": null,
   "metadata": {},
   "outputs": [],
   "source": [
    "text=loadDocuments()\n",
    "nToBreakInto=int(input(\"Please Enter the Number of Chunks: \"))\n",
    "key=int(input(\"Please Enter Shift Key: \"))\n",
    "encodedList=CCMap(text,key,nToBreakInto)"
   ]
  },
  {
   "cell_type": "markdown",
   "metadata": {},
   "source": [
    "** Print the encrypted document**"
   ]
  },
  {
   "cell_type": "code",
   "execution_count": null,
   "metadata": {},
   "outputs": [],
   "source": [
    "for i in encodedList:\n",
    "    print(i)"
   ]
  }
 ],
 "metadata": {
  "anaconda-cloud": {},
  "kernelspec": {
   "display_name": "Python 3",
   "language": "python",
   "name": "python3"
  },
  "language_info": {
   "codemirror_mode": {
    "name": "ipython",
    "version": 3
   },
   "file_extension": ".py",
   "mimetype": "text/x-python",
   "name": "python",
   "nbconvert_exporter": "python",
   "pygments_lexer": "ipython3",
   "version": "3.6.3"
  }
 },
 "nbformat": 4,
 "nbformat_minor": 2
}
