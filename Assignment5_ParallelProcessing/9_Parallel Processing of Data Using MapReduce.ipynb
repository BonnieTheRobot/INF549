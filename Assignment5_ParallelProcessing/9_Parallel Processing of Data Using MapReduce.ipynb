{
 "cells": [
  {
   "cell_type": "markdown",
   "metadata": {},
   "source": [
    "# Parallel Processing of Data Using MapReduce\n",
    "This notebook will enable you to understand how to analyze data in parallel using the map and reduce functions of MapReduce.\n",
    "\n",
    "Please note that the map function used in this notebook is not a real map. A real MapReduce framework like Hadoop or Spark requires some additional configuration and normally will not be applied to data that is so small. Therefore, you might found the runtime between different parallel processing notebooks does not vary too much."
   ]
  },
  {
   "cell_type": "code",
   "execution_count": null,
   "metadata": {
    "collapsed": true
   },
   "outputs": [],
   "source": [
    "import time\n",
    "from functools import reduce\n",
    "import sys\n",
    "import math\n",
    "\n",
    "def breakDoc(text,nToBreakInto):\n",
    "    textList=[]\n",
    "    fLength = len(text)\n",
    "    nLinesInEach = int(math.ceil(float(fLength)/nToBreakInto))\n",
    "    for i in range(nToBreakInto):\n",
    "        startIndex=i*nLinesInEach\n",
    "        endIndex=(i+1)*nLinesInEach\n",
    "        if endIndex<=fLength-1:\n",
    "            textList.append(text[startIndex:endIndex])\n",
    "        else:\n",
    "            textList.append(text[startIndex:])\n",
    "    return textList\n",
    "\n",
    "def loadText():\n",
    "    textList=[]\n",
    "    condition=True\n",
    "    while condition:\n",
    "        text=input('Please Enter the Text You Want to Encipher: ')\n",
    "        if text=='stop':\n",
    "            condition=False\n",
    "        else:\n",
    "            textList.append(text)\n",
    "    return textList\n",
    "\n",
    "def cipher(text,key):\n",
    "    import string\n",
    "    stri=\"\"\n",
    "    for ch in text:\n",
    "        if ch not in string.ascii_letters:\n",
    "            stri+=ch\n",
    "        else:\n",
    "            output = chr(ord(ch) + key)\n",
    "            outputNum = ord(output)\n",
    "            if 64 < outputNum < 91 or 96 <outputNum < 123:\n",
    "                        stri+=output\n",
    "            else:\n",
    "                x=chr(outputNum-26)\n",
    "                stri+=x\n",
    "    return stri\n",
    "\n",
    "def CCMapReduce(text,key,nToBreakInto):\n",
    "    #starttime = datetime.datetime.now()\n",
    "    start = time.clock()\n",
    "    textList=breakDoc(text,nToBreakInto)\n",
    "    encodedList=list(map(cipher,textList,[key]*len(textList)))\n",
    "    encodedText=reduce(lambda x,y:x+y,encodedList)\n",
    "    #endtime = datetime.datetime.now()\n",
    "    #print \"Runtime: \",(endtime - starttime).seconds,\"seconds\"\n",
    "    print(\"Runtime: \",(time.clock()-start),\"seconds\")\n",
    "    return encodedText\n",
    "\n",
    "def loadDocument():\n",
    "    filename=input('Please Enter the Text You Want to Encipher: ')\n",
    "    with open(filename) as f:\n",
    "        text=f.read()\n",
    "    return text"
   ]
  },
  {
   "cell_type": "markdown",
   "metadata": {},
   "source": [
    "## Encrpyt one document with MapReduce\n",
    "The cell below breaks a document into several chunks, encrypt each of the chunk separately and joins the results into one document. It uses the divide-and-conquer strategy, that is, splitting the data, processing the data, and joining the results. Once the cell below is run, it will output the runtime of the function.\n",
    "\n",
    "Please use the text file called \"merge.txt\". It includes three novels, _Pride and Prejudice_, _Jane Eyre_ and _Crime and Punishment_."
   ]
  },
  {
   "cell_type": "code",
   "execution_count": null,
   "metadata": {},
   "outputs": [],
   "source": [
    "text=loadDocument()\n",
    "nToBreakInto=int(input(\"Please Enter the Number of Chunks: \"))\n",
    "key=int(input(\"Please Enter Shift Key: \"))\n",
    "encodedText=CCMapReduce(text,key,nToBreakInto)"
   ]
  },
  {
   "cell_type": "markdown",
   "metadata": {},
   "source": [
    "** Print the encrypted document**"
   ]
  },
  {
   "cell_type": "code",
   "execution_count": null,
   "metadata": {},
   "outputs": [],
   "source": [
    "print(encodedText)"
   ]
  }
 ],
 "metadata": {
  "anaconda-cloud": {},
  "kernelspec": {
   "display_name": "Python 3",
   "language": "python",
   "name": "python3"
  },
  "language_info": {
   "codemirror_mode": {
    "name": "ipython",
    "version": 3
   },
   "file_extension": ".py",
   "mimetype": "text/x-python",
   "name": "python",
   "nbconvert_exporter": "python",
   "pygments_lexer": "ipython3",
   "version": "3.6.3"
  }
 },
 "nbformat": 4,
 "nbformat_minor": 2
}
